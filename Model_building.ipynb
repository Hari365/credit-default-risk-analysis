{
 "cells": [
  {
   "cell_type": "code",
   "execution_count": 1,
   "metadata": {},
   "outputs": [],
   "source": [
    "import numpy as np\n",
    "import pandas as pd\n",
    "import matplotlib.pyplot as plt\n",
    "import seaborn as sns"
   ]
  },
  {
   "cell_type": "code",
   "execution_count": 2,
   "metadata": {},
   "outputs": [],
   "source": [
    "app_tr = pd.read_csv('application_train.csv')"
   ]
  },
  {
   "cell_type": "code",
   "execution_count": 3,
   "metadata": {},
   "outputs": [],
   "source": [
    "y = app_tr.TARGET.values"
   ]
  },
  {
   "cell_type": "code",
   "execution_count": 4,
   "metadata": {},
   "outputs": [
    {
     "data": {
      "text/plain": [
       "(307511, 122)"
      ]
     },
     "execution_count": 4,
     "metadata": {},
     "output_type": "execute_result"
    }
   ],
   "source": [
    "app_tr.shape"
   ]
  },
  {
   "cell_type": "code",
   "execution_count": 5,
   "metadata": {},
   "outputs": [],
   "source": [
    "del app_tr"
   ]
  },
  {
   "cell_type": "code",
   "execution_count": 6,
   "metadata": {},
   "outputs": [],
   "source": [
    "app = pd.read_csv('application_ready.csv')"
   ]
  },
  {
   "cell_type": "code",
   "execution_count": 7,
   "metadata": {},
   "outputs": [
    {
     "data": {
      "text/plain": [
       "(356255, 56)"
      ]
     },
     "execution_count": 7,
     "metadata": {},
     "output_type": "execute_result"
    }
   ],
   "source": [
    "app.shape"
   ]
  },
  {
   "cell_type": "code",
   "execution_count": 8,
   "metadata": {},
   "outputs": [
    {
     "data": {
      "text/plain": [
       "Index(['Unnamed: 0', 'SK_ID_CURR', 'NAME_CONTRACT_TYPE', 'CODE_GENDER',\n",
       "       'FLAG_OWN_CAR', 'FLAG_OWN_REALTY', 'CNT_CHILDREN', 'AMT_INCOME_TOTAL',\n",
       "       'AMT_CREDIT', 'AMT_ANNUITY', 'AMT_GOODS_PRICE', 'NAME_EDUCATION_TYPE',\n",
       "       'NAME_FAMILY_STATUS', 'REGION_POPULATION_RELATIVE', 'DAYS_BIRTH',\n",
       "       'DAYS_EMPLOYED', 'DAYS_REGISTRATION', 'DAYS_ID_PUBLISH', 'OWN_CAR_AGE',\n",
       "       'OCCUPATION_TYPE', 'CNT_FAM_MEMBERS', 'WEEKDAY_APPR_PROCESS_START',\n",
       "       'HOUR_APPR_PROCESS_START', 'ORGANIZATION_TYPE', 'EXT_SOURCE_1',\n",
       "       'EXT_SOURCE_2', 'EXT_SOURCE_3', 'YEARS_BEGINEXPLUATATION_AVG',\n",
       "       'LIVINGAREA_AVG', 'YEARS_BEGINEXPLUATATION_MODE', 'LIVINGAREA_MODE',\n",
       "       'YEARS_BEGINEXPLUATATION_MEDI', 'LIVINGAREA_MEDI', 'TOTALAREA_MODE',\n",
       "       'OBS_30_CNT_SOCIAL_CIRCLE', 'DEF_30_CNT_SOCIAL_CIRCLE',\n",
       "       'OBS_60_CNT_SOCIAL_CIRCLE', 'DEF_60_CNT_SOCIAL_CIRCLE',\n",
       "       'DAYS_LAST_PHONE_CHANGE', 'AMT_REQ_CREDIT_BUREAU_YEAR',\n",
       "       'CREDIT_INCOME_RATIO', 'DAYS_EMPLOYED_ISNULL', 'ANNUITY_INCOME_RATIO',\n",
       "       'CREDIT_GOODS_PRICE_DIFF', 'ENTIRE_INCOME',\n",
       "       'CREDIT_ENTIRE_INCOME_RATIO', 'ANNUITY_ENTIRE_INCOME_RATIO',\n",
       "       'INCOME_PER_CHILD', 'INCOME_PER_FAM_MEMBER',\n",
       "       'ENTIRE_INCOME_PER_FAM_MEMBER', 'ENTIRE_INCOME_PER_CHILD',\n",
       "       'AMT_ANNUITY_ISNULL', 'DAYS_BIRTH_BINS', 'AMT_REQ_CREDIT_BUREAU_TOTAL',\n",
       "       'AMT_REQ_CREDIT_BUREAU_EMA', 'FLAG_OWN_PROPERTY'],\n",
       "      dtype='object')"
      ]
     },
     "execution_count": 8,
     "metadata": {},
     "output_type": "execute_result"
    }
   ],
   "source": [
    "app.columns"
   ]
  },
  {
   "cell_type": "code",
   "execution_count": 9,
   "metadata": {},
   "outputs": [],
   "source": [
    "app.index = app['SK_ID_CURR']"
   ]
  },
  {
   "cell_type": "code",
   "execution_count": 10,
   "metadata": {},
   "outputs": [],
   "source": [
    "app.drop(['Unnamed: 0', 'DAYS_BIRTH_BINS', 'FLAG_OWN_CAR', 'FLAG_OWN_REALTY', 'SK_ID_CURR'], axis=1, inplace=True)"
   ]
  },
  {
   "cell_type": "code",
   "execution_count": 11,
   "metadata": {},
   "outputs": [
    {
     "data": {
      "text/plain": [
       "NAME_CONTRACT_TYPE              0\n",
       "CODE_GENDER                     0\n",
       "CNT_CHILDREN                    0\n",
       "AMT_INCOME_TOTAL                0\n",
       "AMT_CREDIT                      0\n",
       "AMT_ANNUITY                     0\n",
       "AMT_GOODS_PRICE                 0\n",
       "NAME_EDUCATION_TYPE             0\n",
       "NAME_FAMILY_STATUS              0\n",
       "REGION_POPULATION_RELATIVE      0\n",
       "DAYS_BIRTH                      0\n",
       "DAYS_EMPLOYED                   0\n",
       "DAYS_REGISTRATION               0\n",
       "DAYS_ID_PUBLISH                 0\n",
       "OWN_CAR_AGE                     0\n",
       "OCCUPATION_TYPE                 0\n",
       "CNT_FAM_MEMBERS                 0\n",
       "WEEKDAY_APPR_PROCESS_START      0\n",
       "HOUR_APPR_PROCESS_START         0\n",
       "ORGANIZATION_TYPE               0\n",
       "EXT_SOURCE_1                    0\n",
       "EXT_SOURCE_2                    0\n",
       "EXT_SOURCE_3                    2\n",
       "YEARS_BEGINEXPLUATATION_AVG     0\n",
       "LIVINGAREA_AVG                  0\n",
       "YEARS_BEGINEXPLUATATION_MODE    0\n",
       "LIVINGAREA_MODE                 0\n",
       "YEARS_BEGINEXPLUATATION_MEDI    0\n",
       "LIVINGAREA_MEDI                 0\n",
       "TOTALAREA_MODE                  0\n",
       "OBS_30_CNT_SOCIAL_CIRCLE        0\n",
       "DEF_30_CNT_SOCIAL_CIRCLE        0\n",
       "OBS_60_CNT_SOCIAL_CIRCLE        0\n",
       "DEF_60_CNT_SOCIAL_CIRCLE        0\n",
       "DAYS_LAST_PHONE_CHANGE          0\n",
       "AMT_REQ_CREDIT_BUREAU_YEAR      0\n",
       "CREDIT_INCOME_RATIO             0\n",
       "DAYS_EMPLOYED_ISNULL            0\n",
       "ANNUITY_INCOME_RATIO            0\n",
       "CREDIT_GOODS_PRICE_DIFF         0\n",
       "ENTIRE_INCOME                   0\n",
       "CREDIT_ENTIRE_INCOME_RATIO      0\n",
       "ANNUITY_ENTIRE_INCOME_RATIO     0\n",
       "INCOME_PER_CHILD                0\n",
       "INCOME_PER_FAM_MEMBER           0\n",
       "ENTIRE_INCOME_PER_FAM_MEMBER    0\n",
       "ENTIRE_INCOME_PER_CHILD         0\n",
       "AMT_ANNUITY_ISNULL              0\n",
       "AMT_REQ_CREDIT_BUREAU_TOTAL     0\n",
       "AMT_REQ_CREDIT_BUREAU_EMA       0\n",
       "FLAG_OWN_PROPERTY               0\n",
       "dtype: int64"
      ]
     },
     "execution_count": 11,
     "metadata": {},
     "output_type": "execute_result"
    }
   ],
   "source": [
    "app.isnull().sum()"
   ]
  },
  {
   "cell_type": "code",
   "execution_count": 12,
   "metadata": {},
   "outputs": [],
   "source": [
    "app['EXT_SOURCE_3'].fillna(app['EXT_SOURCE_3'].mean(), inplace=True)"
   ]
  },
  {
   "cell_type": "code",
   "execution_count": 13,
   "metadata": {},
   "outputs": [],
   "source": [
    "bureau = pd.read_csv('bureau_ready_for_appl.csv')"
   ]
  },
  {
   "cell_type": "code",
   "execution_count": 14,
   "metadata": {},
   "outputs": [
    {
     "data": {
      "text/plain": [
       "Index(['Unnamed: 0', 'SK_ID_CURR', 'SK_ID_BUREAU', 'DAYS_CREDIT',\n",
       "       'CREDIT_DAY_OVERDUE', 'DAYS_CREDIT_ENDDATE', 'DAYS_ENDDATE_FACT',\n",
       "       'AMT_CREDIT_MAX_OVERDUE', 'CNT_CREDIT_PROLONG', 'AMT_CREDIT_SUM',\n",
       "       'AMT_CREDIT_SUM_DEBT', 'AMT_CREDIT_SUM_LIMIT', 'AMT_CREDIT_SUM_OVERDUE',\n",
       "       'DAYS_CREDIT_UPDATE', 'AMT_ANNUITY', 'Active', 'Bad debt', 'Closed',\n",
       "       'Sold', 'currency 1', 'currency 2', 'currency 3', 'currency 4',\n",
       "       'Another type of loan', 'Car loan', 'Cash loan (non-earmarked)',\n",
       "       'Consumer credit', 'Credit card', 'Interbank credit',\n",
       "       'Loan for business development',\n",
       "       'Loan for purchase of shares (margin lending)',\n",
       "       'Loan for the purchase of equipment',\n",
       "       'Loan for working capital replenishment', 'Microloan',\n",
       "       'Mobile operator loan', 'Mortgage', 'Real estate loan',\n",
       "       'Unknown type of loan', 'LATE_DAYS'],\n",
       "      dtype='object')"
      ]
     },
     "execution_count": 14,
     "metadata": {},
     "output_type": "execute_result"
    }
   ],
   "source": [
    "bureau.columns"
   ]
  },
  {
   "cell_type": "code",
   "execution_count": 15,
   "metadata": {},
   "outputs": [],
   "source": [
    "bureau.drop('Unnamed: 0', axis=1, inplace=True)"
   ]
  },
  {
   "cell_type": "code",
   "execution_count": 16,
   "metadata": {},
   "outputs": [
    {
     "data": {
      "text/plain": [
       "SK_ID_CURR                                            0\n",
       "SK_ID_BUREAU                                          0\n",
       "DAYS_CREDIT                                           0\n",
       "CREDIT_DAY_OVERDUE                                    0\n",
       "DAYS_CREDIT_ENDDATE                                   0\n",
       "DAYS_ENDDATE_FACT                                     0\n",
       "AMT_CREDIT_MAX_OVERDUE                          1124488\n",
       "CNT_CREDIT_PROLONG                                    0\n",
       "AMT_CREDIT_SUM                                        0\n",
       "AMT_CREDIT_SUM_DEBT                                   0\n",
       "AMT_CREDIT_SUM_LIMIT                                  0\n",
       "AMT_CREDIT_SUM_OVERDUE                                0\n",
       "DAYS_CREDIT_UPDATE                                    0\n",
       "AMT_ANNUITY                                           0\n",
       "Active                                                0\n",
       "Bad debt                                              0\n",
       "Closed                                                0\n",
       "Sold                                                  0\n",
       "currency 1                                            0\n",
       "currency 2                                            0\n",
       "currency 3                                            0\n",
       "currency 4                                            0\n",
       "Another type of loan                                  0\n",
       "Car loan                                              0\n",
       "Cash loan (non-earmarked)                             0\n",
       "Consumer credit                                       0\n",
       "Credit card                                           0\n",
       "Interbank credit                                      0\n",
       "Loan for business development                         0\n",
       "Loan for purchase of shares (margin lending)          0\n",
       "Loan for the purchase of equipment                    0\n",
       "Loan for working capital replenishment                0\n",
       "Microloan                                             0\n",
       "Mobile operator loan                                  0\n",
       "Mortgage                                              0\n",
       "Real estate loan                                      0\n",
       "Unknown type of loan                                  0\n",
       "LATE_DAYS                                        666442\n",
       "dtype: int64"
      ]
     },
     "execution_count": 16,
     "metadata": {},
     "output_type": "execute_result"
    }
   ],
   "source": [
    "bureau.isnull().sum()"
   ]
  },
  {
   "cell_type": "code",
   "execution_count": 17,
   "metadata": {},
   "outputs": [],
   "source": [
    "bureau['AMT_CREDIT_MAX_OVERDUE'].fillna(bureau['AMT_CREDIT_MAX_OVERDUE'].mean(), inplace=True)"
   ]
  },
  {
   "cell_type": "code",
   "execution_count": 18,
   "metadata": {},
   "outputs": [],
   "source": [
    "bureau['LATE_DAYS'].fillna(bureau['LATE_DAYS'].mean(), inplace=True)"
   ]
  },
  {
   "cell_type": "code",
   "execution_count": 19,
   "metadata": {},
   "outputs": [],
   "source": [
    "bureau_balance = pd.read_csv('bureau_balance_ready_for_appl.csv')"
   ]
  },
  {
   "cell_type": "code",
   "execution_count": 20,
   "metadata": {},
   "outputs": [
    {
     "data": {
      "text/plain": [
       "Index(['SK_ID_BUREAU', 'score', 'SK_ID_BUREAU.1', 'STATUS_X'], dtype='object')"
      ]
     },
     "execution_count": 20,
     "metadata": {},
     "output_type": "execute_result"
    }
   ],
   "source": [
    "bureau_balance.columns"
   ]
  },
  {
   "cell_type": "code",
   "execution_count": 21,
   "metadata": {},
   "outputs": [],
   "source": [
    "bureau_balance.drop('SK_ID_BUREAU.1', inplace=True, axis=1)"
   ]
  },
  {
   "cell_type": "code",
   "execution_count": 22,
   "metadata": {},
   "outputs": [
    {
     "data": {
      "text/html": [
       "<div>\n",
       "<style scoped>\n",
       "    .dataframe tbody tr th:only-of-type {\n",
       "        vertical-align: middle;\n",
       "    }\n",
       "\n",
       "    .dataframe tbody tr th {\n",
       "        vertical-align: top;\n",
       "    }\n",
       "\n",
       "    .dataframe thead th {\n",
       "        text-align: right;\n",
       "    }\n",
       "</style>\n",
       "<table border=\"1\" class=\"dataframe\">\n",
       "  <thead>\n",
       "    <tr style=\"text-align: right;\">\n",
       "      <th></th>\n",
       "      <th>SK_ID_CURR</th>\n",
       "      <th>SK_ID_BUREAU</th>\n",
       "      <th>DAYS_CREDIT</th>\n",
       "      <th>CREDIT_DAY_OVERDUE</th>\n",
       "      <th>DAYS_CREDIT_ENDDATE</th>\n",
       "      <th>DAYS_ENDDATE_FACT</th>\n",
       "      <th>AMT_CREDIT_MAX_OVERDUE</th>\n",
       "      <th>CNT_CREDIT_PROLONG</th>\n",
       "      <th>AMT_CREDIT_SUM</th>\n",
       "      <th>AMT_CREDIT_SUM_DEBT</th>\n",
       "      <th>...</th>\n",
       "      <th>Loan for business development</th>\n",
       "      <th>Loan for purchase of shares (margin lending)</th>\n",
       "      <th>Loan for the purchase of equipment</th>\n",
       "      <th>Loan for working capital replenishment</th>\n",
       "      <th>Microloan</th>\n",
       "      <th>Mobile operator loan</th>\n",
       "      <th>Mortgage</th>\n",
       "      <th>Real estate loan</th>\n",
       "      <th>Unknown type of loan</th>\n",
       "      <th>LATE_DAYS</th>\n",
       "    </tr>\n",
       "  </thead>\n",
       "  <tbody>\n",
       "    <tr>\n",
       "      <th>0</th>\n",
       "      <td>215354</td>\n",
       "      <td>5714462</td>\n",
       "      <td>-497</td>\n",
       "      <td>0</td>\n",
       "      <td>-153.000000</td>\n",
       "      <td>-153.000000</td>\n",
       "      <td>3825.417661</td>\n",
       "      <td>0</td>\n",
       "      <td>91323.00</td>\n",
       "      <td>0.000000</td>\n",
       "      <td>...</td>\n",
       "      <td>0</td>\n",
       "      <td>0</td>\n",
       "      <td>0</td>\n",
       "      <td>0</td>\n",
       "      <td>0</td>\n",
       "      <td>0</td>\n",
       "      <td>0</td>\n",
       "      <td>0</td>\n",
       "      <td>0</td>\n",
       "      <td>0.000000</td>\n",
       "    </tr>\n",
       "    <tr>\n",
       "      <th>1</th>\n",
       "      <td>215354</td>\n",
       "      <td>5714463</td>\n",
       "      <td>-208</td>\n",
       "      <td>0</td>\n",
       "      <td>1075.000000</td>\n",
       "      <td>-1017.437148</td>\n",
       "      <td>3825.417661</td>\n",
       "      <td>0</td>\n",
       "      <td>225000.00</td>\n",
       "      <td>171342.000000</td>\n",
       "      <td>...</td>\n",
       "      <td>0</td>\n",
       "      <td>0</td>\n",
       "      <td>0</td>\n",
       "      <td>0</td>\n",
       "      <td>0</td>\n",
       "      <td>0</td>\n",
       "      <td>0</td>\n",
       "      <td>0</td>\n",
       "      <td>0</td>\n",
       "      <td>463.035865</td>\n",
       "    </tr>\n",
       "    <tr>\n",
       "      <th>2</th>\n",
       "      <td>215354</td>\n",
       "      <td>5714464</td>\n",
       "      <td>-203</td>\n",
       "      <td>0</td>\n",
       "      <td>528.000000</td>\n",
       "      <td>-1017.437148</td>\n",
       "      <td>3825.417661</td>\n",
       "      <td>0</td>\n",
       "      <td>464323.50</td>\n",
       "      <td>137085.119952</td>\n",
       "      <td>...</td>\n",
       "      <td>0</td>\n",
       "      <td>0</td>\n",
       "      <td>0</td>\n",
       "      <td>0</td>\n",
       "      <td>0</td>\n",
       "      <td>0</td>\n",
       "      <td>0</td>\n",
       "      <td>0</td>\n",
       "      <td>0</td>\n",
       "      <td>463.035865</td>\n",
       "    </tr>\n",
       "    <tr>\n",
       "      <th>3</th>\n",
       "      <td>215354</td>\n",
       "      <td>5714465</td>\n",
       "      <td>-203</td>\n",
       "      <td>0</td>\n",
       "      <td>510.517362</td>\n",
       "      <td>-1017.437148</td>\n",
       "      <td>3825.417661</td>\n",
       "      <td>0</td>\n",
       "      <td>90000.00</td>\n",
       "      <td>137085.119952</td>\n",
       "      <td>...</td>\n",
       "      <td>0</td>\n",
       "      <td>0</td>\n",
       "      <td>0</td>\n",
       "      <td>0</td>\n",
       "      <td>0</td>\n",
       "      <td>0</td>\n",
       "      <td>0</td>\n",
       "      <td>0</td>\n",
       "      <td>0</td>\n",
       "      <td>463.035865</td>\n",
       "    </tr>\n",
       "    <tr>\n",
       "      <th>4</th>\n",
       "      <td>215354</td>\n",
       "      <td>5714466</td>\n",
       "      <td>-629</td>\n",
       "      <td>0</td>\n",
       "      <td>1197.000000</td>\n",
       "      <td>-1017.437148</td>\n",
       "      <td>77674.500000</td>\n",
       "      <td>0</td>\n",
       "      <td>2700000.00</td>\n",
       "      <td>137085.119952</td>\n",
       "      <td>...</td>\n",
       "      <td>0</td>\n",
       "      <td>0</td>\n",
       "      <td>0</td>\n",
       "      <td>0</td>\n",
       "      <td>0</td>\n",
       "      <td>0</td>\n",
       "      <td>0</td>\n",
       "      <td>0</td>\n",
       "      <td>0</td>\n",
       "      <td>463.035865</td>\n",
       "    </tr>\n",
       "    <tr>\n",
       "      <th>5</th>\n",
       "      <td>215354</td>\n",
       "      <td>5714467</td>\n",
       "      <td>-273</td>\n",
       "      <td>0</td>\n",
       "      <td>27460.000000</td>\n",
       "      <td>-1017.437148</td>\n",
       "      <td>0.000000</td>\n",
       "      <td>0</td>\n",
       "      <td>180000.00</td>\n",
       "      <td>71017.380000</td>\n",
       "      <td>...</td>\n",
       "      <td>0</td>\n",
       "      <td>0</td>\n",
       "      <td>0</td>\n",
       "      <td>0</td>\n",
       "      <td>0</td>\n",
       "      <td>0</td>\n",
       "      <td>0</td>\n",
       "      <td>0</td>\n",
       "      <td>0</td>\n",
       "      <td>463.035865</td>\n",
       "    </tr>\n",
       "    <tr>\n",
       "      <th>6</th>\n",
       "      <td>215354</td>\n",
       "      <td>5714468</td>\n",
       "      <td>-43</td>\n",
       "      <td>0</td>\n",
       "      <td>79.000000</td>\n",
       "      <td>-1017.437148</td>\n",
       "      <td>0.000000</td>\n",
       "      <td>0</td>\n",
       "      <td>42103.80</td>\n",
       "      <td>42103.800000</td>\n",
       "      <td>...</td>\n",
       "      <td>0</td>\n",
       "      <td>0</td>\n",
       "      <td>0</td>\n",
       "      <td>0</td>\n",
       "      <td>0</td>\n",
       "      <td>0</td>\n",
       "      <td>0</td>\n",
       "      <td>0</td>\n",
       "      <td>0</td>\n",
       "      <td>463.035865</td>\n",
       "    </tr>\n",
       "    <tr>\n",
       "      <th>7</th>\n",
       "      <td>162297</td>\n",
       "      <td>5714469</td>\n",
       "      <td>-1896</td>\n",
       "      <td>0</td>\n",
       "      <td>-1684.000000</td>\n",
       "      <td>-1710.000000</td>\n",
       "      <td>14985.000000</td>\n",
       "      <td>0</td>\n",
       "      <td>76878.45</td>\n",
       "      <td>0.000000</td>\n",
       "      <td>...</td>\n",
       "      <td>0</td>\n",
       "      <td>0</td>\n",
       "      <td>0</td>\n",
       "      <td>0</td>\n",
       "      <td>0</td>\n",
       "      <td>0</td>\n",
       "      <td>0</td>\n",
       "      <td>0</td>\n",
       "      <td>0</td>\n",
       "      <td>26.000000</td>\n",
       "    </tr>\n",
       "    <tr>\n",
       "      <th>8</th>\n",
       "      <td>162297</td>\n",
       "      <td>5714470</td>\n",
       "      <td>-1146</td>\n",
       "      <td>0</td>\n",
       "      <td>-811.000000</td>\n",
       "      <td>-840.000000</td>\n",
       "      <td>0.000000</td>\n",
       "      <td>0</td>\n",
       "      <td>103007.70</td>\n",
       "      <td>0.000000</td>\n",
       "      <td>...</td>\n",
       "      <td>0</td>\n",
       "      <td>0</td>\n",
       "      <td>0</td>\n",
       "      <td>0</td>\n",
       "      <td>0</td>\n",
       "      <td>0</td>\n",
       "      <td>0</td>\n",
       "      <td>0</td>\n",
       "      <td>0</td>\n",
       "      <td>29.000000</td>\n",
       "    </tr>\n",
       "    <tr>\n",
       "      <th>9</th>\n",
       "      <td>162297</td>\n",
       "      <td>5714471</td>\n",
       "      <td>-1146</td>\n",
       "      <td>0</td>\n",
       "      <td>-484.000000</td>\n",
       "      <td>-1017.437148</td>\n",
       "      <td>0.000000</td>\n",
       "      <td>0</td>\n",
       "      <td>4500.00</td>\n",
       "      <td>0.000000</td>\n",
       "      <td>...</td>\n",
       "      <td>0</td>\n",
       "      <td>0</td>\n",
       "      <td>0</td>\n",
       "      <td>0</td>\n",
       "      <td>0</td>\n",
       "      <td>0</td>\n",
       "      <td>0</td>\n",
       "      <td>0</td>\n",
       "      <td>0</td>\n",
       "      <td>463.035865</td>\n",
       "    </tr>\n",
       "    <tr>\n",
       "      <th>10</th>\n",
       "      <td>162297</td>\n",
       "      <td>5714472</td>\n",
       "      <td>-1146</td>\n",
       "      <td>0</td>\n",
       "      <td>-180.000000</td>\n",
       "      <td>-1017.437148</td>\n",
       "      <td>0.000000</td>\n",
       "      <td>0</td>\n",
       "      <td>337500.00</td>\n",
       "      <td>0.000000</td>\n",
       "      <td>...</td>\n",
       "      <td>0</td>\n",
       "      <td>0</td>\n",
       "      <td>0</td>\n",
       "      <td>0</td>\n",
       "      <td>0</td>\n",
       "      <td>0</td>\n",
       "      <td>0</td>\n",
       "      <td>0</td>\n",
       "      <td>0</td>\n",
       "      <td>463.035865</td>\n",
       "    </tr>\n",
       "    <tr>\n",
       "      <th>11</th>\n",
       "      <td>162297</td>\n",
       "      <td>5714473</td>\n",
       "      <td>-2456</td>\n",
       "      <td>0</td>\n",
       "      <td>-629.000000</td>\n",
       "      <td>-825.000000</td>\n",
       "      <td>3825.417661</td>\n",
       "      <td>0</td>\n",
       "      <td>675000.00</td>\n",
       "      <td>0.000000</td>\n",
       "      <td>...</td>\n",
       "      <td>0</td>\n",
       "      <td>0</td>\n",
       "      <td>0</td>\n",
       "      <td>0</td>\n",
       "      <td>0</td>\n",
       "      <td>0</td>\n",
       "      <td>0</td>\n",
       "      <td>0</td>\n",
       "      <td>0</td>\n",
       "      <td>196.000000</td>\n",
       "    </tr>\n",
       "    <tr>\n",
       "      <th>12</th>\n",
       "      <td>162297</td>\n",
       "      <td>5714474</td>\n",
       "      <td>-277</td>\n",
       "      <td>0</td>\n",
       "      <td>5261.000000</td>\n",
       "      <td>-1017.437148</td>\n",
       "      <td>0.000000</td>\n",
       "      <td>0</td>\n",
       "      <td>7033500.00</td>\n",
       "      <td>137085.119952</td>\n",
       "      <td>...</td>\n",
       "      <td>0</td>\n",
       "      <td>0</td>\n",
       "      <td>0</td>\n",
       "      <td>0</td>\n",
       "      <td>0</td>\n",
       "      <td>0</td>\n",
       "      <td>1</td>\n",
       "      <td>0</td>\n",
       "      <td>0</td>\n",
       "      <td>463.035865</td>\n",
       "    </tr>\n",
       "    <tr>\n",
       "      <th>13</th>\n",
       "      <td>402440</td>\n",
       "      <td>5714475</td>\n",
       "      <td>-96</td>\n",
       "      <td>0</td>\n",
       "      <td>269.000000</td>\n",
       "      <td>-1017.437148</td>\n",
       "      <td>0.000000</td>\n",
       "      <td>0</td>\n",
       "      <td>89910.00</td>\n",
       "      <td>76905.000000</td>\n",
       "      <td>...</td>\n",
       "      <td>0</td>\n",
       "      <td>0</td>\n",
       "      <td>0</td>\n",
       "      <td>0</td>\n",
       "      <td>0</td>\n",
       "      <td>0</td>\n",
       "      <td>0</td>\n",
       "      <td>0</td>\n",
       "      <td>0</td>\n",
       "      <td>463.035865</td>\n",
       "    </tr>\n",
       "    <tr>\n",
       "      <th>14</th>\n",
       "      <td>238881</td>\n",
       "      <td>5714482</td>\n",
       "      <td>-318</td>\n",
       "      <td>0</td>\n",
       "      <td>-187.000000</td>\n",
       "      <td>-187.000000</td>\n",
       "      <td>3825.417661</td>\n",
       "      <td>0</td>\n",
       "      <td>0.00</td>\n",
       "      <td>0.000000</td>\n",
       "      <td>...</td>\n",
       "      <td>0</td>\n",
       "      <td>0</td>\n",
       "      <td>0</td>\n",
       "      <td>0</td>\n",
       "      <td>0</td>\n",
       "      <td>0</td>\n",
       "      <td>0</td>\n",
       "      <td>0</td>\n",
       "      <td>0</td>\n",
       "      <td>0.000000</td>\n",
       "    </tr>\n",
       "  </tbody>\n",
       "</table>\n",
       "<p>15 rows × 38 columns</p>\n",
       "</div>"
      ],
      "text/plain": [
       "    SK_ID_CURR  SK_ID_BUREAU  DAYS_CREDIT  CREDIT_DAY_OVERDUE  \\\n",
       "0       215354       5714462         -497                   0   \n",
       "1       215354       5714463         -208                   0   \n",
       "2       215354       5714464         -203                   0   \n",
       "3       215354       5714465         -203                   0   \n",
       "4       215354       5714466         -629                   0   \n",
       "5       215354       5714467         -273                   0   \n",
       "6       215354       5714468          -43                   0   \n",
       "7       162297       5714469        -1896                   0   \n",
       "8       162297       5714470        -1146                   0   \n",
       "9       162297       5714471        -1146                   0   \n",
       "10      162297       5714472        -1146                   0   \n",
       "11      162297       5714473        -2456                   0   \n",
       "12      162297       5714474         -277                   0   \n",
       "13      402440       5714475          -96                   0   \n",
       "14      238881       5714482         -318                   0   \n",
       "\n",
       "    DAYS_CREDIT_ENDDATE  DAYS_ENDDATE_FACT  AMT_CREDIT_MAX_OVERDUE  \\\n",
       "0           -153.000000        -153.000000             3825.417661   \n",
       "1           1075.000000       -1017.437148             3825.417661   \n",
       "2            528.000000       -1017.437148             3825.417661   \n",
       "3            510.517362       -1017.437148             3825.417661   \n",
       "4           1197.000000       -1017.437148            77674.500000   \n",
       "5          27460.000000       -1017.437148                0.000000   \n",
       "6             79.000000       -1017.437148                0.000000   \n",
       "7          -1684.000000       -1710.000000            14985.000000   \n",
       "8           -811.000000        -840.000000                0.000000   \n",
       "9           -484.000000       -1017.437148                0.000000   \n",
       "10          -180.000000       -1017.437148                0.000000   \n",
       "11          -629.000000        -825.000000             3825.417661   \n",
       "12          5261.000000       -1017.437148                0.000000   \n",
       "13           269.000000       -1017.437148                0.000000   \n",
       "14          -187.000000        -187.000000             3825.417661   \n",
       "\n",
       "    CNT_CREDIT_PROLONG  AMT_CREDIT_SUM  AMT_CREDIT_SUM_DEBT     ...      \\\n",
       "0                    0        91323.00             0.000000     ...       \n",
       "1                    0       225000.00        171342.000000     ...       \n",
       "2                    0       464323.50        137085.119952     ...       \n",
       "3                    0        90000.00        137085.119952     ...       \n",
       "4                    0      2700000.00        137085.119952     ...       \n",
       "5                    0       180000.00         71017.380000     ...       \n",
       "6                    0        42103.80         42103.800000     ...       \n",
       "7                    0        76878.45             0.000000     ...       \n",
       "8                    0       103007.70             0.000000     ...       \n",
       "9                    0         4500.00             0.000000     ...       \n",
       "10                   0       337500.00             0.000000     ...       \n",
       "11                   0       675000.00             0.000000     ...       \n",
       "12                   0      7033500.00        137085.119952     ...       \n",
       "13                   0        89910.00         76905.000000     ...       \n",
       "14                   0            0.00             0.000000     ...       \n",
       "\n",
       "    Loan for business development  \\\n",
       "0                               0   \n",
       "1                               0   \n",
       "2                               0   \n",
       "3                               0   \n",
       "4                               0   \n",
       "5                               0   \n",
       "6                               0   \n",
       "7                               0   \n",
       "8                               0   \n",
       "9                               0   \n",
       "10                              0   \n",
       "11                              0   \n",
       "12                              0   \n",
       "13                              0   \n",
       "14                              0   \n",
       "\n",
       "    Loan for purchase of shares (margin lending)  \\\n",
       "0                                              0   \n",
       "1                                              0   \n",
       "2                                              0   \n",
       "3                                              0   \n",
       "4                                              0   \n",
       "5                                              0   \n",
       "6                                              0   \n",
       "7                                              0   \n",
       "8                                              0   \n",
       "9                                              0   \n",
       "10                                             0   \n",
       "11                                             0   \n",
       "12                                             0   \n",
       "13                                             0   \n",
       "14                                             0   \n",
       "\n",
       "    Loan for the purchase of equipment  \\\n",
       "0                                    0   \n",
       "1                                    0   \n",
       "2                                    0   \n",
       "3                                    0   \n",
       "4                                    0   \n",
       "5                                    0   \n",
       "6                                    0   \n",
       "7                                    0   \n",
       "8                                    0   \n",
       "9                                    0   \n",
       "10                                   0   \n",
       "11                                   0   \n",
       "12                                   0   \n",
       "13                                   0   \n",
       "14                                   0   \n",
       "\n",
       "    Loan for working capital replenishment  Microloan  Mobile operator loan  \\\n",
       "0                                        0          0                     0   \n",
       "1                                        0          0                     0   \n",
       "2                                        0          0                     0   \n",
       "3                                        0          0                     0   \n",
       "4                                        0          0                     0   \n",
       "5                                        0          0                     0   \n",
       "6                                        0          0                     0   \n",
       "7                                        0          0                     0   \n",
       "8                                        0          0                     0   \n",
       "9                                        0          0                     0   \n",
       "10                                       0          0                     0   \n",
       "11                                       0          0                     0   \n",
       "12                                       0          0                     0   \n",
       "13                                       0          0                     0   \n",
       "14                                       0          0                     0   \n",
       "\n",
       "    Mortgage  Real estate loan  Unknown type of loan   LATE_DAYS  \n",
       "0          0                 0                     0    0.000000  \n",
       "1          0                 0                     0  463.035865  \n",
       "2          0                 0                     0  463.035865  \n",
       "3          0                 0                     0  463.035865  \n",
       "4          0                 0                     0  463.035865  \n",
       "5          0                 0                     0  463.035865  \n",
       "6          0                 0                     0  463.035865  \n",
       "7          0                 0                     0   26.000000  \n",
       "8          0                 0                     0   29.000000  \n",
       "9          0                 0                     0  463.035865  \n",
       "10         0                 0                     0  463.035865  \n",
       "11         0                 0                     0  196.000000  \n",
       "12         1                 0                     0  463.035865  \n",
       "13         0                 0                     0  463.035865  \n",
       "14         0                 0                     0    0.000000  \n",
       "\n",
       "[15 rows x 38 columns]"
      ]
     },
     "execution_count": 22,
     "metadata": {},
     "output_type": "execute_result"
    }
   ],
   "source": [
    "bureau.head(15)"
   ]
  },
  {
   "cell_type": "code",
   "execution_count": 23,
   "metadata": {},
   "outputs": [
    {
     "data": {
      "text/plain": [
       "(1716428, 38)"
      ]
     },
     "execution_count": 23,
     "metadata": {},
     "output_type": "execute_result"
    }
   ],
   "source": [
    "bureau.shape"
   ]
  },
  {
   "cell_type": "code",
   "execution_count": 24,
   "metadata": {},
   "outputs": [],
   "source": [
    "bureau = pd.merge(bureau, bureau_balance, on='SK_ID_BUREAU', how = 'left')"
   ]
  },
  {
   "cell_type": "code",
   "execution_count": 25,
   "metadata": {},
   "outputs": [
    {
     "data": {
      "text/plain": [
       "(1716428, 40)"
      ]
     },
     "execution_count": 25,
     "metadata": {},
     "output_type": "execute_result"
    }
   ],
   "source": [
    "bureau.shape"
   ]
  },
  {
   "cell_type": "code",
   "execution_count": 26,
   "metadata": {},
   "outputs": [
    {
     "data": {
      "text/plain": [
       "SK_ID_CURR                                           0\n",
       "SK_ID_BUREAU                                         0\n",
       "DAYS_CREDIT                                          0\n",
       "CREDIT_DAY_OVERDUE                                   0\n",
       "DAYS_CREDIT_ENDDATE                                  0\n",
       "DAYS_ENDDATE_FACT                                    0\n",
       "AMT_CREDIT_MAX_OVERDUE                               0\n",
       "CNT_CREDIT_PROLONG                                   0\n",
       "AMT_CREDIT_SUM                                       0\n",
       "AMT_CREDIT_SUM_DEBT                                  0\n",
       "AMT_CREDIT_SUM_LIMIT                                 0\n",
       "AMT_CREDIT_SUM_OVERDUE                               0\n",
       "DAYS_CREDIT_UPDATE                                   0\n",
       "AMT_ANNUITY                                          0\n",
       "Active                                               0\n",
       "Bad debt                                             0\n",
       "Closed                                               0\n",
       "Sold                                                 0\n",
       "currency 1                                           0\n",
       "currency 2                                           0\n",
       "currency 3                                           0\n",
       "currency 4                                           0\n",
       "Another type of loan                                 0\n",
       "Car loan                                             0\n",
       "Cash loan (non-earmarked)                            0\n",
       "Consumer credit                                      0\n",
       "Credit card                                          0\n",
       "Interbank credit                                     0\n",
       "Loan for business development                        0\n",
       "Loan for purchase of shares (margin lending)         0\n",
       "Loan for the purchase of equipment                   0\n",
       "Loan for working capital replenishment               0\n",
       "Microloan                                            0\n",
       "Mobile operator loan                                 0\n",
       "Mortgage                                             0\n",
       "Real estate loan                                     0\n",
       "Unknown type of loan                                 0\n",
       "LATE_DAYS                                            0\n",
       "score                                           942074\n",
       "STATUS_X                                        942074\n",
       "dtype: int64"
      ]
     },
     "execution_count": 26,
     "metadata": {},
     "output_type": "execute_result"
    }
   ],
   "source": [
    "bureau.isnull().sum()"
   ]
  },
  {
   "cell_type": "code",
   "execution_count": 27,
   "metadata": {},
   "outputs": [],
   "source": [
    "bureau['STATUS_X'].fillna(bureau['STATUS_X'].mean(), inplace=True)\n",
    "bureau['score'].fillna(bureau['score'].mean(), inplace=True)"
   ]
  },
  {
   "cell_type": "code",
   "execution_count": 28,
   "metadata": {},
   "outputs": [],
   "source": [
    "del bureau_balance"
   ]
  },
  {
   "cell_type": "code",
   "execution_count": 29,
   "metadata": {},
   "outputs": [],
   "source": [
    "bureau.drop('SK_ID_BUREAU', axis=1, inplace=True)"
   ]
  },
  {
   "cell_type": "code",
   "execution_count": 30,
   "metadata": {},
   "outputs": [],
   "source": [
    "bureau = bureau.groupby('SK_ID_CURR').mean()"
   ]
  },
  {
   "cell_type": "code",
   "execution_count": 31,
   "metadata": {},
   "outputs": [
    {
     "data": {
      "text/plain": [
       "(356255, 51)"
      ]
     },
     "execution_count": 31,
     "metadata": {},
     "output_type": "execute_result"
    }
   ],
   "source": [
    "app.shape"
   ]
  },
  {
   "cell_type": "code",
   "execution_count": 32,
   "metadata": {},
   "outputs": [
    {
     "data": {
      "text/plain": [
       "(305811, 38)"
      ]
     },
     "execution_count": 32,
     "metadata": {},
     "output_type": "execute_result"
    }
   ],
   "source": [
    "bureau.shape"
   ]
  },
  {
   "cell_type": "code",
   "execution_count": 33,
   "metadata": {},
   "outputs": [],
   "source": [
    "app = pd.merge(app, bureau, on='SK_ID_CURR', how='left')"
   ]
  },
  {
   "cell_type": "code",
   "execution_count": 34,
   "metadata": {},
   "outputs": [
    {
     "data": {
      "text/plain": [
       "(356255, 89)"
      ]
     },
     "execution_count": 34,
     "metadata": {},
     "output_type": "execute_result"
    }
   ],
   "source": [
    "app.shape"
   ]
  },
  {
   "cell_type": "code",
   "execution_count": 35,
   "metadata": {},
   "outputs": [
    {
     "data": {
      "text/plain": [
       "1916872"
      ]
     },
     "execution_count": 35,
     "metadata": {},
     "output_type": "execute_result"
    }
   ],
   "source": [
    "app.isnull().sum().sum()"
   ]
  },
  {
   "cell_type": "code",
   "execution_count": 36,
   "metadata": {},
   "outputs": [],
   "source": [
    "nan_cols = app.isnull().sum()[app.isnull().sum()>0].index"
   ]
  },
  {
   "cell_type": "code",
   "execution_count": 37,
   "metadata": {},
   "outputs": [],
   "source": [
    "for col in nan_cols:\n",
    "    app[col].fillna(app[col].median(), inplace=True)"
   ]
  },
  {
   "cell_type": "code",
   "execution_count": 38,
   "metadata": {},
   "outputs": [
    {
     "data": {
      "text/plain": [
       "0"
      ]
     },
     "execution_count": 38,
     "metadata": {},
     "output_type": "execute_result"
    }
   ],
   "source": [
    "app.isnull().sum().sum()"
   ]
  },
  {
   "cell_type": "code",
   "execution_count": 39,
   "metadata": {},
   "outputs": [],
   "source": [
    "del bureau"
   ]
  },
  {
   "cell_type": "code",
   "execution_count": 40,
   "metadata": {},
   "outputs": [],
   "source": [
    "prev_app = pd.read_csv('previous_application_ready.csv')"
   ]
  },
  {
   "cell_type": "code",
   "execution_count": 41,
   "metadata": {},
   "outputs": [
    {
     "data": {
      "text/plain": [
       "Index(['SK_ID_CURR', 'NFLAG_INSURED_ON_APPROVAL', 'DAYS_TERMINATION',\n",
       "       'DAYS_LAST_DUE', 'DAYS_LAST_DUE_1ST_VERSION', 'DAYS_FIRST_DUE',\n",
       "       'DAYS_FIRST_DRAWING', 'SK_ID_PREV', 'LATE_DAYS', 'EXTRA_DAYS', 'XNA',\n",
       "       'high', 'low_action', 'low_normal', 'middle', 'CLIENT', 'HC', 'LIMIT',\n",
       "       'SCO', 'SCOFR', 'SYSTEM', 'VERIF', 'XAP', 'XNA.1'],\n",
       "      dtype='object')"
      ]
     },
     "execution_count": 41,
     "metadata": {},
     "output_type": "execute_result"
    }
   ],
   "source": [
    "prev_app.columns"
   ]
  },
  {
   "cell_type": "code",
   "execution_count": 42,
   "metadata": {},
   "outputs": [],
   "source": [
    "prev_app_agg = prev_app.groupby('SK_ID_CURR').mean()"
   ]
  },
  {
   "cell_type": "code",
   "execution_count": 43,
   "metadata": {},
   "outputs": [
    {
     "data": {
      "text/html": [
       "<div>\n",
       "<style scoped>\n",
       "    .dataframe tbody tr th:only-of-type {\n",
       "        vertical-align: middle;\n",
       "    }\n",
       "\n",
       "    .dataframe tbody tr th {\n",
       "        vertical-align: top;\n",
       "    }\n",
       "\n",
       "    .dataframe thead th {\n",
       "        text-align: right;\n",
       "    }\n",
       "</style>\n",
       "<table border=\"1\" class=\"dataframe\">\n",
       "  <thead>\n",
       "    <tr style=\"text-align: right;\">\n",
       "      <th></th>\n",
       "      <th>NFLAG_INSURED_ON_APPROVAL</th>\n",
       "      <th>DAYS_TERMINATION</th>\n",
       "      <th>DAYS_LAST_DUE</th>\n",
       "      <th>DAYS_LAST_DUE_1ST_VERSION</th>\n",
       "      <th>DAYS_FIRST_DUE</th>\n",
       "      <th>DAYS_FIRST_DRAWING</th>\n",
       "      <th>SK_ID_PREV</th>\n",
       "      <th>LATE_DAYS</th>\n",
       "      <th>EXTRA_DAYS</th>\n",
       "      <th>XNA</th>\n",
       "      <th>...</th>\n",
       "      <th>middle</th>\n",
       "      <th>CLIENT</th>\n",
       "      <th>HC</th>\n",
       "      <th>LIMIT</th>\n",
       "      <th>SCO</th>\n",
       "      <th>SCOFR</th>\n",
       "      <th>SYSTEM</th>\n",
       "      <th>VERIF</th>\n",
       "      <th>XAP</th>\n",
       "      <th>XNA.1</th>\n",
       "    </tr>\n",
       "    <tr>\n",
       "      <th>SK_ID_CURR</th>\n",
       "      <th></th>\n",
       "      <th></th>\n",
       "      <th></th>\n",
       "      <th></th>\n",
       "      <th></th>\n",
       "      <th></th>\n",
       "      <th></th>\n",
       "      <th></th>\n",
       "      <th></th>\n",
       "      <th></th>\n",
       "      <th></th>\n",
       "      <th></th>\n",
       "      <th></th>\n",
       "      <th></th>\n",
       "      <th></th>\n",
       "      <th></th>\n",
       "      <th></th>\n",
       "      <th></th>\n",
       "      <th></th>\n",
       "      <th></th>\n",
       "      <th></th>\n",
       "    </tr>\n",
       "  </thead>\n",
       "  <tbody>\n",
       "    <tr>\n",
       "      <th>100001</th>\n",
       "      <td>0.000000</td>\n",
       "      <td>-1612.000000</td>\n",
       "      <td>-1619.000000</td>\n",
       "      <td>-1499.000000</td>\n",
       "      <td>-1709.000000</td>\n",
       "      <td>365243.0</td>\n",
       "      <td>1.369693e+06</td>\n",
       "      <td>-120.000000</td>\n",
       "      <td>-7.00</td>\n",
       "      <td>0.000000</td>\n",
       "      <td>...</td>\n",
       "      <td>0.000000</td>\n",
       "      <td>0.0</td>\n",
       "      <td>0.0</td>\n",
       "      <td>0.000000</td>\n",
       "      <td>0.0</td>\n",
       "      <td>0.0</td>\n",
       "      <td>0.0</td>\n",
       "      <td>0.0</td>\n",
       "      <td>1.000000</td>\n",
       "      <td>0.0</td>\n",
       "    </tr>\n",
       "    <tr>\n",
       "      <th>100002</th>\n",
       "      <td>0.000000</td>\n",
       "      <td>-17.000000</td>\n",
       "      <td>-25.000000</td>\n",
       "      <td>125.000000</td>\n",
       "      <td>-565.000000</td>\n",
       "      <td>365243.0</td>\n",
       "      <td>1.038818e+06</td>\n",
       "      <td>-150.000000</td>\n",
       "      <td>-8.00</td>\n",
       "      <td>0.000000</td>\n",
       "      <td>...</td>\n",
       "      <td>0.000000</td>\n",
       "      <td>0.0</td>\n",
       "      <td>0.0</td>\n",
       "      <td>0.000000</td>\n",
       "      <td>0.0</td>\n",
       "      <td>0.0</td>\n",
       "      <td>0.0</td>\n",
       "      <td>0.0</td>\n",
       "      <td>1.000000</td>\n",
       "      <td>0.0</td>\n",
       "    </tr>\n",
       "    <tr>\n",
       "      <th>100003</th>\n",
       "      <td>0.666667</td>\n",
       "      <td>-1047.333333</td>\n",
       "      <td>-1054.333333</td>\n",
       "      <td>-1004.333333</td>\n",
       "      <td>-1274.333333</td>\n",
       "      <td>365243.0</td>\n",
       "      <td>2.281150e+06</td>\n",
       "      <td>-50.000000</td>\n",
       "      <td>-7.00</td>\n",
       "      <td>0.000000</td>\n",
       "      <td>...</td>\n",
       "      <td>0.666667</td>\n",
       "      <td>0.0</td>\n",
       "      <td>0.0</td>\n",
       "      <td>0.000000</td>\n",
       "      <td>0.0</td>\n",
       "      <td>0.0</td>\n",
       "      <td>0.0</td>\n",
       "      <td>0.0</td>\n",
       "      <td>1.000000</td>\n",
       "      <td>0.0</td>\n",
       "    </tr>\n",
       "    <tr>\n",
       "      <th>100004</th>\n",
       "      <td>0.000000</td>\n",
       "      <td>-714.000000</td>\n",
       "      <td>-724.000000</td>\n",
       "      <td>-694.000000</td>\n",
       "      <td>-784.000000</td>\n",
       "      <td>365243.0</td>\n",
       "      <td>1.564014e+06</td>\n",
       "      <td>-30.000000</td>\n",
       "      <td>-10.00</td>\n",
       "      <td>0.000000</td>\n",
       "      <td>...</td>\n",
       "      <td>1.000000</td>\n",
       "      <td>0.0</td>\n",
       "      <td>0.0</td>\n",
       "      <td>0.000000</td>\n",
       "      <td>0.0</td>\n",
       "      <td>0.0</td>\n",
       "      <td>0.0</td>\n",
       "      <td>0.0</td>\n",
       "      <td>1.000000</td>\n",
       "      <td>0.0</td>\n",
       "    </tr>\n",
       "    <tr>\n",
       "      <th>100005</th>\n",
       "      <td>0.000000</td>\n",
       "      <td>-460.000000</td>\n",
       "      <td>-466.000000</td>\n",
       "      <td>-376.000000</td>\n",
       "      <td>-706.000000</td>\n",
       "      <td>365243.0</td>\n",
       "      <td>2.176837e+06</td>\n",
       "      <td>-90.000000</td>\n",
       "      <td>-6.00</td>\n",
       "      <td>0.500000</td>\n",
       "      <td>...</td>\n",
       "      <td>0.000000</td>\n",
       "      <td>0.0</td>\n",
       "      <td>0.0</td>\n",
       "      <td>0.000000</td>\n",
       "      <td>0.0</td>\n",
       "      <td>0.0</td>\n",
       "      <td>0.0</td>\n",
       "      <td>0.0</td>\n",
       "      <td>1.000000</td>\n",
       "      <td>0.0</td>\n",
       "    </tr>\n",
       "    <tr>\n",
       "      <th>100006</th>\n",
       "      <td>0.000000</td>\n",
       "      <td>182481.750000</td>\n",
       "      <td>182477.500000</td>\n",
       "      <td>91584.000000</td>\n",
       "      <td>91066.500000</td>\n",
       "      <td>365243.0</td>\n",
       "      <td>1.932462e+06</td>\n",
       "      <td>90893.500000</td>\n",
       "      <td>-4.25</td>\n",
       "      <td>0.444444</td>\n",
       "      <td>...</td>\n",
       "      <td>0.111111</td>\n",
       "      <td>0.0</td>\n",
       "      <td>0.0</td>\n",
       "      <td>0.111111</td>\n",
       "      <td>0.0</td>\n",
       "      <td>0.0</td>\n",
       "      <td>0.0</td>\n",
       "      <td>0.0</td>\n",
       "      <td>0.888889</td>\n",
       "      <td>0.0</td>\n",
       "    </tr>\n",
       "    <tr>\n",
       "      <th>100007</th>\n",
       "      <td>0.600000</td>\n",
       "      <td>72143.800000</td>\n",
       "      <td>72136.200000</td>\n",
       "      <td>-837.200000</td>\n",
       "      <td>-1263.200000</td>\n",
       "      <td>365243.0</td>\n",
       "      <td>2.157812e+06</td>\n",
       "      <td>72973.400000</td>\n",
       "      <td>-7.60</td>\n",
       "      <td>0.000000</td>\n",
       "      <td>...</td>\n",
       "      <td>0.500000</td>\n",
       "      <td>0.0</td>\n",
       "      <td>0.0</td>\n",
       "      <td>0.000000</td>\n",
       "      <td>0.0</td>\n",
       "      <td>0.0</td>\n",
       "      <td>0.0</td>\n",
       "      <td>0.0</td>\n",
       "      <td>1.000000</td>\n",
       "      <td>0.0</td>\n",
       "    </tr>\n",
       "    <tr>\n",
       "      <th>100008</th>\n",
       "      <td>0.250000</td>\n",
       "      <td>-872.750000</td>\n",
       "      <td>-1209.500000</td>\n",
       "      <td>-1044.500000</td>\n",
       "      <td>-1434.500000</td>\n",
       "      <td>365243.0</td>\n",
       "      <td>1.936735e+06</td>\n",
       "      <td>-165.000000</td>\n",
       "      <td>-336.75</td>\n",
       "      <td>0.200000</td>\n",
       "      <td>...</td>\n",
       "      <td>0.200000</td>\n",
       "      <td>0.0</td>\n",
       "      <td>0.0</td>\n",
       "      <td>0.000000</td>\n",
       "      <td>0.0</td>\n",
       "      <td>0.0</td>\n",
       "      <td>0.0</td>\n",
       "      <td>0.0</td>\n",
       "      <td>1.000000</td>\n",
       "      <td>0.0</td>\n",
       "    </tr>\n",
       "    <tr>\n",
       "      <th>100009</th>\n",
       "      <td>0.000000</td>\n",
       "      <td>51672.857143</td>\n",
       "      <td>51666.857143</td>\n",
       "      <td>-478.285714</td>\n",
       "      <td>-688.285714</td>\n",
       "      <td>365243.0</td>\n",
       "      <td>1.881798e+06</td>\n",
       "      <td>52145.142857</td>\n",
       "      <td>-6.00</td>\n",
       "      <td>0.000000</td>\n",
       "      <td>...</td>\n",
       "      <td>0.428571</td>\n",
       "      <td>0.0</td>\n",
       "      <td>0.0</td>\n",
       "      <td>0.000000</td>\n",
       "      <td>0.0</td>\n",
       "      <td>0.0</td>\n",
       "      <td>0.0</td>\n",
       "      <td>0.0</td>\n",
       "      <td>1.000000</td>\n",
       "      <td>0.0</td>\n",
       "    </tr>\n",
       "    <tr>\n",
       "      <th>100010</th>\n",
       "      <td>0.000000</td>\n",
       "      <td>-762.000000</td>\n",
       "      <td>-769.000000</td>\n",
       "      <td>-769.000000</td>\n",
       "      <td>-1039.000000</td>\n",
       "      <td>365243.0</td>\n",
       "      <td>2.349489e+06</td>\n",
       "      <td>0.000000</td>\n",
       "      <td>-7.00</td>\n",
       "      <td>0.000000</td>\n",
       "      <td>...</td>\n",
       "      <td>0.000000</td>\n",
       "      <td>0.0</td>\n",
       "      <td>0.0</td>\n",
       "      <td>0.000000</td>\n",
       "      <td>0.0</td>\n",
       "      <td>0.0</td>\n",
       "      <td>0.0</td>\n",
       "      <td>0.0</td>\n",
       "      <td>1.000000</td>\n",
       "      <td>0.0</td>\n",
       "    </tr>\n",
       "  </tbody>\n",
       "</table>\n",
       "<p>10 rows × 23 columns</p>\n",
       "</div>"
      ],
      "text/plain": [
       "            NFLAG_INSURED_ON_APPROVAL  DAYS_TERMINATION  DAYS_LAST_DUE  \\\n",
       "SK_ID_CURR                                                               \n",
       "100001                       0.000000      -1612.000000   -1619.000000   \n",
       "100002                       0.000000        -17.000000     -25.000000   \n",
       "100003                       0.666667      -1047.333333   -1054.333333   \n",
       "100004                       0.000000       -714.000000    -724.000000   \n",
       "100005                       0.000000       -460.000000    -466.000000   \n",
       "100006                       0.000000     182481.750000  182477.500000   \n",
       "100007                       0.600000      72143.800000   72136.200000   \n",
       "100008                       0.250000       -872.750000   -1209.500000   \n",
       "100009                       0.000000      51672.857143   51666.857143   \n",
       "100010                       0.000000       -762.000000    -769.000000   \n",
       "\n",
       "            DAYS_LAST_DUE_1ST_VERSION  DAYS_FIRST_DUE  DAYS_FIRST_DRAWING  \\\n",
       "SK_ID_CURR                                                                  \n",
       "100001                   -1499.000000    -1709.000000            365243.0   \n",
       "100002                     125.000000     -565.000000            365243.0   \n",
       "100003                   -1004.333333    -1274.333333            365243.0   \n",
       "100004                    -694.000000     -784.000000            365243.0   \n",
       "100005                    -376.000000     -706.000000            365243.0   \n",
       "100006                   91584.000000    91066.500000            365243.0   \n",
       "100007                    -837.200000    -1263.200000            365243.0   \n",
       "100008                   -1044.500000    -1434.500000            365243.0   \n",
       "100009                    -478.285714     -688.285714            365243.0   \n",
       "100010                    -769.000000    -1039.000000            365243.0   \n",
       "\n",
       "              SK_ID_PREV     LATE_DAYS  EXTRA_DAYS       XNA  ...      middle  \\\n",
       "SK_ID_CURR                                                    ...               \n",
       "100001      1.369693e+06   -120.000000       -7.00  0.000000  ...    0.000000   \n",
       "100002      1.038818e+06   -150.000000       -8.00  0.000000  ...    0.000000   \n",
       "100003      2.281150e+06    -50.000000       -7.00  0.000000  ...    0.666667   \n",
       "100004      1.564014e+06    -30.000000      -10.00  0.000000  ...    1.000000   \n",
       "100005      2.176837e+06    -90.000000       -6.00  0.500000  ...    0.000000   \n",
       "100006      1.932462e+06  90893.500000       -4.25  0.444444  ...    0.111111   \n",
       "100007      2.157812e+06  72973.400000       -7.60  0.000000  ...    0.500000   \n",
       "100008      1.936735e+06   -165.000000     -336.75  0.200000  ...    0.200000   \n",
       "100009      1.881798e+06  52145.142857       -6.00  0.000000  ...    0.428571   \n",
       "100010      2.349489e+06      0.000000       -7.00  0.000000  ...    0.000000   \n",
       "\n",
       "            CLIENT   HC     LIMIT  SCO  SCOFR  SYSTEM  VERIF       XAP  XNA.1  \n",
       "SK_ID_CURR                                                                     \n",
       "100001         0.0  0.0  0.000000  0.0    0.0     0.0    0.0  1.000000    0.0  \n",
       "100002         0.0  0.0  0.000000  0.0    0.0     0.0    0.0  1.000000    0.0  \n",
       "100003         0.0  0.0  0.000000  0.0    0.0     0.0    0.0  1.000000    0.0  \n",
       "100004         0.0  0.0  0.000000  0.0    0.0     0.0    0.0  1.000000    0.0  \n",
       "100005         0.0  0.0  0.000000  0.0    0.0     0.0    0.0  1.000000    0.0  \n",
       "100006         0.0  0.0  0.111111  0.0    0.0     0.0    0.0  0.888889    0.0  \n",
       "100007         0.0  0.0  0.000000  0.0    0.0     0.0    0.0  1.000000    0.0  \n",
       "100008         0.0  0.0  0.000000  0.0    0.0     0.0    0.0  1.000000    0.0  \n",
       "100009         0.0  0.0  0.000000  0.0    0.0     0.0    0.0  1.000000    0.0  \n",
       "100010         0.0  0.0  0.000000  0.0    0.0     0.0    0.0  1.000000    0.0  \n",
       "\n",
       "[10 rows x 23 columns]"
      ]
     },
     "execution_count": 43,
     "metadata": {},
     "output_type": "execute_result"
    }
   ],
   "source": [
    "prev_app_agg.head(10)"
   ]
  },
  {
   "cell_type": "code",
   "execution_count": 44,
   "metadata": {},
   "outputs": [],
   "source": [
    "prev_app_agg['SK_ID_CURR'] = prev_app_agg.index"
   ]
  },
  {
   "cell_type": "code",
   "execution_count": 45,
   "metadata": {},
   "outputs": [
    {
     "data": {
      "text/plain": [
       "NFLAG_INSURED_ON_APPROVAL    1517\n",
       "DAYS_TERMINATION             1517\n",
       "DAYS_LAST_DUE                1517\n",
       "DAYS_LAST_DUE_1ST_VERSION    1517\n",
       "DAYS_FIRST_DUE               1517\n",
       "DAYS_FIRST_DRAWING           1517\n",
       "SK_ID_PREV                      0\n",
       "LATE_DAYS                    1517\n",
       "EXTRA_DAYS                   1517\n",
       "XNA                             0\n",
       "high                            0\n",
       "low_action                      0\n",
       "low_normal                      0\n",
       "middle                          0\n",
       "CLIENT                          0\n",
       "HC                              0\n",
       "LIMIT                           0\n",
       "SCO                             0\n",
       "SCOFR                           0\n",
       "SYSTEM                          0\n",
       "VERIF                           0\n",
       "XAP                             0\n",
       "XNA.1                           0\n",
       "SK_ID_CURR                      0\n",
       "dtype: int64"
      ]
     },
     "execution_count": 45,
     "metadata": {},
     "output_type": "execute_result"
    }
   ],
   "source": [
    "prev_app_agg.isnull().sum()"
   ]
  },
  {
   "cell_type": "code",
   "execution_count": 46,
   "metadata": {},
   "outputs": [],
   "source": [
    "prev_app_agg.drop('SK_ID_PREV', axis=1, inplace=True)"
   ]
  },
  {
   "cell_type": "code",
   "execution_count": 47,
   "metadata": {},
   "outputs": [],
   "source": [
    "for col in ['NFLAG_INSURED_ON_APPROVAL',  'DAYS_TERMINATION', 'DAYS_LAST_DUE',  'DAYS_LAST_DUE_1ST_VERSION', 'DAYS_FIRST_DUE', 'DAYS_FIRST_DRAWING',  'LATE_DAYS',  'EXTRA_DAYS']:\n",
    "    prev_app_agg[col].fillna(prev_app_agg[col].mean(), inplace=True)"
   ]
  },
  {
   "cell_type": "code",
   "execution_count": 48,
   "metadata": {},
   "outputs": [
    {
     "data": {
      "text/plain": [
       "(356255, 89)"
      ]
     },
     "execution_count": 48,
     "metadata": {},
     "output_type": "execute_result"
    }
   ],
   "source": [
    "app.shape"
   ]
  },
  {
   "cell_type": "code",
   "execution_count": 49,
   "metadata": {},
   "outputs": [
    {
     "name": "stderr",
     "output_type": "stream",
     "text": [
      "c:\\python\\python36\\lib\\site-packages\\IPython\\core\\interactiveshell.py:2961: FutureWarning: 'SK_ID_CURR' is both an index level and a column label.\n",
      "Defaulting to column, but this will raise an ambiguity error in a future version\n",
      "  exec(code_obj, self.user_global_ns, self.user_ns)\n"
     ]
    }
   ],
   "source": [
    "app = pd.merge(app, prev_app_agg, on='SK_ID_CURR', how='left')"
   ]
  },
  {
   "cell_type": "code",
   "execution_count": 50,
   "metadata": {},
   "outputs": [
    {
     "data": {
      "text/plain": [
       "(356255, 112)"
      ]
     },
     "execution_count": 50,
     "metadata": {},
     "output_type": "execute_result"
    }
   ],
   "source": [
    "app.shape"
   ]
  },
  {
   "cell_type": "code",
   "execution_count": 51,
   "metadata": {},
   "outputs": [
    {
     "data": {
      "text/plain": [
       "382756"
      ]
     },
     "execution_count": 51,
     "metadata": {},
     "output_type": "execute_result"
    }
   ],
   "source": [
    "app.isnull().sum().sum()"
   ]
  },
  {
   "cell_type": "code",
   "execution_count": 52,
   "metadata": {},
   "outputs": [],
   "source": [
    "nan_cols = app.isnull().sum()[app.isnull().sum()>0].index"
   ]
  },
  {
   "cell_type": "code",
   "execution_count": 53,
   "metadata": {},
   "outputs": [],
   "source": [
    "for col in nan_cols:\n",
    "    app[col].fillna(app[col].median(), inplace=True)"
   ]
  },
  {
   "cell_type": "code",
   "execution_count": 54,
   "metadata": {},
   "outputs": [],
   "source": [
    "del prev_app, prev_app_agg"
   ]
  },
  {
   "cell_type": "code",
   "execution_count": 55,
   "metadata": {},
   "outputs": [],
   "source": [
    "insta = pd.read_csv('pos_cash_balance_and_installments.csv')"
   ]
  },
  {
   "cell_type": "code",
   "execution_count": 56,
   "metadata": {},
   "outputs": [
    {
     "data": {
      "text/plain": [
       "Index(['SK_ID_CURR', 'SK_ID_PREV', 'MONTHS_BALANCE', 'CNT_INSTALMENT',\n",
       "       'CNT_INSTALMENT_FUTURE', 'SK_DPD', 'SK_DPD_DEF', 'PERCENT_COMPLETION',\n",
       "       'Active', 'Amortized debt', 'Approved', 'Canceled', 'Completed',\n",
       "       'Demand', 'Returned to the store', 'Signed', 'XNA',\n",
       "       'NUM_INSTALMENT_VERSION', 'NUM_INSTALMENT_NUMBER', 'DAYS_INSTALMENT',\n",
       "       'DAYS_ENTRY_PAYMENT', 'AMT_INSTALMENT', 'AMT_PAYMENT',\n",
       "       'LATE_PAYMENT_DAYS', 'YOKIAN_SCORE'],\n",
       "      dtype='object')"
      ]
     },
     "execution_count": 56,
     "metadata": {},
     "output_type": "execute_result"
    }
   ],
   "source": [
    "insta.columns"
   ]
  },
  {
   "cell_type": "code",
   "execution_count": 57,
   "metadata": {},
   "outputs": [
    {
     "data": {
      "text/html": [
       "<div>\n",
       "<style scoped>\n",
       "    .dataframe tbody tr th:only-of-type {\n",
       "        vertical-align: middle;\n",
       "    }\n",
       "\n",
       "    .dataframe tbody tr th {\n",
       "        vertical-align: top;\n",
       "    }\n",
       "\n",
       "    .dataframe thead th {\n",
       "        text-align: right;\n",
       "    }\n",
       "</style>\n",
       "<table border=\"1\" class=\"dataframe\">\n",
       "  <thead>\n",
       "    <tr style=\"text-align: right;\">\n",
       "      <th></th>\n",
       "      <th>SK_ID_CURR</th>\n",
       "      <th>SK_ID_PREV</th>\n",
       "      <th>MONTHS_BALANCE</th>\n",
       "      <th>CNT_INSTALMENT</th>\n",
       "      <th>CNT_INSTALMENT_FUTURE</th>\n",
       "      <th>SK_DPD</th>\n",
       "      <th>SK_DPD_DEF</th>\n",
       "      <th>PERCENT_COMPLETION</th>\n",
       "      <th>Active</th>\n",
       "      <th>Amortized debt</th>\n",
       "      <th>...</th>\n",
       "      <th>Signed</th>\n",
       "      <th>XNA</th>\n",
       "      <th>NUM_INSTALMENT_VERSION</th>\n",
       "      <th>NUM_INSTALMENT_NUMBER</th>\n",
       "      <th>DAYS_INSTALMENT</th>\n",
       "      <th>DAYS_ENTRY_PAYMENT</th>\n",
       "      <th>AMT_INSTALMENT</th>\n",
       "      <th>AMT_PAYMENT</th>\n",
       "      <th>LATE_PAYMENT_DAYS</th>\n",
       "      <th>YOKIAN_SCORE</th>\n",
       "    </tr>\n",
       "  </thead>\n",
       "  <tbody>\n",
       "    <tr>\n",
       "      <th>0</th>\n",
       "      <td>100001.0</td>\n",
       "      <td>1.584045e+06</td>\n",
       "      <td>-72.555556</td>\n",
       "      <td>4.000000</td>\n",
       "      <td>1.444444</td>\n",
       "      <td>0.777778</td>\n",
       "      <td>0.777778</td>\n",
       "      <td>0.638889</td>\n",
       "      <td>0.777778</td>\n",
       "      <td>0.0</td>\n",
       "      <td>...</td>\n",
       "      <td>0.000000</td>\n",
       "      <td>0.0</td>\n",
       "      <td>1.125000</td>\n",
       "      <td>2.750000</td>\n",
       "      <td>-2275.000000</td>\n",
       "      <td>-2280.916667</td>\n",
       "      <td>5647.200000</td>\n",
       "      <td>5647.200000</td>\n",
       "      <td>-5.916667</td>\n",
       "      <td>0.0</td>\n",
       "    </tr>\n",
       "    <tr>\n",
       "      <th>1</th>\n",
       "      <td>100002.0</td>\n",
       "      <td>1.038818e+06</td>\n",
       "      <td>-10.000000</td>\n",
       "      <td>24.000000</td>\n",
       "      <td>15.000000</td>\n",
       "      <td>0.000000</td>\n",
       "      <td>0.000000</td>\n",
       "      <td>0.375000</td>\n",
       "      <td>1.000000</td>\n",
       "      <td>0.0</td>\n",
       "      <td>...</td>\n",
       "      <td>0.000000</td>\n",
       "      <td>0.0</td>\n",
       "      <td>1.052632</td>\n",
       "      <td>10.000000</td>\n",
       "      <td>-295.000000</td>\n",
       "      <td>-315.421053</td>\n",
       "      <td>11559.247105</td>\n",
       "      <td>11559.247105</td>\n",
       "      <td>-20.421053</td>\n",
       "      <td>0.0</td>\n",
       "    </tr>\n",
       "    <tr>\n",
       "      <th>2</th>\n",
       "      <td>100003.0</td>\n",
       "      <td>2.297665e+06</td>\n",
       "      <td>-43.785714</td>\n",
       "      <td>10.107143</td>\n",
       "      <td>5.785714</td>\n",
       "      <td>0.000000</td>\n",
       "      <td>0.000000</td>\n",
       "      <td>0.455357</td>\n",
       "      <td>0.928571</td>\n",
       "      <td>0.0</td>\n",
       "      <td>...</td>\n",
       "      <td>0.000000</td>\n",
       "      <td>0.0</td>\n",
       "      <td>1.047619</td>\n",
       "      <td>4.666667</td>\n",
       "      <td>-1164.333333</td>\n",
       "      <td>-1171.781746</td>\n",
       "      <td>78558.479286</td>\n",
       "      <td>78558.479286</td>\n",
       "      <td>-7.448413</td>\n",
       "      <td>0.0</td>\n",
       "    </tr>\n",
       "    <tr>\n",
       "      <th>3</th>\n",
       "      <td>100004.0</td>\n",
       "      <td>1.564014e+06</td>\n",
       "      <td>-25.500000</td>\n",
       "      <td>3.750000</td>\n",
       "      <td>2.250000</td>\n",
       "      <td>0.000000</td>\n",
       "      <td>0.000000</td>\n",
       "      <td>0.437500</td>\n",
       "      <td>0.750000</td>\n",
       "      <td>0.0</td>\n",
       "      <td>...</td>\n",
       "      <td>0.000000</td>\n",
       "      <td>0.0</td>\n",
       "      <td>1.333333</td>\n",
       "      <td>2.000000</td>\n",
       "      <td>-754.000000</td>\n",
       "      <td>-761.666667</td>\n",
       "      <td>7096.155000</td>\n",
       "      <td>7096.155000</td>\n",
       "      <td>-7.666667</td>\n",
       "      <td>0.0</td>\n",
       "    </tr>\n",
       "    <tr>\n",
       "      <th>4</th>\n",
       "      <td>100005.0</td>\n",
       "      <td>2.495675e+06</td>\n",
       "      <td>-20.000000</td>\n",
       "      <td>11.727273</td>\n",
       "      <td>7.181818</td>\n",
       "      <td>0.000000</td>\n",
       "      <td>0.000000</td>\n",
       "      <td>0.401515</td>\n",
       "      <td>0.818182</td>\n",
       "      <td>0.0</td>\n",
       "      <td>...</td>\n",
       "      <td>0.090909</td>\n",
       "      <td>0.0</td>\n",
       "      <td>1.111111</td>\n",
       "      <td>5.000000</td>\n",
       "      <td>-586.000000</td>\n",
       "      <td>-609.555556</td>\n",
       "      <td>6240.205000</td>\n",
       "      <td>6240.205000</td>\n",
       "      <td>-23.555556</td>\n",
       "      <td>0.0</td>\n",
       "    </tr>\n",
       "  </tbody>\n",
       "</table>\n",
       "<p>5 rows × 25 columns</p>\n",
       "</div>"
      ],
      "text/plain": [
       "   SK_ID_CURR    SK_ID_PREV  MONTHS_BALANCE  CNT_INSTALMENT  \\\n",
       "0    100001.0  1.584045e+06      -72.555556        4.000000   \n",
       "1    100002.0  1.038818e+06      -10.000000       24.000000   \n",
       "2    100003.0  2.297665e+06      -43.785714       10.107143   \n",
       "3    100004.0  1.564014e+06      -25.500000        3.750000   \n",
       "4    100005.0  2.495675e+06      -20.000000       11.727273   \n",
       "\n",
       "   CNT_INSTALMENT_FUTURE    SK_DPD  SK_DPD_DEF  PERCENT_COMPLETION    Active  \\\n",
       "0               1.444444  0.777778    0.777778            0.638889  0.777778   \n",
       "1              15.000000  0.000000    0.000000            0.375000  1.000000   \n",
       "2               5.785714  0.000000    0.000000            0.455357  0.928571   \n",
       "3               2.250000  0.000000    0.000000            0.437500  0.750000   \n",
       "4               7.181818  0.000000    0.000000            0.401515  0.818182   \n",
       "\n",
       "   Amortized debt      ...         Signed  XNA  NUM_INSTALMENT_VERSION  \\\n",
       "0             0.0      ...       0.000000  0.0                1.125000   \n",
       "1             0.0      ...       0.000000  0.0                1.052632   \n",
       "2             0.0      ...       0.000000  0.0                1.047619   \n",
       "3             0.0      ...       0.000000  0.0                1.333333   \n",
       "4             0.0      ...       0.090909  0.0                1.111111   \n",
       "\n",
       "   NUM_INSTALMENT_NUMBER  DAYS_INSTALMENT  DAYS_ENTRY_PAYMENT  AMT_INSTALMENT  \\\n",
       "0               2.750000     -2275.000000        -2280.916667     5647.200000   \n",
       "1              10.000000      -295.000000         -315.421053    11559.247105   \n",
       "2               4.666667     -1164.333333        -1171.781746    78558.479286   \n",
       "3               2.000000      -754.000000         -761.666667     7096.155000   \n",
       "4               5.000000      -586.000000         -609.555556     6240.205000   \n",
       "\n",
       "    AMT_PAYMENT  LATE_PAYMENT_DAYS  YOKIAN_SCORE  \n",
       "0   5647.200000          -5.916667           0.0  \n",
       "1  11559.247105         -20.421053           0.0  \n",
       "2  78558.479286          -7.448413           0.0  \n",
       "3   7096.155000          -7.666667           0.0  \n",
       "4   6240.205000         -23.555556           0.0  \n",
       "\n",
       "[5 rows x 25 columns]"
      ]
     },
     "execution_count": 57,
     "metadata": {},
     "output_type": "execute_result"
    }
   ],
   "source": [
    "insta.head()"
   ]
  },
  {
   "cell_type": "code",
   "execution_count": 58,
   "metadata": {},
   "outputs": [],
   "source": [
    "insta.drop('SK_ID_PREV', inplace=True, axis=1)"
   ]
  },
  {
   "cell_type": "code",
   "execution_count": 59,
   "metadata": {},
   "outputs": [
    {
     "data": {
      "text/plain": [
       "SK_ID_CURR                   0\n",
       "MONTHS_BALANCE            2866\n",
       "CNT_INSTALMENT            2866\n",
       "CNT_INSTALMENT_FUTURE     2866\n",
       "SK_DPD                    2866\n",
       "SK_DPD_DEF                2866\n",
       "PERCENT_COMPLETION        2866\n",
       "Active                    2866\n",
       "Amortized debt            2866\n",
       "Approved                  2866\n",
       "Canceled                  2866\n",
       "Completed                 2866\n",
       "Demand                    2866\n",
       "Returned to the store     2866\n",
       "Signed                    2866\n",
       "XNA                       2866\n",
       "NUM_INSTALMENT_VERSION     531\n",
       "NUM_INSTALMENT_NUMBER      531\n",
       "DAYS_INSTALMENT            531\n",
       "DAYS_ENTRY_PAYMENT         540\n",
       "AMT_INSTALMENT             531\n",
       "AMT_PAYMENT                540\n",
       "LATE_PAYMENT_DAYS          540\n",
       "YOKIAN_SCORE               540\n",
       "dtype: int64"
      ]
     },
     "execution_count": 59,
     "metadata": {},
     "output_type": "execute_result"
    }
   ],
   "source": [
    "insta.isnull().sum()"
   ]
  },
  {
   "cell_type": "code",
   "execution_count": 60,
   "metadata": {},
   "outputs": [],
   "source": [
    "for col in insta.columns:\n",
    "    insta[col].fillna(insta[col].median(), inplace=True)"
   ]
  },
  {
   "cell_type": "code",
   "execution_count": 61,
   "metadata": {},
   "outputs": [
    {
     "data": {
      "text/plain": [
       "(356255, 112)"
      ]
     },
     "execution_count": 61,
     "metadata": {},
     "output_type": "execute_result"
    }
   ],
   "source": [
    "app.shape"
   ]
  },
  {
   "cell_type": "code",
   "execution_count": 62,
   "metadata": {},
   "outputs": [],
   "source": [
    "app = pd.merge(app, insta, on='SK_ID_CURR', how='left')"
   ]
  },
  {
   "cell_type": "code",
   "execution_count": 63,
   "metadata": {},
   "outputs": [
    {
     "data": {
      "text/plain": [
       "(356255, 135)"
      ]
     },
     "execution_count": 63,
     "metadata": {},
     "output_type": "execute_result"
    }
   ],
   "source": [
    "app.shape"
   ]
  },
  {
   "cell_type": "code",
   "execution_count": 64,
   "metadata": {},
   "outputs": [
    {
     "data": {
      "text/plain": [
       "371151"
      ]
     },
     "execution_count": 64,
     "metadata": {},
     "output_type": "execute_result"
    }
   ],
   "source": [
    "app.isnull().sum().sum()"
   ]
  },
  {
   "cell_type": "code",
   "execution_count": 65,
   "metadata": {},
   "outputs": [],
   "source": [
    "for  col in app.isnull().sum()[app.isnull().sum()>0].index:\n",
    "    app[col].fillna(app[col].median(), inplace=True)"
   ]
  },
  {
   "cell_type": "code",
   "execution_count": 66,
   "metadata": {},
   "outputs": [],
   "source": [
    "del insta"
   ]
  },
  {
   "cell_type": "code",
   "execution_count": 67,
   "metadata": {},
   "outputs": [],
   "source": [
    "credit = pd.read_csv('credit_card_balance_ready_to_attach_to_appl.csv')"
   ]
  },
  {
   "cell_type": "code",
   "execution_count": 68,
   "metadata": {},
   "outputs": [
    {
     "data": {
      "text/html": [
       "<div>\n",
       "<style scoped>\n",
       "    .dataframe tbody tr th:only-of-type {\n",
       "        vertical-align: middle;\n",
       "    }\n",
       "\n",
       "    .dataframe tbody tr th {\n",
       "        vertical-align: top;\n",
       "    }\n",
       "\n",
       "    .dataframe thead th {\n",
       "        text-align: right;\n",
       "    }\n",
       "</style>\n",
       "<table border=\"1\" class=\"dataframe\">\n",
       "  <thead>\n",
       "    <tr style=\"text-align: right;\">\n",
       "      <th></th>\n",
       "      <th>SK_ID_CURR</th>\n",
       "      <th>SK_ID_PREV</th>\n",
       "      <th>MONTHS_BALANCE</th>\n",
       "      <th>AMT_BALANCE</th>\n",
       "      <th>AMT_CREDIT_LIMIT_ACTUAL</th>\n",
       "      <th>AMT_DRAWINGS_ATM_CURRENT</th>\n",
       "      <th>AMT_DRAWINGS_CURRENT</th>\n",
       "      <th>AMT_DRAWINGS_OTHER_CURRENT</th>\n",
       "      <th>AMT_DRAWINGS_POS_CURRENT</th>\n",
       "      <th>AMT_INST_MIN_REGULARITY</th>\n",
       "      <th>...</th>\n",
       "      <th>CNT_INSTALMENT_MATURE_CUM</th>\n",
       "      <th>SK_DPD</th>\n",
       "      <th>SK_DPD_DEF</th>\n",
       "      <th>Active</th>\n",
       "      <th>Approved</th>\n",
       "      <th>Completed</th>\n",
       "      <th>Demand</th>\n",
       "      <th>Refused</th>\n",
       "      <th>Sent proposal</th>\n",
       "      <th>Signed</th>\n",
       "    </tr>\n",
       "  </thead>\n",
       "  <tbody>\n",
       "    <tr>\n",
       "      <th>0</th>\n",
       "      <td>100006</td>\n",
       "      <td>1489396.0</td>\n",
       "      <td>-3.5</td>\n",
       "      <td>0.000000</td>\n",
       "      <td>270000.000000</td>\n",
       "      <td>5961.324822</td>\n",
       "      <td>0.000000</td>\n",
       "      <td>288.169582</td>\n",
       "      <td>2968.804848</td>\n",
       "      <td>0.000000</td>\n",
       "      <td>...</td>\n",
       "      <td>0.000000</td>\n",
       "      <td>0.000000</td>\n",
       "      <td>0.000000</td>\n",
       "      <td>1.000000</td>\n",
       "      <td>0.0</td>\n",
       "      <td>0.000000</td>\n",
       "      <td>0.0</td>\n",
       "      <td>0.0</td>\n",
       "      <td>0.0</td>\n",
       "      <td>0.0</td>\n",
       "    </tr>\n",
       "    <tr>\n",
       "      <th>1</th>\n",
       "      <td>100011</td>\n",
       "      <td>1843384.0</td>\n",
       "      <td>-38.5</td>\n",
       "      <td>54482.111149</td>\n",
       "      <td>164189.189189</td>\n",
       "      <td>2432.432432</td>\n",
       "      <td>2432.432432</td>\n",
       "      <td>0.000000</td>\n",
       "      <td>0.000000</td>\n",
       "      <td>3950.599988</td>\n",
       "      <td>...</td>\n",
       "      <td>25.700339</td>\n",
       "      <td>0.000000</td>\n",
       "      <td>0.000000</td>\n",
       "      <td>1.000000</td>\n",
       "      <td>0.0</td>\n",
       "      <td>0.000000</td>\n",
       "      <td>0.0</td>\n",
       "      <td>0.0</td>\n",
       "      <td>0.0</td>\n",
       "      <td>0.0</td>\n",
       "    </tr>\n",
       "    <tr>\n",
       "      <th>2</th>\n",
       "      <td>100013</td>\n",
       "      <td>2038692.0</td>\n",
       "      <td>-48.5</td>\n",
       "      <td>18159.919219</td>\n",
       "      <td>131718.750000</td>\n",
       "      <td>6325.707801</td>\n",
       "      <td>5953.125000</td>\n",
       "      <td>18.010599</td>\n",
       "      <td>185.550303</td>\n",
       "      <td>1606.619259</td>\n",
       "      <td>...</td>\n",
       "      <td>18.872662</td>\n",
       "      <td>0.010417</td>\n",
       "      <td>0.010417</td>\n",
       "      <td>1.000000</td>\n",
       "      <td>0.0</td>\n",
       "      <td>0.000000</td>\n",
       "      <td>0.0</td>\n",
       "      <td>0.0</td>\n",
       "      <td>0.0</td>\n",
       "      <td>0.0</td>\n",
       "    </tr>\n",
       "    <tr>\n",
       "      <th>3</th>\n",
       "      <td>100021</td>\n",
       "      <td>2594025.0</td>\n",
       "      <td>-10.0</td>\n",
       "      <td>0.000000</td>\n",
       "      <td>675000.000000</td>\n",
       "      <td>5961.324822</td>\n",
       "      <td>0.000000</td>\n",
       "      <td>288.169582</td>\n",
       "      <td>2968.804848</td>\n",
       "      <td>0.000000</td>\n",
       "      <td>...</td>\n",
       "      <td>0.000000</td>\n",
       "      <td>0.000000</td>\n",
       "      <td>0.000000</td>\n",
       "      <td>0.411765</td>\n",
       "      <td>0.0</td>\n",
       "      <td>0.588235</td>\n",
       "      <td>0.0</td>\n",
       "      <td>0.0</td>\n",
       "      <td>0.0</td>\n",
       "      <td>0.0</td>\n",
       "    </tr>\n",
       "    <tr>\n",
       "      <th>4</th>\n",
       "      <td>100023</td>\n",
       "      <td>1499902.0</td>\n",
       "      <td>-7.5</td>\n",
       "      <td>0.000000</td>\n",
       "      <td>135000.000000</td>\n",
       "      <td>5961.324822</td>\n",
       "      <td>0.000000</td>\n",
       "      <td>288.169582</td>\n",
       "      <td>2968.804848</td>\n",
       "      <td>0.000000</td>\n",
       "      <td>...</td>\n",
       "      <td>0.000000</td>\n",
       "      <td>0.000000</td>\n",
       "      <td>0.000000</td>\n",
       "      <td>1.000000</td>\n",
       "      <td>0.0</td>\n",
       "      <td>0.000000</td>\n",
       "      <td>0.0</td>\n",
       "      <td>0.0</td>\n",
       "      <td>0.0</td>\n",
       "      <td>0.0</td>\n",
       "    </tr>\n",
       "  </tbody>\n",
       "</table>\n",
       "<p>5 rows × 29 columns</p>\n",
       "</div>"
      ],
      "text/plain": [
       "   SK_ID_CURR  SK_ID_PREV  MONTHS_BALANCE   AMT_BALANCE  \\\n",
       "0      100006   1489396.0            -3.5      0.000000   \n",
       "1      100011   1843384.0           -38.5  54482.111149   \n",
       "2      100013   2038692.0           -48.5  18159.919219   \n",
       "3      100021   2594025.0           -10.0      0.000000   \n",
       "4      100023   1499902.0            -7.5      0.000000   \n",
       "\n",
       "   AMT_CREDIT_LIMIT_ACTUAL  AMT_DRAWINGS_ATM_CURRENT  AMT_DRAWINGS_CURRENT  \\\n",
       "0            270000.000000               5961.324822              0.000000   \n",
       "1            164189.189189               2432.432432           2432.432432   \n",
       "2            131718.750000               6325.707801           5953.125000   \n",
       "3            675000.000000               5961.324822              0.000000   \n",
       "4            135000.000000               5961.324822              0.000000   \n",
       "\n",
       "   AMT_DRAWINGS_OTHER_CURRENT  AMT_DRAWINGS_POS_CURRENT  \\\n",
       "0                  288.169582               2968.804848   \n",
       "1                    0.000000                  0.000000   \n",
       "2                   18.010599                185.550303   \n",
       "3                  288.169582               2968.804848   \n",
       "4                  288.169582               2968.804848   \n",
       "\n",
       "   AMT_INST_MIN_REGULARITY   ...    CNT_INSTALMENT_MATURE_CUM    SK_DPD  \\\n",
       "0                 0.000000   ...                     0.000000  0.000000   \n",
       "1              3950.599988   ...                    25.700339  0.000000   \n",
       "2              1606.619259   ...                    18.872662  0.010417   \n",
       "3                 0.000000   ...                     0.000000  0.000000   \n",
       "4                 0.000000   ...                     0.000000  0.000000   \n",
       "\n",
       "   SK_DPD_DEF    Active  Approved  Completed  Demand  Refused  Sent proposal  \\\n",
       "0    0.000000  1.000000       0.0   0.000000     0.0      0.0            0.0   \n",
       "1    0.000000  1.000000       0.0   0.000000     0.0      0.0            0.0   \n",
       "2    0.010417  1.000000       0.0   0.000000     0.0      0.0            0.0   \n",
       "3    0.000000  0.411765       0.0   0.588235     0.0      0.0            0.0   \n",
       "4    0.000000  1.000000       0.0   0.000000     0.0      0.0            0.0   \n",
       "\n",
       "   Signed  \n",
       "0     0.0  \n",
       "1     0.0  \n",
       "2     0.0  \n",
       "3     0.0  \n",
       "4     0.0  \n",
       "\n",
       "[5 rows x 29 columns]"
      ]
     },
     "execution_count": 68,
     "metadata": {},
     "output_type": "execute_result"
    }
   ],
   "source": [
    "credit.head()"
   ]
  },
  {
   "cell_type": "code",
   "execution_count": 69,
   "metadata": {},
   "outputs": [],
   "source": [
    "credit.drop('SK_ID_PREV', inplace=True, axis=1)"
   ]
  },
  {
   "cell_type": "code",
   "execution_count": 70,
   "metadata": {},
   "outputs": [
    {
     "data": {
      "text/plain": [
       "0"
      ]
     },
     "execution_count": 70,
     "metadata": {},
     "output_type": "execute_result"
    }
   ],
   "source": [
    "credit.isnull().sum().sum()"
   ]
  },
  {
   "cell_type": "code",
   "execution_count": 71,
   "metadata": {},
   "outputs": [
    {
     "data": {
      "text/plain": [
       "(356255, 135)"
      ]
     },
     "execution_count": 71,
     "metadata": {},
     "output_type": "execute_result"
    }
   ],
   "source": [
    "app.shape"
   ]
  },
  {
   "cell_type": "code",
   "execution_count": 72,
   "metadata": {},
   "outputs": [],
   "source": [
    "app = pd.merge(app, credit, on='SK_ID_CURR', how='left')"
   ]
  },
  {
   "cell_type": "code",
   "execution_count": 73,
   "metadata": {},
   "outputs": [
    {
     "data": {
      "text/plain": [
       "(356255, 162)"
      ]
     },
     "execution_count": 73,
     "metadata": {},
     "output_type": "execute_result"
    }
   ],
   "source": [
    "app.shape"
   ]
  },
  {
   "cell_type": "code",
   "execution_count": 74,
   "metadata": {},
   "outputs": [
    {
     "data": {
      "text/plain": [
       "6822819"
      ]
     },
     "execution_count": 74,
     "metadata": {},
     "output_type": "execute_result"
    }
   ],
   "source": [
    "app.isnull().sum().sum()"
   ]
  },
  {
   "cell_type": "code",
   "execution_count": 75,
   "metadata": {},
   "outputs": [],
   "source": [
    "for  col in app.isnull().sum()[app.isnull().sum()>0].index:\n",
    "    app[col].fillna(app[col].median(), inplace=True)"
   ]
  },
  {
   "cell_type": "code",
   "execution_count": 76,
   "metadata": {},
   "outputs": [],
   "source": [
    "app = pd.get_dummies(app)"
   ]
  },
  {
   "cell_type": "code",
   "execution_count": 77,
   "metadata": {},
   "outputs": [
    {
     "data": {
      "text/plain": [
       "(356255, 230)"
      ]
     },
     "execution_count": 77,
     "metadata": {},
     "output_type": "execute_result"
    }
   ],
   "source": [
    "app.shape"
   ]
  },
  {
   "cell_type": "code",
   "execution_count": 12,
   "metadata": {},
   "outputs": [],
   "source": [
    "app = pd.read_csv('ready_for_model_building_appl.csv')"
   ]
  },
  {
   "cell_type": "code",
   "execution_count": 13,
   "metadata": {},
   "outputs": [],
   "source": [
    "app_tr = app.iloc[:307511, :]"
   ]
  },
  {
   "cell_type": "code",
   "execution_count": 14,
   "metadata": {},
   "outputs": [],
   "source": [
    "app_ts = app.iloc[307511:, :]"
   ]
  },
  {
   "cell_type": "code",
   "execution_count": 15,
   "metadata": {},
   "outputs": [],
   "source": [
    "X = app_tr.values"
   ]
  },
  {
   "cell_type": "code",
   "execution_count": 16,
   "metadata": {},
   "outputs": [],
   "source": [
    "from sklearn.ensemble import RandomForestClassifier"
   ]
  },
  {
   "cell_type": "code",
   "execution_count": 17,
   "metadata": {},
   "outputs": [],
   "source": [
    "from sklearn.model_selection import train_test_split"
   ]
  },
  {
   "cell_type": "code",
   "execution_count": 18,
   "metadata": {},
   "outputs": [],
   "source": [
    "X_tr, X_ts, y_tr, y_ts = train_test_split(X, y, test_size=0.1)"
   ]
  },
  {
   "cell_type": "code",
   "execution_count": 19,
   "metadata": {},
   "outputs": [],
   "source": [
    "from sklearn.model_selection import GridSearchCV"
   ]
  },
  {
   "cell_type": "code",
   "execution_count": 20,
   "metadata": {},
   "outputs": [],
   "source": [
    "simple_rf = RandomForestClassifier()"
   ]
  },
  {
   "cell_type": "code",
   "execution_count": 51,
   "metadata": {},
   "outputs": [
    {
     "data": {
      "text/plain": [
       "RandomForestClassifier(bootstrap=True, class_weight=None, criterion='gini',\n",
       "            max_depth=None, max_features='auto', max_leaf_nodes=None,\n",
       "            min_impurity_decrease=0.0, min_impurity_split=None,\n",
       "            min_samples_leaf=1, min_samples_split=2,\n",
       "            min_weight_fraction_leaf=0.0, n_estimators=10, n_jobs=1,\n",
       "            oob_score=False, random_state=None, verbose=0,\n",
       "            warm_start=False)"
      ]
     },
     "execution_count": 51,
     "metadata": {},
     "output_type": "execute_result"
    }
   ],
   "source": [
    "simple_rf.fit(X_tr, y_tr)"
   ]
  },
  {
   "cell_type": "code",
   "execution_count": 52,
   "metadata": {},
   "outputs": [
    {
     "data": {
      "text/plain": [
       "0.9997875177962385"
      ]
     },
     "execution_count": 52,
     "metadata": {},
     "output_type": "execute_result"
    }
   ],
   "source": [
    "roc_auc_score(y_tr, simple_rf.predict_proba(X_tr)[:, 1])"
   ]
  },
  {
   "cell_type": "code",
   "execution_count": 53,
   "metadata": {},
   "outputs": [
    {
     "data": {
      "text/plain": [
       "0.6476147338704396"
      ]
     },
     "execution_count": 53,
     "metadata": {},
     "output_type": "execute_result"
    }
   ],
   "source": [
    "roc_auc_score(y_ts, simple_rf.predict_proba(X_ts)[:, 1])"
   ]
  },
  {
   "cell_type": "code",
   "execution_count": null,
   "metadata": {},
   "outputs": [],
   "source": [
    "simple_rf.score(X_ts, y_ts)"
   ]
  },
  {
   "cell_type": "code",
   "execution_count": 87,
   "metadata": {},
   "outputs": [],
   "source": [
    "del simple_rf"
   ]
  },
  {
   "cell_type": "code",
   "execution_count": 21,
   "metadata": {},
   "outputs": [],
   "source": [
    "from sklearn.metrics import make_scorer"
   ]
  },
  {
   "cell_type": "code",
   "execution_count": 22,
   "metadata": {},
   "outputs": [],
   "source": [
    "from sklearn.metrics import roc_auc_score"
   ]
  },
  {
   "cell_type": "code",
   "execution_count": 23,
   "metadata": {},
   "outputs": [],
   "source": [
    "from sklearn.metrics import roc_curve"
   ]
  },
  {
   "cell_type": "code",
   "execution_count": null,
   "metadata": {},
   "outputs": [],
   "source": [
    "ns = [10,30,50,80,100,120,150,180,200,220]\n",
    "train_auc = []\n",
    "test_auc = []\n",
    "for n in ns:\n",
    "    rf = RandomForestClassifier(n_estimators = n, n_jobs=5)\n",
    "    rf.fit(X_tr, y_tr)\n",
    "    y_hat_tr = rf.predict_proba(X_tr)[:, 1]\n",
    "    y_hat_ts = rf.predict_proba(X_ts)[:, 1]\n",
    "    train_auc.append(roc_auc_score(y_tr, y_hat_tr))\n",
    "    test_auc.append(roc_auc_score(y_ts, y_hat_ts))"
   ]
  },
  {
   "cell_type": "code",
   "execution_count": null,
   "metadata": {},
   "outputs": [],
   "source": [
    "\n",
    "fig = plt.figure(figsize=(16,16))\n",
    "plt.plot(ns, train_auc, label='train')\n",
    "plt.plot(ns, test_auc, label='test')\n",
    "plt.legend()\n",
    "plt.show()"
   ]
  },
  {
   "cell_type": "code",
   "execution_count": null,
   "metadata": {},
   "outputs": [],
   "source": [
    "params = {'n_estimators':[200],\n",
    "         'max_depth':[13],\n",
    "         'min_impurity_decrease':[0.00001],\n",
    "         'min_samples_leaf':[8],\n",
    "         'min_samples_split':[9]\n",
    "         }"
   ]
  },
  {
   "cell_type": "code",
   "execution_count": null,
   "metadata": {},
   "outputs": [],
   "source": [
    "params = {'n_estimators':[200],\n",
    "         'max_depth':[13],\n",
    "         'min_impurity_decrease':[0.00001],\n",
    "         'min_samples_leaf':[9],\n",
    "         'min_samples_split':[10]\n",
    "         }"
   ]
  },
  {
   "cell_type": "code",
   "execution_count": null,
   "metadata": {},
   "outputs": [],
   "source": [
    "grid_rf = GridSearchCV(estimator=RandomForestClassifier(n_jobs=5), param_grid=params, cv=3, scoring = make_scorer(roc_auc_score), verbose=1, n_jobs=1)"
   ]
  },
  {
   "cell_type": "code",
   "execution_count": null,
   "metadata": {},
   "outputs": [],
   "source": [
    "grid_rf.fit(X_tr, y_tr)"
   ]
  },
  {
   "cell_type": "code",
   "execution_count": null,
   "metadata": {},
   "outputs": [],
   "source": [
    "grid_rf.best_score_"
   ]
  },
  {
   "cell_type": "code",
   "execution_count": null,
   "metadata": {},
   "outputs": [],
   "source": [
    "grid_rf.best_params_"
   ]
  },
  {
   "cell_type": "code",
   "execution_count": null,
   "metadata": {},
   "outputs": [],
   "source": [
    "roc_auc_score(y_tr, grid_rf.best_estimator_.predict_proba(X_tr)[:, 1])"
   ]
  },
  {
   "cell_type": "code",
   "execution_count": null,
   "metadata": {},
   "outputs": [],
   "source": [
    "roc_auc_score(y_ts, grid_rf.best_estimator_.predict_proba(X_ts)[:, 1])"
   ]
  },
  {
   "cell_type": "code",
   "execution_count": null,
   "metadata": {},
   "outputs": [],
   "source": [
    "roc_auc_score(y_tr, grid_rf.best_estimator_.predict_proba(X_tr)[:, 1])"
   ]
  },
  {
   "cell_type": "code",
   "execution_count": null,
   "metadata": {},
   "outputs": [],
   "source": [
    "roc_auc_score(y_ts, grid_rf.best_estimator_.predict_proba(X_ts)[:, 1])"
   ]
  },
  {
   "cell_type": "code",
   "execution_count": null,
   "metadata": {},
   "outputs": [],
   "source": [
    "del grid_rf"
   ]
  },
  {
   "cell_type": "code",
   "execution_count": 24,
   "metadata": {},
   "outputs": [],
   "source": [
    "best_rf = RandomForestClassifier(n_estimators=250, max_depth=13, min_impurity_decrease=0.00001, min_samples_leaf=8, min_samples_split=9)"
   ]
  },
  {
   "cell_type": "code",
   "execution_count": 25,
   "metadata": {},
   "outputs": [
    {
     "data": {
      "text/plain": [
       "RandomForestClassifier(bootstrap=True, class_weight=None, criterion='gini',\n",
       "            max_depth=13, max_features='auto', max_leaf_nodes=None,\n",
       "            min_impurity_decrease=1e-05, min_impurity_split=None,\n",
       "            min_samples_leaf=8, min_samples_split=9,\n",
       "            min_weight_fraction_leaf=0.0, n_estimators=250, n_jobs=1,\n",
       "            oob_score=False, random_state=None, verbose=0,\n",
       "            warm_start=False)"
      ]
     },
     "execution_count": 25,
     "metadata": {},
     "output_type": "execute_result"
    }
   ],
   "source": [
    "best_rf.fit(X_tr, y_tr)"
   ]
  },
  {
   "cell_type": "code",
   "execution_count": 26,
   "metadata": {},
   "outputs": [
    {
     "data": {
      "text/plain": [
       "0.8157653707917668"
      ]
     },
     "execution_count": 26,
     "metadata": {},
     "output_type": "execute_result"
    }
   ],
   "source": [
    "roc_auc_score(y_tr, best_rf.predict_proba(X_tr)[:, 1])"
   ]
  },
  {
   "cell_type": "code",
   "execution_count": 27,
   "metadata": {},
   "outputs": [
    {
     "data": {
      "text/plain": [
       "0.7517048623902153"
      ]
     },
     "execution_count": 27,
     "metadata": {},
     "output_type": "execute_result"
    }
   ],
   "source": [
    "roc_auc_score(y_ts, best_rf.predict_proba(X_ts)[:, 1])"
   ]
  },
  {
   "cell_type": "code",
   "execution_count": 107,
   "metadata": {},
   "outputs": [],
   "source": [
    "import pickle"
   ]
  },
  {
   "cell_type": "code",
   "execution_count": 108,
   "metadata": {},
   "outputs": [],
   "source": [
    "pickle.dump(best_rf, open('cross_validated_random_forest.pickle', 'wb'))"
   ]
  },
  {
   "cell_type": "code",
   "execution_count": 49,
   "metadata": {},
   "outputs": [],
   "source": [
    "submission = pd.read_csv('sample_submission.csv')"
   ]
  },
  {
   "cell_type": "code",
   "execution_count": 50,
   "metadata": {},
   "outputs": [
    {
     "data": {
      "text/html": [
       "<div>\n",
       "<style scoped>\n",
       "    .dataframe tbody tr th:only-of-type {\n",
       "        vertical-align: middle;\n",
       "    }\n",
       "\n",
       "    .dataframe tbody tr th {\n",
       "        vertical-align: top;\n",
       "    }\n",
       "\n",
       "    .dataframe thead th {\n",
       "        text-align: right;\n",
       "    }\n",
       "</style>\n",
       "<table border=\"1\" class=\"dataframe\">\n",
       "  <thead>\n",
       "    <tr style=\"text-align: right;\">\n",
       "      <th></th>\n",
       "      <th>SK_ID_CURR</th>\n",
       "      <th>TARGET</th>\n",
       "    </tr>\n",
       "  </thead>\n",
       "  <tbody>\n",
       "    <tr>\n",
       "      <th>0</th>\n",
       "      <td>100001</td>\n",
       "      <td>0.5</td>\n",
       "    </tr>\n",
       "    <tr>\n",
       "      <th>1</th>\n",
       "      <td>100005</td>\n",
       "      <td>0.5</td>\n",
       "    </tr>\n",
       "    <tr>\n",
       "      <th>2</th>\n",
       "      <td>100013</td>\n",
       "      <td>0.5</td>\n",
       "    </tr>\n",
       "    <tr>\n",
       "      <th>3</th>\n",
       "      <td>100028</td>\n",
       "      <td>0.5</td>\n",
       "    </tr>\n",
       "    <tr>\n",
       "      <th>4</th>\n",
       "      <td>100038</td>\n",
       "      <td>0.5</td>\n",
       "    </tr>\n",
       "  </tbody>\n",
       "</table>\n",
       "</div>"
      ],
      "text/plain": [
       "   SK_ID_CURR  TARGET\n",
       "0      100001     0.5\n",
       "1      100005     0.5\n",
       "2      100013     0.5\n",
       "3      100028     0.5\n",
       "4      100038     0.5"
      ]
     },
     "execution_count": 50,
     "metadata": {},
     "output_type": "execute_result"
    }
   ],
   "source": [
    "submission.head()"
   ]
  },
  {
   "cell_type": "code",
   "execution_count": 95,
   "metadata": {},
   "outputs": [],
   "source": [
    "submission['TARGET'] = best_rf.predict_proba(app_ts.values)[:, 1]"
   ]
  },
  {
   "cell_type": "code",
   "execution_count": 96,
   "metadata": {},
   "outputs": [],
   "source": [
    "submission.to_csv('submission_best_rf.csv', index=False)"
   ]
  },
  {
   "cell_type": "code",
   "execution_count": 28,
   "metadata": {},
   "outputs": [],
   "source": [
    "feat_imp = best_rf.feature_importances_"
   ]
  },
  {
   "cell_type": "code",
   "execution_count": 29,
   "metadata": {
    "scrolled": false
   },
   "outputs": [
    {
     "name": "stdout",
     "output_type": "stream",
     "text": [
      "Unnamed: 0:    0.005358673662788894\n",
      "SK_ID_CURR:    0.00545861900978449\n",
      "CNT_CHILDREN:    0.0007634545715509647\n",
      "AMT_INCOME_TOTAL:    0.0038465231040656477\n",
      "AMT_CREDIT:    0.007390620259462592\n",
      "AMT_ANNUITY_x:    0.007099997823745207\n",
      "AMT_GOODS_PRICE:    0.010185656800828119\n",
      "REGION_POPULATION_RELATIVE:    0.006163663476115386\n",
      "DAYS_BIRTH:    0.015924009732707623\n",
      "DAYS_EMPLOYED:    0.009872582426141991\n",
      "DAYS_REGISTRATION:    0.007126154820044118\n",
      "DAYS_ID_PUBLISH:    0.007524224652361234\n",
      "OWN_CAR_AGE:    0.002866559058778217\n",
      "CNT_FAM_MEMBERS:    0.0008901803137882805\n",
      "HOUR_APPR_PROCESS_START:    0.003778431647328824\n",
      "EXT_SOURCE_1:    0.03458944195220439\n",
      "EXT_SOURCE_2:    0.11233826076723591\n",
      "EXT_SOURCE_3:    0.09772451132328615\n",
      "YEARS_BEGINEXPLUATATION_AVG:    0.005387289387769315\n",
      "LIVINGAREA_AVG:    0.0050754573777975496\n",
      "YEARS_BEGINEXPLUATATION_MODE:    0.005025791985527347\n",
      "LIVINGAREA_MODE:    0.004704907760408256\n",
      "YEARS_BEGINEXPLUATATION_MEDI:    0.005460929951103282\n",
      "LIVINGAREA_MEDI:    0.0051222822970965936\n",
      "TOTALAREA_MODE:    0.005553095798496662\n",
      "OBS_30_CNT_SOCIAL_CIRCLE:    0.00202322418022742\n",
      "DEF_30_CNT_SOCIAL_CIRCLE:    0.001518064436803926\n",
      "OBS_60_CNT_SOCIAL_CIRCLE:    0.0018287988114657051\n",
      "DEF_60_CNT_SOCIAL_CIRCLE:    0.0014356443477961793\n",
      "DAYS_LAST_PHONE_CHANGE:    0.010412523374911376\n",
      "AMT_REQ_CREDIT_BUREAU_YEAR:    0.0019721473587405755\n",
      "CREDIT_INCOME_RATIO:    0.00658917307050961\n",
      "DAYS_EMPLOYED_ISNULL:    0.0\n",
      "ANNUITY_INCOME_RATIO:    0.007939395825599542\n",
      "CREDIT_GOODS_PRICE_DIFF:    0.012683041988536878\n",
      "ENTIRE_INCOME:    0.010393133817188677\n",
      "CREDIT_ENTIRE_INCOME_RATIO:    0.02072055933591768\n",
      "ANNUITY_ENTIRE_INCOME_RATIO:    0.018050639364323183\n",
      "INCOME_PER_CHILD:    0.0043742540172175175\n",
      "INCOME_PER_FAM_MEMBER:    0.0044250344855271476\n",
      "ENTIRE_INCOME_PER_FAM_MEMBER:    0.007960318170462357\n",
      "ENTIRE_INCOME_PER_CHILD:    0.006704888530654776\n",
      "AMT_ANNUITY_ISNULL:    0.0\n",
      "AMT_REQ_CREDIT_BUREAU_TOTAL:    0.002064798714705368\n",
      "AMT_REQ_CREDIT_BUREAU_EMA:    0.0016075215430017915\n",
      "DAYS_CREDIT:    0.022428666299629293\n",
      "CREDIT_DAY_OVERDUE:    0.0014782092320905788\n",
      "DAYS_CREDIT_ENDDATE:    0.011822038204640506\n",
      "DAYS_ENDDATE_FACT:    0.00629851767798183\n",
      "AMT_CREDIT_MAX_OVERDUE:    0.006302264890003951\n",
      "CNT_CREDIT_PROLONG:    0.00033930946075965085\n",
      "AMT_CREDIT_SUM:    0.006911037244135334\n",
      "AMT_CREDIT_SUM_DEBT:    0.006464646306353451\n",
      "AMT_CREDIT_SUM_LIMIT:    0.0032286256773333666\n",
      "AMT_CREDIT_SUM_OVERDUE:    0.004951048234083258\n",
      "DAYS_CREDIT_UPDATE:    0.011800223749606925\n",
      "AMT_ANNUITY_y:    0.002202555450884086\n",
      "Active_x:    0.011999901474819812\n",
      "Bad debt:    0.0\n",
      "Closed:    0.011349271263953312\n",
      "Sold:    0.0006207351827557694\n",
      "currency 1:    1.8699869019828972e-05\n",
      "currency 2:    4.112120508693831e-06\n",
      "currency 3:    2.824298606753599e-06\n",
      "currency 4:    0.0\n",
      "Another type of loan:    1.4779540901593093e-05\n",
      "Car loan:    0.00025155833277169104\n",
      "Cash loan (non-earmarked):    0.0\n",
      "Consumer credit:    0.002725834340844709\n",
      "Credit card:    0.002891183421039187\n",
      "Interbank credit:    0.0\n",
      "Loan for business development:    2.9469882429191176e-05\n",
      "Loan for purchase of shares (margin lending):    0.0\n",
      "Loan for the purchase of equipment:    0.0\n",
      "Loan for working capital replenishment:    2.3701527289382695e-05\n",
      "Microloan:    0.00575511656784275\n",
      "Mobile operator loan:    0.0\n",
      "Mortgage:    0.00016483974149605565\n",
      "Real estate loan:    0.0\n",
      "Unknown type of loan:    0.0\n",
      "LATE_DAYS_x:    0.0063805726070403235\n",
      "score:    0.0026480373388901544\n",
      "STATUS_X:    0.0018290695031226787\n",
      "NFLAG_INSURED_ON_APPROVAL:    0.0022326825217394803\n",
      "DAYS_TERMINATION:    0.005502068271131423\n",
      "DAYS_LAST_DUE:    0.006110249287398156\n",
      "DAYS_LAST_DUE_1ST_VERSION:    0.006969265657688139\n",
      "DAYS_FIRST_DUE:    0.007054728997388247\n",
      "DAYS_FIRST_DRAWING:    0.0034305070296021607\n",
      "LATE_DAYS_y:    0.004751484740987806\n",
      "EXTRA_DAYS:    0.004213115134227524\n",
      "XNA_x:    0.004268471329206167\n",
      "high:    0.0052838547862292485\n",
      "low_action:    0.0010924393874548\n",
      "low_normal:    0.002742954967142355\n",
      "middle:    0.002855935120784424\n",
      "CLIENT:    0.0005507563017871873\n",
      "HC:    0.007590788571716173\n",
      "LIMIT:    0.0035654904193489997\n",
      "SCO:    0.001020106492786659\n",
      "SCOFR:    0.008783893735126199\n",
      "SYSTEM:    2.765040478819396e-05\n",
      "VERIF:    0.0001243800502442827\n",
      "XAP:    0.01942748133820305\n",
      "XNA.1:    0.00019066510735406554\n",
      "MONTHS_BALANCE_x:    0.008064514178013325\n",
      "CNT_INSTALMENT:    0.007031927327588623\n",
      "CNT_INSTALMENT_FUTURE:    0.00938585144394499\n",
      "SK_DPD_x:    0.0055414789372379945\n",
      "SK_DPD_DEF_x:    0.009893157992379534\n",
      "PERCENT_COMPLETION:    0.010906501084274798\n",
      "Active_y:    0.0043008224312090435\n",
      "Amortized debt:    0.0\n",
      "Approved_x:    0.00016490666113715268\n",
      "Canceled:    0.0\n",
      "Completed_x:    0.0038872556382118827\n",
      "Demand_x:    8.394000434887299e-05\n",
      "Returned to the store:    0.000375378798692321\n",
      "Signed_x:    0.001696485094466303\n",
      "XNA_y:    0.0\n",
      "NUM_INSTALMENT_VERSION:    0.0043507748135667304\n",
      "NUM_INSTALMENT_NUMBER:    0.006752195128781462\n",
      "DAYS_INSTALMENT:    0.010490401880306198\n",
      "DAYS_ENTRY_PAYMENT:    0.01031552632913775\n",
      "AMT_INSTALMENT:    0.009483495240890568\n",
      "AMT_PAYMENT:    0.012098262145989178\n",
      "LATE_PAYMENT_DAYS:    0.008616342981857605\n",
      "YOKIAN_SCORE:    0.021015879436109143\n",
      "MONTHS_BALANCE_y:    0.0026730093280819133\n",
      "AMT_BALANCE:    0.005746044523722448\n",
      "AMT_CREDIT_LIMIT_ACTUAL:    0.0024708583228596885\n",
      "AMT_DRAWINGS_ATM_CURRENT:    0.006899316178935166\n",
      "AMT_DRAWINGS_CURRENT:    0.005906526261986022\n",
      "AMT_DRAWINGS_OTHER_CURRENT:    0.0013145894711963039\n",
      "AMT_DRAWINGS_POS_CURRENT:    0.002639462554330473\n",
      "AMT_INST_MIN_REGULARITY:    0.003639213164408528\n",
      "AMT_PAYMENT_CURRENT:    0.003596239046097301\n",
      "AMT_PAYMENT_TOTAL_CURRENT:    0.0038252807112909852\n",
      "AMT_RECEIVABLE_PRINCIPAL:    0.004443966886857229\n",
      "AMT_RECIVABLE:    0.005140372747633262\n",
      "AMT_TOTAL_RECEIVABLE:    0.0049822372783103345\n",
      "CNT_DRAWINGS_ATM_CURRENT:    0.014185312852315385\n",
      "CNT_DRAWINGS_CURRENT:    0.009591264663727535\n",
      "CNT_DRAWINGS_OTHER_CURRENT:    0.0013261174558841682\n",
      "CNT_DRAWINGS_POS_CURRENT:    0.0038522909052376205\n",
      "CNT_INSTALMENT_MATURE_CUM:    0.0030589581309545563\n",
      "SK_DPD_y:    0.0012555648159373817\n",
      "SK_DPD_DEF_y:    0.0013481789817411216\n",
      "Active:    0.00038800638300847475\n",
      "Approved_y:    0.0\n",
      "Completed_y:    0.0002033396375801225\n",
      "Demand_y:    0.0\n",
      "Refused:    0.0\n",
      "Sent proposal:    0.0\n",
      "Signed_y:    0.00017768993864042022\n",
      "NAME_CONTRACT_TYPE_Cash loans:    0.0005215780559389995\n",
      "NAME_CONTRACT_TYPE_Revolving loans:    0.0005831424000173411\n",
      "CODE_GENDER_F:    0.00550921491719591\n",
      "CODE_GENDER_M:    0.005416290976801229\n",
      "CODE_GENDER_XNA:    0.0\n",
      "NAME_EDUCATION_TYPE_Academic degree:    0.0\n",
      "NAME_EDUCATION_TYPE_Higher education:    0.008657863930236754\n",
      "NAME_EDUCATION_TYPE_Incomplete higher:    0.00012311337903858546\n",
      "NAME_EDUCATION_TYPE_Lower secondary:    0.00024073948139392224\n",
      "NAME_EDUCATION_TYPE_Secondary / secondary special:    0.005670722656135562\n",
      "NAME_FAMILY_STATUS_Civil marriage:    0.00044036116051850935\n",
      "NAME_FAMILY_STATUS_Married:    0.0012026071209382144\n",
      "NAME_FAMILY_STATUS_Separated:    0.00018478453159460277\n",
      "NAME_FAMILY_STATUS_Single / not married:    0.00043113182756105334\n",
      "NAME_FAMILY_STATUS_Unknown:    0.0\n",
      "NAME_FAMILY_STATUS_Widow:    5.4331027998395e-05\n",
      "OCCUPATION_TYPE_Accountants:    4.715768638420683e-05\n",
      "OCCUPATION_TYPE_Cleaning staff:    7.170200897990666e-05\n",
      "OCCUPATION_TYPE_Cooking staff:    0.00017459359197151474\n",
      "OCCUPATION_TYPE_Core staff:    0.0006346306255714403\n",
      "OCCUPATION_TYPE_Drivers:    0.000560417717811883\n",
      "OCCUPATION_TYPE_HR staff:    2.7118779733434188e-06\n",
      "OCCUPATION_TYPE_High skill tech staff:    3.8149486943969776e-05\n",
      "OCCUPATION_TYPE_IT staff:    6.150230146127984e-06\n",
      "OCCUPATION_TYPE_Laborers:    0.0010745596655963746\n",
      "OCCUPATION_TYPE_Low-skill Laborers:    0.00032359114060357216\n",
      "OCCUPATION_TYPE_Managers:    0.00010752159948130829\n",
      "OCCUPATION_TYPE_Medicine staff:    4.389928839838415e-05\n",
      "OCCUPATION_TYPE_Private service staff:    3.2981733266142936e-05\n",
      "OCCUPATION_TYPE_Realty agents:    6.375342004109862e-06\n",
      "OCCUPATION_TYPE_Sales staff:    0.00035481471401584803\n",
      "OCCUPATION_TYPE_Secretaries:    5.819550316552193e-06\n",
      "OCCUPATION_TYPE_Security staff:    0.00024224997799849853\n",
      "OCCUPATION_TYPE_Waiters/barmen staff:    4.6497786465996486e-05\n",
      "WEEKDAY_APPR_PROCESS_START_FRIDAY:    0.00029451766206573595\n",
      "WEEKDAY_APPR_PROCESS_START_MONDAY:    0.0002508455025483969\n",
      "WEEKDAY_APPR_PROCESS_START_SATURDAY:    0.00022776928278289384\n",
      "WEEKDAY_APPR_PROCESS_START_SUNDAY:    0.00013028301805536\n",
      "WEEKDAY_APPR_PROCESS_START_THURSDAY:    0.00030984522373478786\n",
      "WEEKDAY_APPR_PROCESS_START_TUESDAY:    0.00033862965428079926\n",
      "WEEKDAY_APPR_PROCESS_START_WEDNESDAY:    0.0002539126266944061\n",
      "ORGANIZATION_TYPE_Agriculture:    6.280004264850397e-05\n",
      "ORGANIZATION_TYPE_Bank:    1.434365489511353e-05\n",
      "ORGANIZATION_TYPE_Business Entity Type 1:    7.898178328498392e-05\n",
      "ORGANIZATION_TYPE_Business Entity Type 2:    9.932180785772018e-05\n",
      "ORGANIZATION_TYPE_Business Entity Type 3:    0.0005385749143649714\n",
      "ORGANIZATION_TYPE_Cleaning:    0.0\n",
      "ORGANIZATION_TYPE_Construction:    0.0002631228260505691\n",
      "ORGANIZATION_TYPE_Government:    4.819834344066064e-05\n",
      "ORGANIZATION_TYPE_Housing:    8.755399105918418e-05\n",
      "ORGANIZATION_TYPE_Industry:    0.00010346367968032348\n",
      "ORGANIZATION_TYPE_Industry: type 11:    8.241167184795773e-05\n",
      "ORGANIZATION_TYPE_Kindergarten:    3.398065007954083e-05\n",
      "ORGANIZATION_TYPE_Medicine:    7.137641644761972e-05\n",
      "ORGANIZATION_TYPE_Military:    1.3683524269407409e-05\n",
      "ORGANIZATION_TYPE_Other:    9.07042747667237e-05\n",
      "ORGANIZATION_TYPE_Police:    1.0253936374889808e-05\n",
      "ORGANIZATION_TYPE_Postal:    1.738674222695804e-05\n",
      "ORGANIZATION_TYPE_Rare 1:    1.5643774631415862e-05\n",
      "ORGANIZATION_TYPE_Rare 2:    5.348306005366169e-06\n",
      "ORGANIZATION_TYPE_Restaurant:    9.98265044985098e-05\n",
      "ORGANIZATION_TYPE_School:    2.7410761040730967e-05\n",
      "ORGANIZATION_TYPE_Security:    0.00010843276635584058\n",
      "ORGANIZATION_TYPE_Security Ministries:    3.335901790344767e-06\n",
      "ORGANIZATION_TYPE_Self-employed:    0.0007446371325678715\n",
      "ORGANIZATION_TYPE_Services:    1.2936046046094126e-05\n",
      "ORGANIZATION_TYPE_Trade: type 2:    1.5240403134532299e-05\n",
      "ORGANIZATION_TYPE_Trade: type 3:    8.78786866563111e-05\n",
      "ORGANIZATION_TYPE_Trade: type 7:    0.0001212738475370179\n",
      "ORGANIZATION_TYPE_Transport: type 2:    2.7040634377180424e-05\n",
      "ORGANIZATION_TYPE_Transport: type 4:    0.00013181486884418335\n",
      "ORGANIZATION_TYPE_XNA:    0.0008951473839703804\n",
      "FLAG_OWN_PROPERTY_NN:    0.0003749618653940546\n",
      "FLAG_OWN_PROPERTY_NY:    0.00015016284369872817\n",
      "FLAG_OWN_PROPERTY_YN:    0.000774080720585945\n",
      "FLAG_OWN_PROPERTY_YY:    0.0003939226180542434\n"
     ]
    }
   ],
   "source": [
    "i = 0\n",
    "for col in app.columns:\n",
    "    print('{}:    {}'.format(col, feat_imp[i]))\n",
    "    i = i+1"
   ]
  },
  {
   "cell_type": "code",
   "execution_count": 30,
   "metadata": {},
   "outputs": [],
   "source": [
    "dic = dict(zip(app.columns, feat_imp))"
   ]
  },
  {
   "cell_type": "code",
   "execution_count": 31,
   "metadata": {},
   "outputs": [],
   "source": [
    "dic_sorted = sorted(dic.items(), key=lambda kv:kv[1])"
   ]
  },
  {
   "cell_type": "code",
   "execution_count": 32,
   "metadata": {
    "scrolled": false
   },
   "outputs": [
    {
     "data": {
      "text/plain": [
       "[('DAYS_EMPLOYED_ISNULL', 0.0),\n",
       " ('AMT_ANNUITY_ISNULL', 0.0),\n",
       " ('Bad debt', 0.0),\n",
       " ('currency 4', 0.0),\n",
       " ('Cash loan (non-earmarked)', 0.0),\n",
       " ('Interbank credit', 0.0),\n",
       " ('Loan for purchase of shares (margin lending)', 0.0),\n",
       " ('Loan for the purchase of equipment', 0.0),\n",
       " ('Mobile operator loan', 0.0),\n",
       " ('Real estate loan', 0.0),\n",
       " ('Unknown type of loan', 0.0),\n",
       " ('Amortized debt', 0.0),\n",
       " ('Canceled', 0.0),\n",
       " ('XNA_y', 0.0),\n",
       " ('Approved_y', 0.0),\n",
       " ('Demand_y', 0.0),\n",
       " ('Refused', 0.0),\n",
       " ('Sent proposal', 0.0),\n",
       " ('CODE_GENDER_XNA', 0.0),\n",
       " ('NAME_EDUCATION_TYPE_Academic degree', 0.0),\n",
       " ('NAME_FAMILY_STATUS_Unknown', 0.0),\n",
       " ('ORGANIZATION_TYPE_Cleaning', 0.0),\n",
       " ('OCCUPATION_TYPE_HR staff', 2.7118779733434188e-06),\n",
       " ('currency 3', 2.824298606753599e-06),\n",
       " ('ORGANIZATION_TYPE_Security Ministries', 3.335901790344767e-06),\n",
       " ('currency 2', 4.112120508693831e-06),\n",
       " ('ORGANIZATION_TYPE_Rare 2', 5.348306005366169e-06),\n",
       " ('OCCUPATION_TYPE_Secretaries', 5.819550316552193e-06),\n",
       " ('OCCUPATION_TYPE_IT staff', 6.150230146127984e-06),\n",
       " ('OCCUPATION_TYPE_Realty agents', 6.375342004109862e-06),\n",
       " ('ORGANIZATION_TYPE_Police', 1.0253936374889808e-05),\n",
       " ('ORGANIZATION_TYPE_Services', 1.2936046046094126e-05),\n",
       " ('ORGANIZATION_TYPE_Military', 1.3683524269407409e-05),\n",
       " ('ORGANIZATION_TYPE_Bank', 1.434365489511353e-05),\n",
       " ('Another type of loan', 1.4779540901593093e-05),\n",
       " ('ORGANIZATION_TYPE_Trade: type 2', 1.5240403134532299e-05),\n",
       " ('ORGANIZATION_TYPE_Rare 1', 1.5643774631415862e-05),\n",
       " ('ORGANIZATION_TYPE_Postal', 1.738674222695804e-05),\n",
       " ('currency 1', 1.8699869019828972e-05),\n",
       " ('Loan for working capital replenishment', 2.3701527289382695e-05),\n",
       " ('ORGANIZATION_TYPE_Transport: type 2', 2.7040634377180424e-05),\n",
       " ('ORGANIZATION_TYPE_School', 2.7410761040730967e-05),\n",
       " ('SYSTEM', 2.765040478819396e-05),\n",
       " ('Loan for business development', 2.9469882429191176e-05),\n",
       " ('OCCUPATION_TYPE_Private service staff', 3.2981733266142936e-05),\n",
       " ('ORGANIZATION_TYPE_Kindergarten', 3.398065007954083e-05),\n",
       " ('OCCUPATION_TYPE_High skill tech staff', 3.8149486943969776e-05),\n",
       " ('OCCUPATION_TYPE_Medicine staff', 4.389928839838415e-05),\n",
       " ('OCCUPATION_TYPE_Waiters/barmen staff', 4.6497786465996486e-05),\n",
       " ('OCCUPATION_TYPE_Accountants', 4.715768638420683e-05),\n",
       " ('ORGANIZATION_TYPE_Government', 4.819834344066064e-05),\n",
       " ('NAME_FAMILY_STATUS_Widow', 5.4331027998395e-05),\n",
       " ('ORGANIZATION_TYPE_Agriculture', 6.280004264850397e-05),\n",
       " ('ORGANIZATION_TYPE_Medicine', 7.137641644761972e-05),\n",
       " ('OCCUPATION_TYPE_Cleaning staff', 7.170200897990666e-05),\n",
       " ('ORGANIZATION_TYPE_Business Entity Type 1', 7.898178328498392e-05),\n",
       " ('ORGANIZATION_TYPE_Industry: type 11', 8.241167184795773e-05),\n",
       " ('Demand_x', 8.394000434887299e-05),\n",
       " ('ORGANIZATION_TYPE_Housing', 8.755399105918418e-05),\n",
       " ('ORGANIZATION_TYPE_Trade: type 3', 8.78786866563111e-05),\n",
       " ('ORGANIZATION_TYPE_Other', 9.07042747667237e-05),\n",
       " ('ORGANIZATION_TYPE_Business Entity Type 2', 9.932180785772018e-05),\n",
       " ('ORGANIZATION_TYPE_Restaurant', 9.98265044985098e-05),\n",
       " ('ORGANIZATION_TYPE_Industry', 0.00010346367968032348),\n",
       " ('OCCUPATION_TYPE_Managers', 0.00010752159948130829),\n",
       " ('ORGANIZATION_TYPE_Security', 0.00010843276635584058),\n",
       " ('ORGANIZATION_TYPE_Trade: type 7', 0.0001212738475370179),\n",
       " ('NAME_EDUCATION_TYPE_Incomplete higher', 0.00012311337903858546),\n",
       " ('VERIF', 0.0001243800502442827),\n",
       " ('WEEKDAY_APPR_PROCESS_START_SUNDAY', 0.00013028301805536),\n",
       " ('ORGANIZATION_TYPE_Transport: type 4', 0.00013181486884418335),\n",
       " ('FLAG_OWN_PROPERTY_NY', 0.00015016284369872817),\n",
       " ('Mortgage', 0.00016483974149605565),\n",
       " ('Approved_x', 0.00016490666113715268),\n",
       " ('OCCUPATION_TYPE_Cooking staff', 0.00017459359197151474),\n",
       " ('Signed_y', 0.00017768993864042022),\n",
       " ('NAME_FAMILY_STATUS_Separated', 0.00018478453159460277),\n",
       " ('XNA.1', 0.00019066510735406554),\n",
       " ('Completed_y', 0.0002033396375801225),\n",
       " ('WEEKDAY_APPR_PROCESS_START_SATURDAY', 0.00022776928278289384),\n",
       " ('NAME_EDUCATION_TYPE_Lower secondary', 0.00024073948139392224),\n",
       " ('OCCUPATION_TYPE_Security staff', 0.00024224997799849853),\n",
       " ('WEEKDAY_APPR_PROCESS_START_MONDAY', 0.0002508455025483969),\n",
       " ('Car loan', 0.00025155833277169104),\n",
       " ('WEEKDAY_APPR_PROCESS_START_WEDNESDAY', 0.0002539126266944061),\n",
       " ('ORGANIZATION_TYPE_Construction', 0.0002631228260505691),\n",
       " ('WEEKDAY_APPR_PROCESS_START_FRIDAY', 0.00029451766206573595),\n",
       " ('WEEKDAY_APPR_PROCESS_START_THURSDAY', 0.00030984522373478786),\n",
       " ('OCCUPATION_TYPE_Low-skill Laborers', 0.00032359114060357216),\n",
       " ('WEEKDAY_APPR_PROCESS_START_TUESDAY', 0.00033862965428079926),\n",
       " ('CNT_CREDIT_PROLONG', 0.00033930946075965085),\n",
       " ('OCCUPATION_TYPE_Sales staff', 0.00035481471401584803),\n",
       " ('FLAG_OWN_PROPERTY_NN', 0.0003749618653940546),\n",
       " ('Returned to the store', 0.000375378798692321),\n",
       " ('Active', 0.00038800638300847475),\n",
       " ('FLAG_OWN_PROPERTY_YY', 0.0003939226180542434),\n",
       " ('NAME_FAMILY_STATUS_Single / not married', 0.00043113182756105334),\n",
       " ('NAME_FAMILY_STATUS_Civil marriage', 0.00044036116051850935),\n",
       " ('NAME_CONTRACT_TYPE_Cash loans', 0.0005215780559389995),\n",
       " ('ORGANIZATION_TYPE_Business Entity Type 3', 0.0005385749143649714),\n",
       " ('CLIENT', 0.0005507563017871873),\n",
       " ('OCCUPATION_TYPE_Drivers', 0.000560417717811883),\n",
       " ('NAME_CONTRACT_TYPE_Revolving loans', 0.0005831424000173411),\n",
       " ('Sold', 0.0006207351827557694),\n",
       " ('OCCUPATION_TYPE_Core staff', 0.0006346306255714403),\n",
       " ('ORGANIZATION_TYPE_Self-employed', 0.0007446371325678715),\n",
       " ('CNT_CHILDREN', 0.0007634545715509647),\n",
       " ('FLAG_OWN_PROPERTY_YN', 0.000774080720585945),\n",
       " ('CNT_FAM_MEMBERS', 0.0008901803137882805),\n",
       " ('ORGANIZATION_TYPE_XNA', 0.0008951473839703804),\n",
       " ('SCO', 0.001020106492786659),\n",
       " ('OCCUPATION_TYPE_Laborers', 0.0010745596655963746),\n",
       " ('low_action', 0.0010924393874548),\n",
       " ('NAME_FAMILY_STATUS_Married', 0.0012026071209382144),\n",
       " ('SK_DPD_y', 0.0012555648159373817),\n",
       " ('AMT_DRAWINGS_OTHER_CURRENT', 0.0013145894711963039),\n",
       " ('CNT_DRAWINGS_OTHER_CURRENT', 0.0013261174558841682),\n",
       " ('SK_DPD_DEF_y', 0.0013481789817411216),\n",
       " ('DEF_60_CNT_SOCIAL_CIRCLE', 0.0014356443477961793),\n",
       " ('CREDIT_DAY_OVERDUE', 0.0014782092320905788),\n",
       " ('DEF_30_CNT_SOCIAL_CIRCLE', 0.001518064436803926),\n",
       " ('AMT_REQ_CREDIT_BUREAU_EMA', 0.0016075215430017915),\n",
       " ('Signed_x', 0.001696485094466303),\n",
       " ('OBS_60_CNT_SOCIAL_CIRCLE', 0.0018287988114657051),\n",
       " ('STATUS_X', 0.0018290695031226787),\n",
       " ('AMT_REQ_CREDIT_BUREAU_YEAR', 0.0019721473587405755),\n",
       " ('OBS_30_CNT_SOCIAL_CIRCLE', 0.00202322418022742),\n",
       " ('AMT_REQ_CREDIT_BUREAU_TOTAL', 0.002064798714705368),\n",
       " ('AMT_ANNUITY_y', 0.002202555450884086),\n",
       " ('NFLAG_INSURED_ON_APPROVAL', 0.0022326825217394803),\n",
       " ('AMT_CREDIT_LIMIT_ACTUAL', 0.0024708583228596885),\n",
       " ('AMT_DRAWINGS_POS_CURRENT', 0.002639462554330473),\n",
       " ('score', 0.0026480373388901544),\n",
       " ('MONTHS_BALANCE_y', 0.0026730093280819133),\n",
       " ('Consumer credit', 0.002725834340844709),\n",
       " ('low_normal', 0.002742954967142355),\n",
       " ('middle', 0.002855935120784424),\n",
       " ('OWN_CAR_AGE', 0.002866559058778217),\n",
       " ('Credit card', 0.002891183421039187),\n",
       " ('CNT_INSTALMENT_MATURE_CUM', 0.0030589581309545563),\n",
       " ('AMT_CREDIT_SUM_LIMIT', 0.0032286256773333666),\n",
       " ('DAYS_FIRST_DRAWING', 0.0034305070296021607),\n",
       " ('LIMIT', 0.0035654904193489997),\n",
       " ('AMT_PAYMENT_CURRENT', 0.003596239046097301),\n",
       " ('AMT_INST_MIN_REGULARITY', 0.003639213164408528),\n",
       " ('HOUR_APPR_PROCESS_START', 0.003778431647328824),\n",
       " ('AMT_PAYMENT_TOTAL_CURRENT', 0.0038252807112909852),\n",
       " ('AMT_INCOME_TOTAL', 0.0038465231040656477),\n",
       " ('CNT_DRAWINGS_POS_CURRENT', 0.0038522909052376205),\n",
       " ('Completed_x', 0.0038872556382118827),\n",
       " ('EXTRA_DAYS', 0.004213115134227524),\n",
       " ('XNA_x', 0.004268471329206167),\n",
       " ('Active_y', 0.0043008224312090435),\n",
       " ('NUM_INSTALMENT_VERSION', 0.0043507748135667304),\n",
       " ('INCOME_PER_CHILD', 0.0043742540172175175),\n",
       " ('INCOME_PER_FAM_MEMBER', 0.0044250344855271476),\n",
       " ('AMT_RECEIVABLE_PRINCIPAL', 0.004443966886857229),\n",
       " ('LIVINGAREA_MODE', 0.004704907760408256),\n",
       " ('LATE_DAYS_y', 0.004751484740987806),\n",
       " ('AMT_CREDIT_SUM_OVERDUE', 0.004951048234083258),\n",
       " ('AMT_TOTAL_RECEIVABLE', 0.0049822372783103345),\n",
       " ('YEARS_BEGINEXPLUATATION_MODE', 0.005025791985527347),\n",
       " ('LIVINGAREA_AVG', 0.0050754573777975496),\n",
       " ('LIVINGAREA_MEDI', 0.0051222822970965936),\n",
       " ('AMT_RECIVABLE', 0.005140372747633262),\n",
       " ('high', 0.0052838547862292485),\n",
       " ('Unnamed: 0', 0.005358673662788894),\n",
       " ('YEARS_BEGINEXPLUATATION_AVG', 0.005387289387769315),\n",
       " ('CODE_GENDER_M', 0.005416290976801229),\n",
       " ('SK_ID_CURR', 0.00545861900978449),\n",
       " ('YEARS_BEGINEXPLUATATION_MEDI', 0.005460929951103282),\n",
       " ('DAYS_TERMINATION', 0.005502068271131423),\n",
       " ('CODE_GENDER_F', 0.00550921491719591),\n",
       " ('SK_DPD_x', 0.0055414789372379945),\n",
       " ('TOTALAREA_MODE', 0.005553095798496662),\n",
       " ('NAME_EDUCATION_TYPE_Secondary / secondary special', 0.005670722656135562),\n",
       " ('AMT_BALANCE', 0.005746044523722448),\n",
       " ('Microloan', 0.00575511656784275),\n",
       " ('AMT_DRAWINGS_CURRENT', 0.005906526261986022),\n",
       " ('DAYS_LAST_DUE', 0.006110249287398156),\n",
       " ('REGION_POPULATION_RELATIVE', 0.006163663476115386),\n",
       " ('DAYS_ENDDATE_FACT', 0.00629851767798183),\n",
       " ('AMT_CREDIT_MAX_OVERDUE', 0.006302264890003951),\n",
       " ('LATE_DAYS_x', 0.0063805726070403235),\n",
       " ('AMT_CREDIT_SUM_DEBT', 0.006464646306353451),\n",
       " ('CREDIT_INCOME_RATIO', 0.00658917307050961),\n",
       " ('ENTIRE_INCOME_PER_CHILD', 0.006704888530654776),\n",
       " ('NUM_INSTALMENT_NUMBER', 0.006752195128781462),\n",
       " ('AMT_DRAWINGS_ATM_CURRENT', 0.006899316178935166),\n",
       " ('AMT_CREDIT_SUM', 0.006911037244135334),\n",
       " ('DAYS_LAST_DUE_1ST_VERSION', 0.006969265657688139),\n",
       " ('CNT_INSTALMENT', 0.007031927327588623),\n",
       " ('DAYS_FIRST_DUE', 0.007054728997388247),\n",
       " ('AMT_ANNUITY_x', 0.007099997823745207),\n",
       " ('DAYS_REGISTRATION', 0.007126154820044118),\n",
       " ('AMT_CREDIT', 0.007390620259462592),\n",
       " ('DAYS_ID_PUBLISH', 0.007524224652361234),\n",
       " ('HC', 0.007590788571716173),\n",
       " ('ANNUITY_INCOME_RATIO', 0.007939395825599542),\n",
       " ('ENTIRE_INCOME_PER_FAM_MEMBER', 0.007960318170462357),\n",
       " ('MONTHS_BALANCE_x', 0.008064514178013325),\n",
       " ('LATE_PAYMENT_DAYS', 0.008616342981857605),\n",
       " ('NAME_EDUCATION_TYPE_Higher education', 0.008657863930236754),\n",
       " ('SCOFR', 0.008783893735126199),\n",
       " ('CNT_INSTALMENT_FUTURE', 0.00938585144394499),\n",
       " ('AMT_INSTALMENT', 0.009483495240890568),\n",
       " ('CNT_DRAWINGS_CURRENT', 0.009591264663727535),\n",
       " ('DAYS_EMPLOYED', 0.009872582426141991),\n",
       " ('SK_DPD_DEF_x', 0.009893157992379534),\n",
       " ('AMT_GOODS_PRICE', 0.010185656800828119),\n",
       " ('DAYS_ENTRY_PAYMENT', 0.01031552632913775),\n",
       " ('ENTIRE_INCOME', 0.010393133817188677),\n",
       " ('DAYS_LAST_PHONE_CHANGE', 0.010412523374911376),\n",
       " ('DAYS_INSTALMENT', 0.010490401880306198),\n",
       " ('PERCENT_COMPLETION', 0.010906501084274798),\n",
       " ('Closed', 0.011349271263953312),\n",
       " ('DAYS_CREDIT_UPDATE', 0.011800223749606925),\n",
       " ('DAYS_CREDIT_ENDDATE', 0.011822038204640506),\n",
       " ('Active_x', 0.011999901474819812),\n",
       " ('AMT_PAYMENT', 0.012098262145989178),\n",
       " ('CREDIT_GOODS_PRICE_DIFF', 0.012683041988536878),\n",
       " ('CNT_DRAWINGS_ATM_CURRENT', 0.014185312852315385),\n",
       " ('DAYS_BIRTH', 0.015924009732707623),\n",
       " ('ANNUITY_ENTIRE_INCOME_RATIO', 0.018050639364323183),\n",
       " ('XAP', 0.01942748133820305),\n",
       " ('CREDIT_ENTIRE_INCOME_RATIO', 0.02072055933591768),\n",
       " ('YOKIAN_SCORE', 0.021015879436109143),\n",
       " ('DAYS_CREDIT', 0.022428666299629293),\n",
       " ('EXT_SOURCE_1', 0.03458944195220439),\n",
       " ('EXT_SOURCE_3', 0.09772451132328615),\n",
       " ('EXT_SOURCE_2', 0.11233826076723591)]"
      ]
     },
     "execution_count": 32,
     "metadata": {},
     "output_type": "execute_result"
    }
   ],
   "source": [
    "dic_sorted"
   ]
  },
  {
   "cell_type": "code",
   "execution_count": 35,
   "metadata": {},
   "outputs": [],
   "source": [
    "dic_sorted = dict(dic_sorted)"
   ]
  },
  {
   "cell_type": "code",
   "execution_count": 36,
   "metadata": {
    "scrolled": false
   },
   "outputs": [
    {
     "name": "stdout",
     "output_type": "stream",
     "text": [
      "Unnamed: 0\n",
      "SK_ID_CURR\n",
      "AMT_INCOME_TOTAL\n",
      "AMT_CREDIT\n",
      "AMT_ANNUITY_x\n",
      "AMT_GOODS_PRICE\n",
      "REGION_POPULATION_RELATIVE\n",
      "DAYS_BIRTH\n",
      "DAYS_EMPLOYED\n",
      "DAYS_REGISTRATION\n",
      "DAYS_ID_PUBLISH\n",
      "OWN_CAR_AGE\n",
      "HOUR_APPR_PROCESS_START\n",
      "EXT_SOURCE_1\n",
      "EXT_SOURCE_2\n",
      "EXT_SOURCE_3\n",
      "YEARS_BEGINEXPLUATATION_AVG\n",
      "LIVINGAREA_AVG\n",
      "YEARS_BEGINEXPLUATATION_MODE\n",
      "LIVINGAREA_MODE\n",
      "YEARS_BEGINEXPLUATATION_MEDI\n",
      "LIVINGAREA_MEDI\n",
      "TOTALAREA_MODE\n",
      "OBS_30_CNT_SOCIAL_CIRCLE\n",
      "DEF_30_CNT_SOCIAL_CIRCLE\n",
      "OBS_60_CNT_SOCIAL_CIRCLE\n",
      "DEF_60_CNT_SOCIAL_CIRCLE\n",
      "DAYS_LAST_PHONE_CHANGE\n",
      "AMT_REQ_CREDIT_BUREAU_YEAR\n",
      "CREDIT_INCOME_RATIO\n",
      "ANNUITY_INCOME_RATIO\n",
      "CREDIT_GOODS_PRICE_DIFF\n",
      "ENTIRE_INCOME\n",
      "CREDIT_ENTIRE_INCOME_RATIO\n",
      "ANNUITY_ENTIRE_INCOME_RATIO\n",
      "INCOME_PER_CHILD\n",
      "INCOME_PER_FAM_MEMBER\n",
      "ENTIRE_INCOME_PER_FAM_MEMBER\n",
      "ENTIRE_INCOME_PER_CHILD\n",
      "AMT_REQ_CREDIT_BUREAU_TOTAL\n",
      "AMT_REQ_CREDIT_BUREAU_EMA\n",
      "DAYS_CREDIT\n",
      "CREDIT_DAY_OVERDUE\n",
      "DAYS_CREDIT_ENDDATE\n",
      "DAYS_ENDDATE_FACT\n",
      "AMT_CREDIT_MAX_OVERDUE\n",
      "AMT_CREDIT_SUM\n",
      "AMT_CREDIT_SUM_DEBT\n",
      "AMT_CREDIT_SUM_LIMIT\n",
      "AMT_CREDIT_SUM_OVERDUE\n",
      "DAYS_CREDIT_UPDATE\n",
      "AMT_ANNUITY_y\n",
      "Active_x\n",
      "Closed\n",
      "Consumer credit\n",
      "Credit card\n",
      "Microloan\n",
      "LATE_DAYS_x\n",
      "score\n",
      "STATUS_X\n",
      "NFLAG_INSURED_ON_APPROVAL\n",
      "DAYS_TERMINATION\n",
      "DAYS_LAST_DUE\n",
      "DAYS_LAST_DUE_1ST_VERSION\n",
      "DAYS_FIRST_DUE\n",
      "DAYS_FIRST_DRAWING\n",
      "LATE_DAYS_y\n",
      "EXTRA_DAYS\n",
      "XNA_x\n",
      "high\n",
      "low_action\n",
      "low_normal\n",
      "middle\n",
      "HC\n",
      "LIMIT\n",
      "SCO\n",
      "SCOFR\n",
      "XAP\n",
      "MONTHS_BALANCE_x\n",
      "CNT_INSTALMENT\n",
      "CNT_INSTALMENT_FUTURE\n",
      "SK_DPD_x\n",
      "SK_DPD_DEF_x\n",
      "PERCENT_COMPLETION\n",
      "Active_y\n",
      "Completed_x\n",
      "Signed_x\n",
      "NUM_INSTALMENT_VERSION\n",
      "NUM_INSTALMENT_NUMBER\n",
      "DAYS_INSTALMENT\n",
      "DAYS_ENTRY_PAYMENT\n",
      "AMT_INSTALMENT\n",
      "AMT_PAYMENT\n",
      "LATE_PAYMENT_DAYS\n",
      "YOKIAN_SCORE\n",
      "MONTHS_BALANCE_y\n",
      "AMT_BALANCE\n",
      "AMT_CREDIT_LIMIT_ACTUAL\n",
      "AMT_DRAWINGS_ATM_CURRENT\n",
      "AMT_DRAWINGS_CURRENT\n",
      "AMT_DRAWINGS_OTHER_CURRENT\n",
      "AMT_DRAWINGS_POS_CURRENT\n",
      "AMT_INST_MIN_REGULARITY\n",
      "AMT_PAYMENT_CURRENT\n",
      "AMT_PAYMENT_TOTAL_CURRENT\n",
      "AMT_RECEIVABLE_PRINCIPAL\n",
      "AMT_RECIVABLE\n",
      "AMT_TOTAL_RECEIVABLE\n",
      "CNT_DRAWINGS_ATM_CURRENT\n",
      "CNT_DRAWINGS_CURRENT\n",
      "CNT_DRAWINGS_OTHER_CURRENT\n",
      "CNT_DRAWINGS_POS_CURRENT\n",
      "CNT_INSTALMENT_MATURE_CUM\n",
      "SK_DPD_y\n",
      "SK_DPD_DEF_y\n",
      "CODE_GENDER_F\n",
      "CODE_GENDER_M\n",
      "NAME_EDUCATION_TYPE_Higher education\n",
      "NAME_EDUCATION_TYPE_Secondary / secondary special\n",
      "NAME_FAMILY_STATUS_Married\n",
      "OCCUPATION_TYPE_Laborers\n",
      "121\n"
     ]
    }
   ],
   "source": [
    "feat_selec = []\n",
    "i = 0\n",
    "for col in app.columns:\n",
    "    if dic_sorted[col]>=0.001:\n",
    "        feat_selec.append(col)\n",
    "        print(col)\n",
    "        i = i+1\n",
    "print(i)"
   ]
  },
  {
   "cell_type": "code",
   "execution_count": 97,
   "metadata": {},
   "outputs": [],
   "source": [
    "X = app_tr[feat_selec].values"
   ]
  },
  {
   "cell_type": "code",
   "execution_count": 98,
   "metadata": {},
   "outputs": [],
   "source": [
    "X_sub = app_ts[feat_selec].values"
   ]
  },
  {
   "cell_type": "code",
   "execution_count": 99,
   "metadata": {},
   "outputs": [],
   "source": [
    "X_tr, X_ts, y_tr, y_ts = train_test_split(X, y, test_size=0.15)"
   ]
  },
  {
   "cell_type": "code",
   "execution_count": 100,
   "metadata": {},
   "outputs": [],
   "source": [
    "from xgboost.sklearn import XGBClassifier"
   ]
  },
  {
   "cell_type": "code",
   "execution_count": 40,
   "metadata": {},
   "outputs": [],
   "source": [
    "simple_xgbc = XGBClassifier()"
   ]
  },
  {
   "cell_type": "code",
   "execution_count": 41,
   "metadata": {},
   "outputs": [
    {
     "data": {
      "text/plain": [
       "XGBClassifier(base_score=0.5, booster='gbtree', colsample_bylevel=1,\n",
       "       colsample_bytree=1, gamma=0, learning_rate=0.1, max_delta_step=0,\n",
       "       max_depth=3, min_child_weight=1, missing=None, n_estimators=100,\n",
       "       n_jobs=1, nthread=None, objective='binary:logistic', random_state=0,\n",
       "       reg_alpha=0, reg_lambda=1, scale_pos_weight=1, seed=None,\n",
       "       silent=True, subsample=1)"
      ]
     },
     "execution_count": 41,
     "metadata": {},
     "output_type": "execute_result"
    }
   ],
   "source": [
    "simple_xgbc.fit(X_tr, y_tr)"
   ]
  },
  {
   "cell_type": "code",
   "execution_count": 42,
   "metadata": {},
   "outputs": [
    {
     "data": {
      "text/plain": [
       "0.7766587056221339"
      ]
     },
     "execution_count": 42,
     "metadata": {},
     "output_type": "execute_result"
    }
   ],
   "source": [
    "roc_auc_score(y_tr, simple_xgbc.predict_proba(X_tr)[:, 1])"
   ]
  },
  {
   "cell_type": "code",
   "execution_count": 43,
   "metadata": {},
   "outputs": [
    {
     "data": {
      "text/plain": [
       "0.7668186213052262"
      ]
     },
     "execution_count": 43,
     "metadata": {},
     "output_type": "execute_result"
    }
   ],
   "source": [
    "roc_auc_score(y_ts, simple_xgbc.predict_proba(X_ts)[:, 1])"
   ]
  },
  {
   "cell_type": "code",
   "execution_count": 109,
   "metadata": {},
   "outputs": [],
   "source": [
    "pickle.dump(simple_xgbc, open('simple_xgbc.pickle', 'wb'))"
   ]
  },
  {
   "cell_type": "code",
   "execution_count": 101,
   "metadata": {},
   "outputs": [],
   "source": [
    "submission['TARGET'] = simple_xgbc.predict_proba(X_sub)[:,1]"
   ]
  },
  {
   "cell_type": "code",
   "execution_count": 102,
   "metadata": {},
   "outputs": [],
   "source": [
    "submission.to_csv('simple_xgbc_submission.csv', index=False)"
   ]
  },
  {
   "cell_type": "code",
   "execution_count": 130,
   "metadata": {},
   "outputs": [],
   "source": [
    "ns = [100,180,200,220, 250, 280, 300, 320]\n",
    "train_auc = []\n",
    "test_auc = []\n",
    "for n in ns:\n",
    "    rf = XGBClassifier(n_estimators = n, n_jobs=5)\n",
    "    rf.fit(X_tr, y_tr)\n",
    "    y_hat_tr = rf.predict_proba(X_tr)[:, 1]\n",
    "    y_hat_ts = rf.predict_proba(X_ts)[:, 1]\n",
    "    train_auc.append(roc_auc_score(y_tr, y_hat_tr))\n",
    "    test_auc.append(roc_auc_score(y_ts, y_hat_ts))"
   ]
  },
  {
   "cell_type": "code",
   "execution_count": 131,
   "metadata": {},
   "outputs": [
    {
     "data": {
      "image/png": "[encoded data removed]",
      "text/plain": [
       "<Figure size 1152x1152 with 1 Axes>"
      ]
     },
     "metadata": {},
     "output_type": "display_data"
    }
   ],
   "source": [
    "\n",
    "fig = plt.figure(figsize=(16,16))\n",
    "plt.plot(ns, train_auc, label='train')\n",
    "plt.plot(ns, test_auc, label='test')\n",
    "plt.legend()\n",
    "plt.show()"
   ]
  },
  {
   "cell_type": "code",
   "execution_count": 132,
   "metadata": {},
   "outputs": [],
   "source": [
    "ns = [220, 250, 280, 300, 320, 350, 380, 400, 450]\n",
    "train_auc = []\n",
    "test_auc = []\n",
    "for n in ns:\n",
    "    rf = XGBClassifier(n_estimators = n, n_jobs=5)\n",
    "    rf.fit(X_tr, y_tr)\n",
    "    y_hat_tr = rf.predict_proba(X_tr)[:, 1]\n",
    "    y_hat_ts = rf.predict_proba(X_ts)[:, 1]\n",
    "    train_auc.append(roc_auc_score(y_tr, y_hat_tr))\n",
    "    test_auc.append(roc_auc_score(y_ts, y_hat_ts))"
   ]
  },
  {
   "cell_type": "code",
   "execution_count": 133,
   "metadata": {
    "scrolled": false
   },
   "outputs": [
    {
     "data": {
      "image/png": "[encoded data removed]",
      "text/plain": [
       "<Figure size 1152x1152 with 1 Axes>"
      ]
     },
     "metadata": {},
     "output_type": "display_data"
    }
   ],
   "source": [
    "\n",
    "fig = plt.figure(figsize=(16,16))\n",
    "plt.plot(ns, train_auc, label='train')\n",
    "plt.plot(ns, test_auc, label='test')\n",
    "plt.legend()\n",
    "plt.show()"
   ]
  },
  {
   "cell_type": "code",
   "execution_count": 134,
   "metadata": {},
   "outputs": [],
   "source": [
    "ns = [350, 380, 400, 450, 480, 500, 550, 600, 650, 700, 750]\n",
    "train_auc = []\n",
    "test_auc = []\n",
    "for n in ns:\n",
    "    rf = XGBClassifier(n_estimators = n, n_jobs=5)\n",
    "    rf.fit(X_tr, y_tr)\n",
    "    y_hat_tr = rf.predict_proba(X_tr)[:, 1]\n",
    "    y_hat_ts = rf.predict_proba(X_ts)[:, 1]\n",
    "    train_auc.append(roc_auc_score(y_tr, y_hat_tr))\n",
    "    test_auc.append(roc_auc_score(y_ts, y_hat_ts))"
   ]
  },
  {
   "cell_type": "code",
   "execution_count": 135,
   "metadata": {},
   "outputs": [
    {
     "data": {
      "image/png": "[encoded data removed]",
      "text/plain": [
       "<Figure size 1152x1152 with 1 Axes>"
      ]
     },
     "metadata": {},
     "output_type": "display_data"
    }
   ],
   "source": [
    "fig = plt.figure(figsize=(16,16))\n",
    "plt.plot(ns, train_auc, label='train')\n",
    "plt.plot(ns, test_auc, label='test')\n",
    "plt.legend()\n",
    "plt.show()"
   ]
  },
  {
   "cell_type": "code",
   "execution_count": 173,
   "metadata": {},
   "outputs": [],
   "source": [
    "params = {'base_score':[0.5],\n",
    "         'colsample_bylevel':[0.7],\n",
    "         'colsample_bytree':[0.8],\n",
    "         'gamma':[8],\n",
    "         'learning_rate':[0.1],\n",
    "         'max_delta_step':[7],\n",
    "         'max_depth':[4],\n",
    "         'min_child_weight':[4],\n",
    "         'n_estimators':[800],\n",
    "         'reg_alpha':[6],\n",
    "         'reg_lambda':[9]}"
   ]
  },
  {
   "cell_type": "code",
   "execution_count": 44,
   "metadata": {},
   "outputs": [],
   "source": [
    "xgbc_selec = XGBClassifier(base_score=0.5, colsample_bylevel=0.7, colsample_bytree=0.8, gamma=6, learning_rate=0.1, max_delta_step=7, max_depth=4, min_child_weight=4, n_estimators=800, reg_alpha=5, reg_lambda=7)"
   ]
  },
  {
   "cell_type": "code",
   "execution_count": 45,
   "metadata": {},
   "outputs": [
    {
     "data": {
      "text/plain": [
       "XGBClassifier(base_score=0.5, booster='gbtree', colsample_bylevel=0.7,\n",
       "       colsample_bytree=0.8, gamma=6, learning_rate=0.1, max_delta_step=7,\n",
       "       max_depth=4, min_child_weight=4, missing=None, n_estimators=800,\n",
       "       n_jobs=1, nthread=None, objective='binary:logistic', random_state=0,\n",
       "       reg_alpha=5, reg_lambda=7, scale_pos_weight=1, seed=None,\n",
       "       silent=True, subsample=1)"
      ]
     },
     "execution_count": 45,
     "metadata": {},
     "output_type": "execute_result"
    }
   ],
   "source": [
    "xgbc_selec.fit(X_tr, y_tr)"
   ]
  },
  {
   "cell_type": "code",
   "execution_count": 47,
   "metadata": {},
   "outputs": [
    {
     "data": {
      "text/plain": [
       "0.8256354629627725"
      ]
     },
     "execution_count": 47,
     "metadata": {},
     "output_type": "execute_result"
    }
   ],
   "source": [
    "roc_auc_score(y_tr, xgbc_selec.predict_proba(X_tr)[:,1])"
   ]
  },
  {
   "cell_type": "code",
   "execution_count": 48,
   "metadata": {},
   "outputs": [
    {
     "data": {
      "text/plain": [
       "0.779390201805803"
      ]
     },
     "execution_count": 48,
     "metadata": {},
     "output_type": "execute_result"
    }
   ],
   "source": [
    "roc_auc_score(y_ts, xgbc_selec.predict_proba(X_ts)[:,1])"
   ]
  },
  {
   "cell_type": "code",
   "execution_count": 110,
   "metadata": {},
   "outputs": [],
   "source": [
    "pickle.dump(xgbc_selec, open('xgbc_selected_cross_validated.pickle', 'wb'))"
   ]
  },
  {
   "cell_type": "code",
   "execution_count": 103,
   "metadata": {},
   "outputs": [],
   "source": [
    "submission['TARGET'] = xgbc_selec.predict_proba(X_sub)[:,1]"
   ]
  },
  {
   "cell_type": "code",
   "execution_count": 104,
   "metadata": {},
   "outputs": [],
   "source": [
    "submission.to_csv('xgbc_best_selected.csv', index=False)"
   ]
  },
  {
   "cell_type": "code",
   "execution_count": 167,
   "metadata": {},
   "outputs": [],
   "source": [
    "params = {'base_score':[0.5],\n",
    "         'colsample_bylevel':[0.7],\n",
    "         'colsample_bytree':[0.8],\n",
    "         'gamma':[6],\n",
    "         'learning_rate':[0.1],\n",
    "         'max_delta_step':[7],\n",
    "         'max_depth':[4],\n",
    "         'min_child_weight':[4],\n",
    "         'n_estimators':[800],\n",
    "         'reg_alpha':[5],\n",
    "         'reg_lambda':[7]}"
   ]
  },
  {
   "cell_type": "code",
   "execution_count": 64,
   "metadata": {},
   "outputs": [],
   "source": [
    "X_full = app_tr.values"
   ]
  },
  {
   "cell_type": "code",
   "execution_count": 65,
   "metadata": {},
   "outputs": [],
   "source": [
    "X_fulltr, X_fullts, y_tr, y_ts = train_test_split(X_full, y, test_size=0.15)"
   ]
  },
  {
   "cell_type": "code",
   "execution_count": 78,
   "metadata": {},
   "outputs": [],
   "source": [
    "xgbc_best_full = XGBClassifier(base_score=0.5, colsample_bylevel=0.7, colsample_bytree=0.8, gamma=6, learning_rate=0.1, max_delta_step=7, max_depth=5, min_child_weight=5, n_estimators=800, reg_alpha=6, reg_lambda=10, n_jobs=-1)"
   ]
  },
  {
   "cell_type": "code",
   "execution_count": 79,
   "metadata": {},
   "outputs": [
    {
     "data": {
      "text/plain": [
       "XGBClassifier(base_score=0.5, booster='gbtree', colsample_bylevel=0.7,\n",
       "       colsample_bytree=0.8, gamma=6, learning_rate=0.1, max_delta_step=7,\n",
       "       max_depth=5, min_child_weight=5, missing=None, n_estimators=800,\n",
       "       n_jobs=-1, nthread=None, objective='binary:logistic',\n",
       "       random_state=0, reg_alpha=6, reg_lambda=10, scale_pos_weight=1,\n",
       "       seed=None, silent=True, subsample=1)"
      ]
     },
     "execution_count": 79,
     "metadata": {},
     "output_type": "execute_result"
    }
   ],
   "source": [
    "xgbc_best_full.fit(X_fulltr, y_tr)"
   ]
  },
  {
   "cell_type": "code",
   "execution_count": 80,
   "metadata": {},
   "outputs": [
    {
     "data": {
      "text/plain": [
       "0.7824425935883748"
      ]
     },
     "execution_count": 80,
     "metadata": {},
     "output_type": "execute_result"
    }
   ],
   "source": [
    "roc_auc_score(y_tr, xgbc_best_full.predict_proba(X_fulltr)[:,1])"
   ]
  },
  {
   "cell_type": "code",
   "execution_count": 81,
   "metadata": {},
   "outputs": [
    {
     "data": {
      "text/plain": [
       "0.5037922470519965"
      ]
     },
     "execution_count": 81,
     "metadata": {},
     "output_type": "execute_result"
    }
   ],
   "source": [
    "roc_auc_score(y_ts, xgbc_best_full.predict_proba(X_fullts)[:,1])"
   ]
  },
  {
   "cell_type": "code",
   "execution_count": 111,
   "metadata": {},
   "outputs": [],
   "source": [
    "with open('xgbc_full_cv.pickle', 'wb') as f:\n",
    "    pickle.dump(xgbc_best_full, f)"
   ]
  },
  {
   "cell_type": "code",
   "execution_count": 105,
   "metadata": {},
   "outputs": [],
   "source": [
    "submission['TARGET'] = xgbc_best_full.predict_proba(app_ts.values)[:, 1]\n",
    "submission.to_csv('submission_xgb_full.csv', index=False)"
   ]
  },
  {
   "cell_type": "code",
   "execution_count": 179,
   "metadata": {},
   "outputs": [],
   "source": [
    "params = {'base_score':[0.5],\n",
    "         'colsample_bylevel':[0.7],\n",
    "         'colsample_bytree':[0.8],\n",
    "         'gamma':[8],\n",
    "         'learning_rate':[0.1],\n",
    "         'max_delta_step':[7],\n",
    "         'max_depth':[4],\n",
    "         'min_child_weight':[4],\n",
    "         'n_estimators':[800],\n",
    "         'reg_alpha':[6],\n",
    "         'reg_lambda':[9]}"
   ]
  },
  {
   "cell_type": "code",
   "execution_count": 70,
   "metadata": {},
   "outputs": [],
   "source": [
    "X_selec = app[['SK_ID_CURR',\n",
    "'AMT_INCOME_TOTAL',\n",
    "'AMT_CREDIT',\n",
    "'AMT_ANNUITY_x',\n",
    "'AMT_GOODS_PRICE',\n",
    "'REGION_POPULATION_RELATIVE',\n",
    "'DAYS_BIRTH',\n",
    "'DAYS_EMPLOYED',\n",
    "'DAYS_REGISTRATION',\n",
    "'DAYS_ID_PUBLISH',\n",
    "'OWN_CAR_AGE',\n",
    "'HOUR_APPR_PROCESS_START',\n",
    "'EXT_SOURCE_1',\n",
    "'EXT_SOURCE_2',\n",
    "'EXT_SOURCE_3',\n",
    "'YEARS_BEGINEXPLUATATION_AVG',\n",
    "'LIVINGAREA_AVG',\n",
    "'YEARS_BEGINEXPLUATATION_MODE',\n",
    "'LIVINGAREA_MODE',\n",
    "'YEARS_BEGINEXPLUATATION_MEDI',\n",
    "'LIVINGAREA_MEDI',\n",
    "'TOTALAREA_MODE',\n",
    "'OBS_30_CNT_SOCIAL_CIRCLE',\n",
    "'DEF_30_CNT_SOCIAL_CIRCLE',\n",
    "'OBS_60_CNT_SOCIAL_CIRCLE',\n",
    "'DEF_60_CNT_SOCIAL_CIRCLE',\n",
    "'DAYS_LAST_PHONE_CHANGE',\n",
    "'AMT_REQ_CREDIT_BUREAU_YEAR',\n",
    "'CREDIT_INCOME_RATIO',\n",
    "'ANNUITY_INCOME_RATIO',\n",
    "'CREDIT_GOODS_PRICE_DIFF',\n",
    "'ENTIRE_INCOME',\n",
    "'CREDIT_ENTIRE_INCOME_RATIO',\n",
    "'ANNUITY_ENTIRE_INCOME_RATIO',\n",
    "'INCOME_PER_CHILD',\n",
    "'INCOME_PER_FAM_MEMBER',\n",
    "'ENTIRE_INCOME_PER_FAM_MEMBER',\n",
    "'ENTIRE_INCOME_PER_CHILD',\n",
    "'AMT_REQ_CREDIT_BUREAU_TOTAL',\n",
    "'AMT_REQ_CREDIT_BUREAU_EMA',\n",
    "'DAYS_CREDIT',\n",
    "'CREDIT_DAY_OVERDUE',\n",
    "'DAYS_CREDIT_ENDDATE',\n",
    "'DAYS_ENDDATE_FACT',\n",
    "'AMT_CREDIT_MAX_OVERDUE',\n",
    "'AMT_CREDIT_SUM',\n",
    "'AMT_CREDIT_SUM_DEBT',\n",
    "'AMT_CREDIT_SUM_LIMIT',\n",
    "'AMT_CREDIT_SUM_OVERDUE',\n",
    "'DAYS_CREDIT_UPDATE',\n",
    "'AMT_ANNUITY_y',\n",
    "'Active_x',\n",
    "'Closed',\n",
    "'Consumer credit',\n",
    "'Credit card',\n",
    "'Microloan',\n",
    "'LATE_DAYS_x',\n",
    "'score',\n",
    "'STATUS_X',\n",
    "'NFLAG_INSURED_ON_APPROVAL',\n",
    "'DAYS_TERMINATION',\n",
    "'DAYS_LAST_DUE',\n",
    "'DAYS_LAST_DUE_1ST_VERSION',\n",
    "'DAYS_FIRST_DUE',\n",
    "'DAYS_FIRST_DRAWING',\n",
    "'LATE_DAYS_y',\n",
    "'EXTRA_DAYS']].values[:y.shape[0], :]"
   ]
  },
  {
   "cell_type": "code",
   "execution_count": 106,
   "metadata": {},
   "outputs": [],
   "source": [
    "X_selectr, X_selects, y_tr, y_ts = train_test_split(X_selec, y, test_size=0.15)"
   ]
  },
  {
   "cell_type": "code",
   "execution_count": 82,
   "metadata": {},
   "outputs": [],
   "source": [
    "xgbc_less_selec = XGBClassifier(base_score=0.5, colsample_bylevel=0.7, colsample_bytree=0.8, gamma=8, learning_rate=0.1, max_delta_step=7, max_depth=4, min_child_weight=4, n_estimators=800, reg_alpha=6, reg_lambda=9, n_jobs=-1)"
   ]
  },
  {
   "cell_type": "code",
   "execution_count": 83,
   "metadata": {},
   "outputs": [
    {
     "data": {
      "text/plain": [
       "XGBClassifier(base_score=0.5, booster='gbtree', colsample_bylevel=0.7,\n",
       "       colsample_bytree=0.8, gamma=8, learning_rate=0.1, max_delta_step=7,\n",
       "       max_depth=4, min_child_weight=4, missing=None, n_estimators=800,\n",
       "       n_jobs=-1, nthread=None, objective='binary:logistic',\n",
       "       random_state=0, reg_alpha=6, reg_lambda=9, scale_pos_weight=1,\n",
       "       seed=None, silent=True, subsample=1)"
      ]
     },
     "execution_count": 83,
     "metadata": {},
     "output_type": "execute_result"
    }
   ],
   "source": [
    "xgbc_less_selec.fit(X_selectr, y_tr)"
   ]
  },
  {
   "cell_type": "code",
   "execution_count": 84,
   "metadata": {},
   "outputs": [
    {
     "data": {
      "text/plain": [
       "0.7897732128807142"
      ]
     },
     "execution_count": 84,
     "metadata": {},
     "output_type": "execute_result"
    }
   ],
   "source": [
    "roc_auc_score(y_tr, xgbc_less_selec.predict_proba(X_selectr)[:,1])"
   ]
  },
  {
   "cell_type": "code",
   "execution_count": 85,
   "metadata": {},
   "outputs": [
    {
     "data": {
      "text/plain": [
       "0.7644151353339317"
      ]
     },
     "execution_count": 85,
     "metadata": {},
     "output_type": "execute_result"
    }
   ],
   "source": [
    "roc_auc_score(y_ts, xgbc_less_selec.predict_proba(X_selects)[:,1])"
   ]
  },
  {
   "cell_type": "code",
   "execution_count": 112,
   "metadata": {},
   "outputs": [],
   "source": [
    "with open('xgbc_less_selec_cv.pickle', 'wb') as f:\n",
    "    pickle.dump(xgbc_less_selec, f)"
   ]
  },
  {
   "cell_type": "code",
   "execution_count": 88,
   "metadata": {},
   "outputs": [],
   "source": [
    "X_selecsub = app_ts[['SK_ID_CURR',\n",
    "'AMT_INCOME_TOTAL',\n",
    "'AMT_CREDIT',\n",
    "'AMT_ANNUITY_x',\n",
    "'AMT_GOODS_PRICE',\n",
    "'REGION_POPULATION_RELATIVE',\n",
    "'DAYS_BIRTH',\n",
    "'DAYS_EMPLOYED',\n",
    "'DAYS_REGISTRATION',\n",
    "'DAYS_ID_PUBLISH',\n",
    "'OWN_CAR_AGE',\n",
    "'HOUR_APPR_PROCESS_START',\n",
    "'EXT_SOURCE_1',\n",
    "'EXT_SOURCE_2',\n",
    "'EXT_SOURCE_3',\n",
    "'YEARS_BEGINEXPLUATATION_AVG',\n",
    "'LIVINGAREA_AVG',\n",
    "'YEARS_BEGINEXPLUATATION_MODE',\n",
    "'LIVINGAREA_MODE',\n",
    "'YEARS_BEGINEXPLUATATION_MEDI',\n",
    "'LIVINGAREA_MEDI',\n",
    "'TOTALAREA_MODE',\n",
    "'OBS_30_CNT_SOCIAL_CIRCLE',\n",
    "'DEF_30_CNT_SOCIAL_CIRCLE',\n",
    "'OBS_60_CNT_SOCIAL_CIRCLE',\n",
    "'DEF_60_CNT_SOCIAL_CIRCLE',\n",
    "'DAYS_LAST_PHONE_CHANGE',\n",
    "'AMT_REQ_CREDIT_BUREAU_YEAR',\n",
    "'CREDIT_INCOME_RATIO',\n",
    "'ANNUITY_INCOME_RATIO',\n",
    "'CREDIT_GOODS_PRICE_DIFF',\n",
    "'ENTIRE_INCOME',\n",
    "'CREDIT_ENTIRE_INCOME_RATIO',\n",
    "'ANNUITY_ENTIRE_INCOME_RATIO',\n",
    "'INCOME_PER_CHILD',\n",
    "'INCOME_PER_FAM_MEMBER',\n",
    "'ENTIRE_INCOME_PER_FAM_MEMBER',\n",
    "'ENTIRE_INCOME_PER_CHILD',\n",
    "'AMT_REQ_CREDIT_BUREAU_TOTAL',\n",
    "'AMT_REQ_CREDIT_BUREAU_EMA',\n",
    "'DAYS_CREDIT',\n",
    "'CREDIT_DAY_OVERDUE',\n",
    "'DAYS_CREDIT_ENDDATE',\n",
    "'DAYS_ENDDATE_FACT',\n",
    "'AMT_CREDIT_MAX_OVERDUE',\n",
    "'AMT_CREDIT_SUM',\n",
    "'AMT_CREDIT_SUM_DEBT',\n",
    "'AMT_CREDIT_SUM_LIMIT',\n",
    "'AMT_CREDIT_SUM_OVERDUE',\n",
    "'DAYS_CREDIT_UPDATE',\n",
    "'AMT_ANNUITY_y',\n",
    "'Active_x',\n",
    "'Closed',\n",
    "'Consumer credit',\n",
    "'Credit card',\n",
    "'Microloan',\n",
    "'LATE_DAYS_x',\n",
    "'score',\n",
    "'STATUS_X',\n",
    "'NFLAG_INSURED_ON_APPROVAL',\n",
    "'DAYS_TERMINATION',\n",
    "'DAYS_LAST_DUE',\n",
    "'DAYS_LAST_DUE_1ST_VERSION',\n",
    "'DAYS_FIRST_DUE',\n",
    "'DAYS_FIRST_DRAWING',\n",
    "'LATE_DAYS_y',\n",
    "'EXTRA_DAYS']].values"
   ]
  },
  {
   "cell_type": "code",
   "execution_count": 90,
   "metadata": {},
   "outputs": [],
   "source": [
    "submission['TARGET'] = xgbc_less_selec.predict_proba(X_selecsub)[:, 1]\n",
    "submission.to_csv('submission_xgb_less.csv', index=False)"
   ]
  },
  {
   "cell_type": "code",
   "execution_count": 180,
   "metadata": {},
   "outputs": [],
   "source": [
    "grid_xgbc = GridSearchCV(estimator=XGBClassifier(n_jobs=-1), param_grid=params, scoring=make_scorer(roc_auc_score), cv=3, verbose=1)"
   ]
  },
  {
   "cell_type": "code",
   "execution_count": 181,
   "metadata": {
    "scrolled": false
   },
   "outputs": [
    {
     "name": "stdout",
     "output_type": "stream",
     "text": [
      "Fitting 3 folds for each of 1 candidates, totalling 3 fits\n"
     ]
    },
    {
     "name": "stderr",
     "output_type": "stream",
     "text": [
      "c:\\python\\python36\\lib\\site-packages\\sklearn\\preprocessing\\label.py:151: DeprecationWarning: The truth value of an empty array is ambiguous. Returning False, but in future this will result in an error. Use `array.size > 0` to check that an array is not empty.\n",
      "  if diff:\n",
      "c:\\python\\python36\\lib\\site-packages\\sklearn\\preprocessing\\label.py:151: DeprecationWarning: The truth value of an empty array is ambiguous. Returning False, but in future this will result in an error. Use `array.size > 0` to check that an array is not empty.\n",
      "  if diff:\n",
      "c:\\python\\python36\\lib\\site-packages\\sklearn\\preprocessing\\label.py:151: DeprecationWarning: The truth value of an empty array is ambiguous. Returning False, but in future this will result in an error. Use `array.size > 0` to check that an array is not empty.\n",
      "  if diff:\n",
      "c:\\python\\python36\\lib\\site-packages\\sklearn\\preprocessing\\label.py:151: DeprecationWarning: The truth value of an empty array is ambiguous. Returning False, but in future this will result in an error. Use `array.size > 0` to check that an array is not empty.\n",
      "  if diff:\n",
      "c:\\python\\python36\\lib\\site-packages\\sklearn\\preprocessing\\label.py:151: DeprecationWarning: The truth value of an empty array is ambiguous. Returning False, but in future this will result in an error. Use `array.size > 0` to check that an array is not empty.\n",
      "  if diff:\n",
      "c:\\python\\python36\\lib\\site-packages\\sklearn\\preprocessing\\label.py:151: DeprecationWarning: The truth value of an empty array is ambiguous. Returning False, but in future this will result in an error. Use `array.size > 0` to check that an array is not empty.\n",
      "  if diff:\n",
      "[Parallel(n_jobs=1)]: Done   3 out of   3 | elapsed:  7.8min finished\n"
     ]
    },
    {
     "data": {
      "text/plain": [
       "GridSearchCV(cv=3, error_score='raise',\n",
       "       estimator=XGBClassifier(base_score=0.5, booster='gbtree', colsample_bylevel=1,\n",
       "       colsample_bytree=1, gamma=0, learning_rate=0.1, max_delta_step=0,\n",
       "       max_depth=3, min_child_weight=1, missing=None, n_estimators=100,\n",
       "       n_jobs=-1, nthread=None, objective='binary:logistic',\n",
       "       random_state=0, reg_alpha=0, reg_lambda=1, scale_pos_weight=1,\n",
       "       seed=None, silent=True, subsample=1),\n",
       "       fit_params=None, iid=True, n_jobs=1,\n",
       "       param_grid={'base_score': [0.5], 'colsample_bylevel': [0.7], 'colsample_bytree': [0.8], 'gamma': [8], 'learning_rate': [0.1], 'max_delta_step': [7], 'max_depth': [4], 'min_child_weight': [4], 'n_estimators': [800], 'reg_alpha': [6], 'reg_lambda': [9]},\n",
       "       pre_dispatch='2*n_jobs', refit=True, return_train_score='warn',\n",
       "       scoring=make_scorer(roc_auc_score), verbose=1)"
      ]
     },
     "execution_count": 181,
     "metadata": {},
     "output_type": "execute_result"
    }
   ],
   "source": [
    "grid_xgbc.fit(X_tr, y_tr)"
   ]
  },
  {
   "cell_type": "code",
   "execution_count": 182,
   "metadata": {},
   "outputs": [
    {
     "data": {
      "text/plain": [
       "{'base_score': 0.5,\n",
       " 'colsample_bylevel': 0.7,\n",
       " 'colsample_bytree': 0.8,\n",
       " 'gamma': 8,\n",
       " 'learning_rate': 0.1,\n",
       " 'max_delta_step': 7,\n",
       " 'max_depth': 4,\n",
       " 'min_child_weight': 4,\n",
       " 'n_estimators': 800,\n",
       " 'reg_alpha': 6,\n",
       " 'reg_lambda': 9}"
      ]
     },
     "execution_count": 182,
     "metadata": {},
     "output_type": "execute_result"
    }
   ],
   "source": [
    "grid_xgbc.best_params_"
   ]
  },
  {
   "cell_type": "code",
   "execution_count": 171,
   "metadata": {},
   "outputs": [
    {
     "data": {
      "text/plain": [
       "0.8313276728403973"
      ]
     },
     "execution_count": 171,
     "metadata": {},
     "output_type": "execute_result"
    }
   ],
   "source": [
    "roc_auc_score(y_tr, grid_xgbc.best_estimator_.predict_proba(X_tr)[:, 1])"
   ]
  },
  {
   "cell_type": "code",
   "execution_count": 172,
   "metadata": {},
   "outputs": [
    {
     "data": {
      "text/plain": [
       "0.7801897881331942"
      ]
     },
     "execution_count": 172,
     "metadata": {},
     "output_type": "execute_result"
    }
   ],
   "source": [
    "roc_auc_score(y_ts, grid_xgbc.best_estimator_.predict_proba(X_ts)[:, 1])"
   ]
  },
  {
   "cell_type": "code",
   "execution_count": 178,
   "metadata": {},
   "outputs": [
    {
     "data": {
      "text/plain": [
       "0.781680020458773"
      ]
     },
     "execution_count": 178,
     "metadata": {},
     "output_type": "execute_result"
    }
   ],
   "source": [
    "roc_auc_score(y_ts, grid_xgbc.best_estimator_.predict_proba(X_ts)[:, 1])"
   ]
  },
  {
   "cell_type": "code",
   "execution_count": 177,
   "metadata": {},
   "outputs": [
    {
     "data": {
      "text/plain": [
       "0.8135071520338417"
      ]
     },
     "execution_count": 177,
     "metadata": {},
     "output_type": "execute_result"
    }
   ],
   "source": [
    "roc_auc_score(y_tr, grid_xgbc.best_estimator_.predict_proba(X_tr)[:, 1])"
   ]
  },
  {
   "cell_type": "code",
   "execution_count": 183,
   "metadata": {},
   "outputs": [
    {
     "data": {
      "text/plain": [
       "0.8135071520338417"
      ]
     },
     "execution_count": 183,
     "metadata": {},
     "output_type": "execute_result"
    }
   ],
   "source": [
    "roc_auc_score(y_tr, grid_xgbc.best_estimator_.predict_proba(X_tr)[:, 1])"
   ]
  },
  {
   "cell_type": "code",
   "execution_count": 184,
   "metadata": {},
   "outputs": [
    {
     "data": {
      "text/plain": [
       "0.781680020458773"
      ]
     },
     "execution_count": 184,
     "metadata": {},
     "output_type": "execute_result"
    }
   ],
   "source": [
    "roc_auc_score(y_ts, grid_xgbc.best_estimator_.predict_proba(X_ts)[:, 1])"
   ]
  },
  {
   "cell_type": "code",
   "execution_count": 186,
   "metadata": {},
   "outputs": [],
   "source": [
    "y_xgb_tr = grid_xgbc.best_estimator_.predict_proba(X_tr)[:, 1]"
   ]
  },
  {
   "cell_type": "code",
   "execution_count": 187,
   "metadata": {},
   "outputs": [],
   "source": [
    "y_xgb_ts = grid_xgbc.best_estimator_.predict_proba(X_ts)[:, 1]"
   ]
  },
  {
   "cell_type": "code",
   "execution_count": 188,
   "metadata": {},
   "outputs": [],
   "source": [
    "app.to_csv('ready_for_model_building_appl.csv')"
   ]
  },
  {
   "cell_type": "code",
   "execution_count": 190,
   "metadata": {},
   "outputs": [
    {
     "name": "stdout",
     "output_type": "stream",
     "text": [
      "84\n"
     ]
    }
   ],
   "source": [
    "feat_selec = []\n",
    "i = 0\n",
    "for col in app.columns:\n",
    "    if dic_sorted[col]>=0.00392:\n",
    "        feat_selec.append(col)\n",
    "        i = i+1\n",
    "print(i)"
   ]
  },
  {
   "cell_type": "code",
   "execution_count": 200,
   "metadata": {},
   "outputs": [],
   "source": [
    "X = app.values[:307511, :]"
   ]
  },
  {
   "cell_type": "code",
   "execution_count": 201,
   "metadata": {},
   "outputs": [
    {
     "data": {
      "text/plain": [
       "(307511, 230)"
      ]
     },
     "execution_count": 201,
     "metadata": {},
     "output_type": "execute_result"
    }
   ],
   "source": [
    "X.shape"
   ]
  },
  {
   "cell_type": "code",
   "execution_count": 203,
   "metadata": {},
   "outputs": [],
   "source": [
    "X_tr, X_ts, y_tr, y_ts = train_test_split(X, y, test_size=0.15)"
   ]
  },
  {
   "cell_type": "code",
   "execution_count": 204,
   "metadata": {},
   "outputs": [],
   "source": [
    "y_rf_tr = best_rf.predict_proba(X_tr)[:, 1]"
   ]
  },
  {
   "cell_type": "code",
   "execution_count": 205,
   "metadata": {},
   "outputs": [],
   "source": [
    "y_rf_ts = best_rf.predict_proba(X_ts)[:, 1]"
   ]
  },
  {
   "cell_type": "code",
   "execution_count": 206,
   "metadata": {},
   "outputs": [],
   "source": [
    "X = app[feat_selec].values[:307511, :]"
   ]
  },
  {
   "cell_type": "code",
   "execution_count": 209,
   "metadata": {},
   "outputs": [],
   "source": [
    "from sklearn.preprocessing import StandardScaler"
   ]
  },
  {
   "cell_type": "code",
   "execution_count": 210,
   "metadata": {},
   "outputs": [],
   "source": [
    "scaler = StandardScaler()"
   ]
  },
  {
   "cell_type": "code",
   "execution_count": 211,
   "metadata": {},
   "outputs": [
    {
     "data": {
      "text/plain": [
       "StandardScaler(copy=True, with_mean=True, with_std=True)"
      ]
     },
     "execution_count": 211,
     "metadata": {},
     "output_type": "execute_result"
    }
   ],
   "source": [
    "scaler.fit(app[feat_selec].values)"
   ]
  },
  {
   "cell_type": "code",
   "execution_count": 212,
   "metadata": {},
   "outputs": [],
   "source": [
    "X = scaler.transform(X)"
   ]
  },
  {
   "cell_type": "code",
   "execution_count": 215,
   "metadata": {},
   "outputs": [],
   "source": [
    "X_tr, X_ts, y_tr, y_ts = train_test_split(X, y, test_size=0.15)"
   ]
  }
 ],
 "metadata": {
  "kernelspec": {
   "display_name": "Python 3",
   "language": "python",
   "name": "python3"
  },
  "language_info": {
   "codemirror_mode": {
    "name": "ipython",
    "version": 3
   },
   "file_extension": ".py",
   "mimetype": "text/x-python",
   "name": "python",
   "nbconvert_exporter": "python",
   "pygments_lexer": "ipython3",
   "version": "3.6.6"
  }
 },
 "nbformat": 4,
 "nbformat_minor": 2
}
