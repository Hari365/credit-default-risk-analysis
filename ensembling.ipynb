{
 "cells": [
  {
   "cell_type": "code",
   "execution_count": 1,
   "metadata": {},
   "outputs": [],
   "source": [
    "import pandas as pd\n",
    "import numpy as np\n",
    "import pickle"
   ]
  },
  {
   "cell_type": "code",
   "execution_count": 2,
   "metadata": {},
   "outputs": [],
   "source": [
    "app_tr = pd.read_csv('application_train.csv')"
   ]
  },
  {
   "cell_type": "code",
   "execution_count": 3,
   "metadata": {},
   "outputs": [],
   "source": [
    "y = app_tr['TARGET'].values"
   ]
  },
  {
   "cell_type": "code",
   "execution_count": 4,
   "metadata": {},
   "outputs": [
    {
     "data": {
      "text/plain": [
       "(307511,)"
      ]
     },
     "execution_count": 4,
     "metadata": {},
     "output_type": "execute_result"
    }
   ],
   "source": [
    "y.shape"
   ]
  },
  {
   "cell_type": "code",
   "execution_count": 5,
   "metadata": {},
   "outputs": [],
   "source": [
    "del app_tr"
   ]
  },
  {
   "cell_type": "code",
   "execution_count": 6,
   "metadata": {},
   "outputs": [],
   "source": [
    "app = pd.read_csv('ready_for_model_building_appl.csv')"
   ]
  },
  {
   "cell_type": "code",
   "execution_count": 7,
   "metadata": {},
   "outputs": [],
   "source": [
    "X_full = app.iloc[:y.shape[0], :].values"
   ]
  },
  {
   "cell_type": "code",
   "execution_count": 8,
   "metadata": {},
   "outputs": [],
   "source": [
    "X_full_sub = app.iloc[y.shape[0]:, :].values"
   ]
  },
  {
   "cell_type": "code",
   "execution_count": 9,
   "metadata": {},
   "outputs": [
    {
     "data": {
      "text/plain": [
       "(307511, 231)"
      ]
     },
     "execution_count": 9,
     "metadata": {},
     "output_type": "execute_result"
    }
   ],
   "source": [
    "X_full.shape"
   ]
  },
  {
   "cell_type": "code",
   "execution_count": 10,
   "metadata": {},
   "outputs": [],
   "source": [
    "feat_selec = [\n",
    "'Unnamed: 0',\n",
    "'SK_ID_CURR',\n",
    "'AMT_INCOME_TOTAL',\n",
    "'AMT_CREDIT',\n",
    "'AMT_ANNUITY_x',\n",
    "'AMT_GOODS_PRICE',\n",
    "'REGION_POPULATION_RELATIVE',\n",
    "'DAYS_BIRTH',\n",
    "'DAYS_EMPLOYED',\n",
    "'DAYS_REGISTRATION',\n",
    "'DAYS_ID_PUBLISH',\n",
    "'OWN_CAR_AGE',\n",
    "'HOUR_APPR_PROCESS_START',\n",
    "'EXT_SOURCE_1',\n",
    "'EXT_SOURCE_2',\n",
    "'EXT_SOURCE_3',\n",
    "'YEARS_BEGINEXPLUATATION_AVG',\n",
    "'LIVINGAREA_AVG',\n",
    "'YEARS_BEGINEXPLUATATION_MODE',\n",
    "'LIVINGAREA_MODE',\n",
    "'YEARS_BEGINEXPLUATATION_MEDI',\n",
    "'LIVINGAREA_MEDI',\n",
    "'TOTALAREA_MODE',\n",
    "'OBS_30_CNT_SOCIAL_CIRCLE',\n",
    "'DEF_30_CNT_SOCIAL_CIRCLE',\n",
    "'OBS_60_CNT_SOCIAL_CIRCLE',\n",
    "'DEF_60_CNT_SOCIAL_CIRCLE',\n",
    "'DAYS_LAST_PHONE_CHANGE',\n",
    "'AMT_REQ_CREDIT_BUREAU_YEAR',\n",
    "'CREDIT_INCOME_RATIO',\n",
    "'ANNUITY_INCOME_RATIO',\n",
    "'CREDIT_GOODS_PRICE_DIFF',\n",
    "'ENTIRE_INCOME',\n",
    "'CREDIT_ENTIRE_INCOME_RATIO',\n",
    "'ANNUITY_ENTIRE_INCOME_RATIO',\n",
    "'INCOME_PER_CHILD',\n",
    "'INCOME_PER_FAM_MEMBER',\n",
    "'ENTIRE_INCOME_PER_FAM_MEMBER',\n",
    "'ENTIRE_INCOME_PER_CHILD',\n",
    "'AMT_REQ_CREDIT_BUREAU_TOTAL',\n",
    "'AMT_REQ_CREDIT_BUREAU_EMA',\n",
    "'DAYS_CREDIT',\n",
    "'CREDIT_DAY_OVERDUE',\n",
    "'DAYS_CREDIT_ENDDATE',\n",
    "'DAYS_ENDDATE_FACT',\n",
    "'AMT_CREDIT_MAX_OVERDUE',\n",
    "'AMT_CREDIT_SUM',\n",
    "'AMT_CREDIT_SUM_DEBT',\n",
    "'AMT_CREDIT_SUM_LIMIT',\n",
    "'AMT_CREDIT_SUM_OVERDUE',\n",
    "'DAYS_CREDIT_UPDATE',\n",
    "'AMT_ANNUITY_y',\n",
    "'Active_x',\n",
    "'Closed',\n",
    "'Consumer credit',\n",
    "'Credit card',\n",
    "'Microloan',\n",
    "'LATE_DAYS_x',\n",
    "'score',\n",
    "'STATUS_X',\n",
    "'NFLAG_INSURED_ON_APPROVAL',\n",
    "'DAYS_TERMINATION',\n",
    "'DAYS_LAST_DUE',\n",
    "'DAYS_LAST_DUE_1ST_VERSION',\n",
    "'DAYS_FIRST_DUE',\n",
    "'DAYS_FIRST_DRAWING',\n",
    "'LATE_DAYS_y',\n",
    "'EXTRA_DAYS',\n",
    "'XNA_x',\n",
    "'high',\n",
    "'low_action',\n",
    "'low_normal',\n",
    "'middle',\n",
    "'HC',\n",
    "'LIMIT',\n",
    "'SCO',\n",
    "'SCOFR',\n",
    "'XAP',\n",
    "'MONTHS_BALANCE_x',\n",
    "'CNT_INSTALMENT',\n",
    "'CNT_INSTALMENT_FUTURE',\n",
    "'SK_DPD_x',\n",
    "'SK_DPD_DEF_x',\n",
    "'PERCENT_COMPLETION',\n",
    "'Active_y',\n",
    "'Completed_x',\n",
    "'Signed_x',\n",
    "'NUM_INSTALMENT_VERSION',\n",
    "'NUM_INSTALMENT_NUMBER',\n",
    "'DAYS_INSTALMENT',\n",
    "'DAYS_ENTRY_PAYMENT',\n",
    "'AMT_INSTALMENT',\n",
    "'AMT_PAYMENT',\n",
    "'LATE_PAYMENT_DAYS',\n",
    "'YOKIAN_SCORE',\n",
    "'MONTHS_BALANCE_y',\n",
    "'AMT_BALANCE',\n",
    "'AMT_CREDIT_LIMIT_ACTUAL',\n",
    "'AMT_DRAWINGS_ATM_CURRENT',\n",
    "'AMT_DRAWINGS_CURRENT',\n",
    "'AMT_DRAWINGS_OTHER_CURRENT',\n",
    "'AMT_DRAWINGS_POS_CURRENT',\n",
    "'AMT_INST_MIN_REGULARITY',\n",
    "'AMT_PAYMENT_CURRENT',\n",
    "'AMT_PAYMENT_TOTAL_CURRENT',\n",
    "'AMT_RECEIVABLE_PRINCIPAL',\n",
    "'AMT_RECIVABLE',\n",
    "'AMT_TOTAL_RECEIVABLE',\n",
    "'CNT_DRAWINGS_ATM_CURRENT',\n",
    "'CNT_DRAWINGS_CURRENT',\n",
    "'CNT_DRAWINGS_OTHER_CURRENT',\n",
    "'CNT_DRAWINGS_POS_CURRENT',\n",
    "'CNT_INSTALMENT_MATURE_CUM',\n",
    "'SK_DPD_y',\n",
    "'SK_DPD_DEF_y',\n",
    "'CODE_GENDER_F',\n",
    "'CODE_GENDER_M',\n",
    "'NAME_EDUCATION_TYPE_Higher education',\n",
    "'NAME_EDUCATION_TYPE_Secondary / secondary special',\n",
    "'NAME_FAMILY_STATUS_Married',\n",
    "'OCCUPATION_TYPE_Laborers']"
   ]
  },
  {
   "cell_type": "code",
   "execution_count": 11,
   "metadata": {},
   "outputs": [
    {
     "data": {
      "text/plain": [
       "121"
      ]
     },
     "execution_count": 11,
     "metadata": {},
     "output_type": "execute_result"
    }
   ],
   "source": [
    "len(feat_selec)"
   ]
  },
  {
   "cell_type": "code",
   "execution_count": 12,
   "metadata": {},
   "outputs": [],
   "source": [
    "X_selec = app[feat_selec].values"
   ]
  },
  {
   "cell_type": "code",
   "execution_count": 13,
   "metadata": {},
   "outputs": [],
   "source": [
    "X_selec_sub = X_selec[y.shape[0]:, :]"
   ]
  },
  {
   "cell_type": "code",
   "execution_count": 14,
   "metadata": {},
   "outputs": [],
   "source": [
    "X_selec = X_selec[:y.shape[0], :]"
   ]
  },
  {
   "cell_type": "code",
   "execution_count": 15,
   "metadata": {},
   "outputs": [],
   "source": [
    "feat_less = ['SK_ID_CURR',\n",
    "'AMT_INCOME_TOTAL',\n",
    "'AMT_CREDIT',\n",
    "'AMT_ANNUITY_x',\n",
    "'AMT_GOODS_PRICE',\n",
    "'REGION_POPULATION_RELATIVE',\n",
    "'DAYS_BIRTH',\n",
    "'DAYS_EMPLOYED',\n",
    "'DAYS_REGISTRATION',\n",
    "'DAYS_ID_PUBLISH',\n",
    "'OWN_CAR_AGE',\n",
    "'HOUR_APPR_PROCESS_START',\n",
    "'EXT_SOURCE_1',\n",
    "'EXT_SOURCE_2',\n",
    "'EXT_SOURCE_3',\n",
    "'YEARS_BEGINEXPLUATATION_AVG',\n",
    "'LIVINGAREA_AVG',\n",
    "'YEARS_BEGINEXPLUATATION_MODE',\n",
    "'LIVINGAREA_MODE',\n",
    "'YEARS_BEGINEXPLUATATION_MEDI',\n",
    "'LIVINGAREA_MEDI',\n",
    "'TOTALAREA_MODE',\n",
    "'OBS_30_CNT_SOCIAL_CIRCLE',\n",
    "'DEF_30_CNT_SOCIAL_CIRCLE',\n",
    "'OBS_60_CNT_SOCIAL_CIRCLE',\n",
    "'DEF_60_CNT_SOCIAL_CIRCLE',\n",
    "'DAYS_LAST_PHONE_CHANGE',\n",
    "'AMT_REQ_CREDIT_BUREAU_YEAR',\n",
    "'CREDIT_INCOME_RATIO',\n",
    "'ANNUITY_INCOME_RATIO',\n",
    "'CREDIT_GOODS_PRICE_DIFF',\n",
    "'ENTIRE_INCOME',\n",
    "'CREDIT_ENTIRE_INCOME_RATIO',\n",
    "'ANNUITY_ENTIRE_INCOME_RATIO',\n",
    "'INCOME_PER_CHILD',\n",
    "'INCOME_PER_FAM_MEMBER',\n",
    "'ENTIRE_INCOME_PER_FAM_MEMBER',\n",
    "'ENTIRE_INCOME_PER_CHILD',\n",
    "'AMT_REQ_CREDIT_BUREAU_TOTAL',\n",
    "'AMT_REQ_CREDIT_BUREAU_EMA',\n",
    "'DAYS_CREDIT',\n",
    "'CREDIT_DAY_OVERDUE',\n",
    "'DAYS_CREDIT_ENDDATE',\n",
    "'DAYS_ENDDATE_FACT',\n",
    "'AMT_CREDIT_MAX_OVERDUE',\n",
    "'AMT_CREDIT_SUM',\n",
    "'AMT_CREDIT_SUM_DEBT',\n",
    "'AMT_CREDIT_SUM_LIMIT',\n",
    "'AMT_CREDIT_SUM_OVERDUE',\n",
    "'DAYS_CREDIT_UPDATE',\n",
    "'AMT_ANNUITY_y',\n",
    "'Active_x',\n",
    "'Closed',\n",
    "'Consumer credit',\n",
    "'Credit card',\n",
    "'Microloan',\n",
    "'LATE_DAYS_x',\n",
    "'score',\n",
    "'STATUS_X',\n",
    "'NFLAG_INSURED_ON_APPROVAL',\n",
    "'DAYS_TERMINATION',\n",
    "'DAYS_LAST_DUE',\n",
    "'DAYS_LAST_DUE_1ST_VERSION',\n",
    "'DAYS_FIRST_DUE',\n",
    "'DAYS_FIRST_DRAWING',\n",
    "'LATE_DAYS_y',\n",
    "'EXTRA_DAYS']"
   ]
  },
  {
   "cell_type": "code",
   "execution_count": 16,
   "metadata": {},
   "outputs": [
    {
     "data": {
      "text/plain": [
       "67"
      ]
     },
     "execution_count": 16,
     "metadata": {},
     "output_type": "execute_result"
    }
   ],
   "source": [
    "len(feat_less)"
   ]
  },
  {
   "cell_type": "code",
   "execution_count": 17,
   "metadata": {},
   "outputs": [],
   "source": [
    "X_less = app[feat_less].values\n",
    "X_less_sub = X_less[y.shape[0]:, :]\n",
    "X_less = X_less[:y.shape[0], :]"
   ]
  },
  {
   "cell_type": "code",
   "execution_count": 18,
   "metadata": {},
   "outputs": [],
   "source": [
    "models = ['cross_validated_random_forest.pickle', 'simple_xgbc.pickle', 'xgbc_selected_cross_validated.pickle', 'xgbc_full_cv.pickle', 'xgbc_less_selec_cv.pickle']"
   ]
  },
  {
   "cell_type": "code",
   "execution_count": 19,
   "metadata": {},
   "outputs": [],
   "source": [
    "from sklearn.model_selection import train_test_split"
   ]
  },
  {
   "cell_type": "code",
   "execution_count": 20,
   "metadata": {},
   "outputs": [
    {
     "data": {
      "text/plain": [
       "(307511,)"
      ]
     },
     "execution_count": 20,
     "metadata": {},
     "output_type": "execute_result"
    }
   ],
   "source": [
    "y.shape"
   ]
  },
  {
   "cell_type": "code",
   "execution_count": 22,
   "metadata": {},
   "outputs": [
    {
     "data": {
      "text/plain": [
       "261384.35"
      ]
     },
     "execution_count": 22,
     "metadata": {},
     "output_type": "execute_result"
    }
   ],
   "source": [
    "0.85*y.shape[0]"
   ]
  },
  {
   "cell_type": "code",
   "execution_count": 23,
   "metadata": {},
   "outputs": [],
   "source": [
    "X_fulltr, X_fullts = X_full[:261385, :], X_full[261385:, :]"
   ]
  },
  {
   "cell_type": "code",
   "execution_count": 24,
   "metadata": {},
   "outputs": [
    {
     "data": {
      "text/plain": [
       "(307511, 121)"
      ]
     },
     "execution_count": 24,
     "metadata": {},
     "output_type": "execute_result"
    }
   ],
   "source": [
    "X_selec.shape"
   ]
  },
  {
   "cell_type": "code",
   "execution_count": 25,
   "metadata": {},
   "outputs": [
    {
     "data": {
      "text/plain": [
       "(307511,)"
      ]
     },
     "execution_count": 25,
     "metadata": {},
     "output_type": "execute_result"
    }
   ],
   "source": [
    "y.shape"
   ]
  },
  {
   "cell_type": "code",
   "execution_count": 26,
   "metadata": {},
   "outputs": [],
   "source": [
    "X_selectr, X_selects = X_selec[:261385, :], X_selec[261385:, :]"
   ]
  },
  {
   "cell_type": "code",
   "execution_count": 27,
   "metadata": {},
   "outputs": [],
   "source": [
    "X_lesstr, X_lessts = X_less[:261385, :], X_less[261385:, :]"
   ]
  },
  {
   "cell_type": "code",
   "execution_count": 30,
   "metadata": {},
   "outputs": [],
   "source": [
    "y_tr, y_ts = y[:261385,], y[261385:,]"
   ]
  },
  {
   "cell_type": "code",
   "execution_count": 31,
   "metadata": {},
   "outputs": [],
   "source": [
    "with open('cross_validated_random_forest.pickle', 'rb') as opn:\n",
    "    best_rf = pickle.load(opn)"
   ]
  },
  {
   "cell_type": "code",
   "execution_count": 32,
   "metadata": {},
   "outputs": [],
   "source": [
    "train_probs = pd.DataFrame({}, index=list(app['SK_ID_CURR'].values)[:y_tr.shape[0]])"
   ]
  },
  {
   "cell_type": "code",
   "execution_count": 33,
   "metadata": {},
   "outputs": [],
   "source": [
    "test_probs = pd.DataFrame({}, index=list(app['SK_ID_CURR'].values)[y_tr.shape[0]:y.shape[0]])"
   ]
  },
  {
   "cell_type": "code",
   "execution_count": 34,
   "metadata": {},
   "outputs": [],
   "source": [
    "train_probs['best_rf'] = best_rf.predict_proba(X_fulltr)[:,1]"
   ]
  },
  {
   "cell_type": "code",
   "execution_count": 35,
   "metadata": {},
   "outputs": [],
   "source": [
    "test_probs['best_rf'] = best_rf.predict_proba(X_fullts)[:, 1]"
   ]
  },
  {
   "cell_type": "code",
   "execution_count": 36,
   "metadata": {},
   "outputs": [],
   "source": [
    "del best_rf"
   ]
  },
  {
   "cell_type": "code",
   "execution_count": 37,
   "metadata": {},
   "outputs": [],
   "source": [
    "with open('simple_xgbc.pickle', 'rb') as opn:\n",
    "    simple_xgbc = pickle.load(opn)"
   ]
  },
  {
   "cell_type": "code",
   "execution_count": 38,
   "metadata": {},
   "outputs": [],
   "source": [
    "train_probs['simple_xgbc'] = simple_xgbc.predict_proba(X_selectr)[:, 1]"
   ]
  },
  {
   "cell_type": "code",
   "execution_count": 39,
   "metadata": {},
   "outputs": [],
   "source": [
    "test_probs['simple_xgbc'] = simple_xgbc.predict_proba(X_selects)[:, 1]"
   ]
  },
  {
   "cell_type": "code",
   "execution_count": 40,
   "metadata": {},
   "outputs": [],
   "source": [
    "del simple_xgbc"
   ]
  },
  {
   "cell_type": "code",
   "execution_count": 41,
   "metadata": {},
   "outputs": [],
   "source": [
    "with open('xgbc_selected_cross_validated.pickle', 'rb') as opn:\n",
    "    xgbc_selec = pickle.load(opn)"
   ]
  },
  {
   "cell_type": "code",
   "execution_count": 42,
   "metadata": {},
   "outputs": [],
   "source": [
    "train_probs['xgbc_selec_cv'] = xgbc_selec.predict_proba(X_selectr)[:, 1]"
   ]
  },
  {
   "cell_type": "code",
   "execution_count": 43,
   "metadata": {},
   "outputs": [],
   "source": [
    "test_probs['xgbc_selec_cv'] = xgbc_selec.predict_proba(X_selects)[:, 1]"
   ]
  },
  {
   "cell_type": "code",
   "execution_count": 44,
   "metadata": {},
   "outputs": [],
   "source": [
    "del xgbc_selec"
   ]
  },
  {
   "cell_type": "code",
   "execution_count": 45,
   "metadata": {},
   "outputs": [],
   "source": [
    "with open('xgbc_less_selec_cv.pickle', 'rb') as f:\n",
    "    xgbc_less = pickle.load(f)"
   ]
  },
  {
   "cell_type": "code",
   "execution_count": 46,
   "metadata": {},
   "outputs": [],
   "source": [
    "train_probs['xgbc_less_cv'] = xgbc_less.predict_proba(X_lesstr)[:, 1]"
   ]
  },
  {
   "cell_type": "code",
   "execution_count": 47,
   "metadata": {},
   "outputs": [],
   "source": [
    "test_probs['xgbc_less_cv'] = xgbc_less.predict_proba(X_lessts)[:, 1]"
   ]
  },
  {
   "cell_type": "code",
   "execution_count": 48,
   "metadata": {},
   "outputs": [],
   "source": [
    "del xgbc_less"
   ]
  },
  {
   "cell_type": "code",
   "execution_count": 49,
   "metadata": {},
   "outputs": [],
   "source": [
    "app_tr = pd.read_csv('application_train.csv')"
   ]
  },
  {
   "cell_type": "code",
   "execution_count": 50,
   "metadata": {},
   "outputs": [
    {
     "data": {
      "text/plain": [
       "(307511, 122)"
      ]
     },
     "execution_count": 50,
     "metadata": {},
     "output_type": "execute_result"
    }
   ],
   "source": [
    "app_tr.shape"
   ]
  },
  {
   "cell_type": "code",
   "execution_count": 51,
   "metadata": {},
   "outputs": [],
   "source": [
    "del app_tr"
   ]
  },
  {
   "cell_type": "code",
   "execution_count": 52,
   "metadata": {
    "scrolled": true
   },
   "outputs": [
    {
     "data": {
      "text/html": [
       "<div>\n",
       "<style scoped>\n",
       "    .dataframe tbody tr th:only-of-type {\n",
       "        vertical-align: middle;\n",
       "    }\n",
       "\n",
       "    .dataframe tbody tr th {\n",
       "        vertical-align: top;\n",
       "    }\n",
       "\n",
       "    .dataframe thead th {\n",
       "        text-align: right;\n",
       "    }\n",
       "</style>\n",
       "<table border=\"1\" class=\"dataframe\">\n",
       "  <thead>\n",
       "    <tr style=\"text-align: right;\">\n",
       "      <th></th>\n",
       "      <th>best_rf</th>\n",
       "      <th>simple_xgbc</th>\n",
       "      <th>xgbc_selec_cv</th>\n",
       "      <th>xgbc_less_cv</th>\n",
       "    </tr>\n",
       "  </thead>\n",
       "  <tbody>\n",
       "    <tr>\n",
       "      <th>100002</th>\n",
       "      <td>0.277769</td>\n",
       "      <td>0.314071</td>\n",
       "      <td>0.259294</td>\n",
       "      <td>0.380187</td>\n",
       "    </tr>\n",
       "    <tr>\n",
       "      <th>100003</th>\n",
       "      <td>0.040991</td>\n",
       "      <td>0.034275</td>\n",
       "      <td>0.015042</td>\n",
       "      <td>0.033700</td>\n",
       "    </tr>\n",
       "    <tr>\n",
       "      <th>100004</th>\n",
       "      <td>0.060233</td>\n",
       "      <td>0.036301</td>\n",
       "      <td>0.020286</td>\n",
       "      <td>0.024342</td>\n",
       "    </tr>\n",
       "    <tr>\n",
       "      <th>100006</th>\n",
       "      <td>0.053465</td>\n",
       "      <td>0.037015</td>\n",
       "      <td>0.022415</td>\n",
       "      <td>0.038694</td>\n",
       "    </tr>\n",
       "    <tr>\n",
       "      <th>100007</th>\n",
       "      <td>0.061021</td>\n",
       "      <td>0.091228</td>\n",
       "      <td>0.060749</td>\n",
       "      <td>0.053903</td>\n",
       "    </tr>\n",
       "  </tbody>\n",
       "</table>\n",
       "</div>"
      ],
      "text/plain": [
       "         best_rf  simple_xgbc  xgbc_selec_cv  xgbc_less_cv\n",
       "100002  0.277769     0.314071       0.259294      0.380187\n",
       "100003  0.040991     0.034275       0.015042      0.033700\n",
       "100004  0.060233     0.036301       0.020286      0.024342\n",
       "100006  0.053465     0.037015       0.022415      0.038694\n",
       "100007  0.061021     0.091228       0.060749      0.053903"
      ]
     },
     "execution_count": 52,
     "metadata": {},
     "output_type": "execute_result"
    }
   ],
   "source": [
    "train_probs.head()"
   ]
  },
  {
   "cell_type": "code",
   "execution_count": 24,
   "metadata": {},
   "outputs": [],
   "source": [
    "train_probs = pd.read_csv('train_probs.csv')"
   ]
  },
  {
   "cell_type": "code",
   "execution_count": 26,
   "metadata": {},
   "outputs": [
    {
     "data": {
      "text/plain": [
       "(261384, 5)"
      ]
     },
     "execution_count": 26,
     "metadata": {},
     "output_type": "execute_result"
    }
   ],
   "source": [
    "train_probs.shape"
   ]
  },
  {
   "cell_type": "code",
   "execution_count": 27,
   "metadata": {},
   "outputs": [],
   "source": [
    "test_probs = pd.read_csv('test_probs.csv')"
   ]
  },
  {
   "cell_type": "code",
   "execution_count": 28,
   "metadata": {},
   "outputs": [
    {
     "data": {
      "text/plain": [
       "(46127, 5)"
      ]
     },
     "execution_count": 28,
     "metadata": {},
     "output_type": "execute_result"
    }
   ],
   "source": [
    "test_probs.shape"
   ]
  },
  {
   "cell_type": "code",
   "execution_count": 29,
   "metadata": {},
   "outputs": [
    {
     "data": {
      "text/plain": [
       "307511"
      ]
     },
     "execution_count": 29,
     "metadata": {},
     "output_type": "execute_result"
    }
   ],
   "source": [
    "train_probs.shape[0]+test_probs.shape[0]"
   ]
  },
  {
   "cell_type": "code",
   "execution_count": 53,
   "metadata": {},
   "outputs": [],
   "source": [
    "train_probs.to_csv('train_probs.csv')"
   ]
  },
  {
   "cell_type": "code",
   "execution_count": 54,
   "metadata": {},
   "outputs": [],
   "source": [
    "test_probs.to_csv('test_probs.csv')"
   ]
  },
  {
   "cell_type": "code",
   "execution_count": 55,
   "metadata": {},
   "outputs": [],
   "source": [
    "sub_best_rf = pd.read_csv('submission_best_rf.csv')"
   ]
  },
  {
   "cell_type": "code",
   "execution_count": 56,
   "metadata": {},
   "outputs": [],
   "source": [
    "sub_simple_xgbc = pd.read_csv('simple_xgbc_submission.csv')"
   ]
  },
  {
   "cell_type": "code",
   "execution_count": 57,
   "metadata": {},
   "outputs": [],
   "source": [
    "sub_xgbc_selec_cv = pd.read_csv('xgbc_best_selected.csv')"
   ]
  },
  {
   "cell_type": "code",
   "execution_count": 58,
   "metadata": {},
   "outputs": [],
   "source": [
    "sub_xgbc_less_cv = pd.read_csv('submission_xgb_full.csv')"
   ]
  },
  {
   "cell_type": "code",
   "execution_count": 59,
   "metadata": {},
   "outputs": [
    {
     "data": {
      "text/html": [
       "<div>\n",
       "<style scoped>\n",
       "    .dataframe tbody tr th:only-of-type {\n",
       "        vertical-align: middle;\n",
       "    }\n",
       "\n",
       "    .dataframe tbody tr th {\n",
       "        vertical-align: top;\n",
       "    }\n",
       "\n",
       "    .dataframe thead th {\n",
       "        text-align: right;\n",
       "    }\n",
       "</style>\n",
       "<table border=\"1\" class=\"dataframe\">\n",
       "  <thead>\n",
       "    <tr style=\"text-align: right;\">\n",
       "      <th></th>\n",
       "      <th>SK_ID_CURR</th>\n",
       "      <th>TARGET</th>\n",
       "    </tr>\n",
       "  </thead>\n",
       "  <tbody>\n",
       "    <tr>\n",
       "      <th>48739</th>\n",
       "      <td>456221</td>\n",
       "      <td>0.070465</td>\n",
       "    </tr>\n",
       "    <tr>\n",
       "      <th>48740</th>\n",
       "      <td>456222</td>\n",
       "      <td>0.052454</td>\n",
       "    </tr>\n",
       "    <tr>\n",
       "      <th>48741</th>\n",
       "      <td>456223</td>\n",
       "      <td>0.013847</td>\n",
       "    </tr>\n",
       "    <tr>\n",
       "      <th>48742</th>\n",
       "      <td>456224</td>\n",
       "      <td>0.026857</td>\n",
       "    </tr>\n",
       "    <tr>\n",
       "      <th>48743</th>\n",
       "      <td>456250</td>\n",
       "      <td>0.145753</td>\n",
       "    </tr>\n",
       "  </tbody>\n",
       "</table>\n",
       "</div>"
      ],
      "text/plain": [
       "       SK_ID_CURR    TARGET\n",
       "48739      456221  0.070465\n",
       "48740      456222  0.052454\n",
       "48741      456223  0.013847\n",
       "48742      456224  0.026857\n",
       "48743      456250  0.145753"
      ]
     },
     "execution_count": 59,
     "metadata": {},
     "output_type": "execute_result"
    }
   ],
   "source": [
    "sub_xgbc_selec_cv.tail()"
   ]
  },
  {
   "cell_type": "code",
   "execution_count": 60,
   "metadata": {
    "scrolled": true
   },
   "outputs": [
    {
     "data": {
      "text/html": [
       "<div>\n",
       "<style scoped>\n",
       "    .dataframe tbody tr th:only-of-type {\n",
       "        vertical-align: middle;\n",
       "    }\n",
       "\n",
       "    .dataframe tbody tr th {\n",
       "        vertical-align: top;\n",
       "    }\n",
       "\n",
       "    .dataframe thead th {\n",
       "        text-align: right;\n",
       "    }\n",
       "</style>\n",
       "<table border=\"1\" class=\"dataframe\">\n",
       "  <thead>\n",
       "    <tr style=\"text-align: right;\">\n",
       "      <th></th>\n",
       "      <th>SK_ID_CURR</th>\n",
       "      <th>TARGET</th>\n",
       "    </tr>\n",
       "  </thead>\n",
       "  <tbody>\n",
       "    <tr>\n",
       "      <th>48739</th>\n",
       "      <td>456221</td>\n",
       "      <td>0.079943</td>\n",
       "    </tr>\n",
       "    <tr>\n",
       "      <th>48740</th>\n",
       "      <td>456222</td>\n",
       "      <td>0.089285</td>\n",
       "    </tr>\n",
       "    <tr>\n",
       "      <th>48741</th>\n",
       "      <td>456223</td>\n",
       "      <td>0.054933</td>\n",
       "    </tr>\n",
       "    <tr>\n",
       "      <th>48742</th>\n",
       "      <td>456224</td>\n",
       "      <td>0.049755</td>\n",
       "    </tr>\n",
       "    <tr>\n",
       "      <th>48743</th>\n",
       "      <td>456250</td>\n",
       "      <td>0.179809</td>\n",
       "    </tr>\n",
       "  </tbody>\n",
       "</table>\n",
       "</div>"
      ],
      "text/plain": [
       "       SK_ID_CURR    TARGET\n",
       "48739      456221  0.079943\n",
       "48740      456222  0.089285\n",
       "48741      456223  0.054933\n",
       "48742      456224  0.049755\n",
       "48743      456250  0.179809"
      ]
     },
     "execution_count": 60,
     "metadata": {},
     "output_type": "execute_result"
    }
   ],
   "source": [
    "sub_best_rf.tail()"
   ]
  },
  {
   "cell_type": "code",
   "execution_count": 61,
   "metadata": {},
   "outputs": [],
   "source": [
    "submission_probs = pd.DataFrame({}, index=list(sub_best_rf.SK_ID_CURR.values))"
   ]
  },
  {
   "cell_type": "code",
   "execution_count": 62,
   "metadata": {},
   "outputs": [],
   "source": [
    "app_ts = pd.read_csv('application_test.csv')"
   ]
  },
  {
   "cell_type": "code",
   "execution_count": 63,
   "metadata": {},
   "outputs": [
    {
     "data": {
      "text/plain": [
       "48739    456221\n",
       "48740    456222\n",
       "48741    456223\n",
       "48742    456224\n",
       "48743    456250\n",
       "Name: SK_ID_CURR, dtype: int64"
      ]
     },
     "execution_count": 63,
     "metadata": {},
     "output_type": "execute_result"
    }
   ],
   "source": [
    "app_ts['SK_ID_CURR'].tail()"
   ]
  },
  {
   "cell_type": "code",
   "execution_count": 64,
   "metadata": {},
   "outputs": [
    {
     "data": {
      "text/plain": [
       "(48744, 121)"
      ]
     },
     "execution_count": 64,
     "metadata": {},
     "output_type": "execute_result"
    }
   ],
   "source": [
    "app_ts.shape"
   ]
  },
  {
   "cell_type": "code",
   "execution_count": 65,
   "metadata": {},
   "outputs": [],
   "source": [
    "del app_ts"
   ]
  },
  {
   "cell_type": "code",
   "execution_count": 66,
   "metadata": {},
   "outputs": [
    {
     "data": {
      "text/plain": [
       "(48744, 0)"
      ]
     },
     "execution_count": 66,
     "metadata": {},
     "output_type": "execute_result"
    }
   ],
   "source": [
    "submission_probs.shape"
   ]
  },
  {
   "cell_type": "code",
   "execution_count": 67,
   "metadata": {},
   "outputs": [],
   "source": [
    "submission_probs['best_rf'] = sub_best_rf['TARGET'].values"
   ]
  },
  {
   "cell_type": "code",
   "execution_count": 68,
   "metadata": {},
   "outputs": [
    {
     "data": {
      "text/html": [
       "<div>\n",
       "<style scoped>\n",
       "    .dataframe tbody tr th:only-of-type {\n",
       "        vertical-align: middle;\n",
       "    }\n",
       "\n",
       "    .dataframe tbody tr th {\n",
       "        vertical-align: top;\n",
       "    }\n",
       "\n",
       "    .dataframe thead th {\n",
       "        text-align: right;\n",
       "    }\n",
       "</style>\n",
       "<table border=\"1\" class=\"dataframe\">\n",
       "  <thead>\n",
       "    <tr style=\"text-align: right;\">\n",
       "      <th></th>\n",
       "      <th>best_rf</th>\n",
       "    </tr>\n",
       "  </thead>\n",
       "  <tbody>\n",
       "    <tr>\n",
       "      <th>456221</th>\n",
       "      <td>0.079943</td>\n",
       "    </tr>\n",
       "    <tr>\n",
       "      <th>456222</th>\n",
       "      <td>0.089285</td>\n",
       "    </tr>\n",
       "    <tr>\n",
       "      <th>456223</th>\n",
       "      <td>0.054933</td>\n",
       "    </tr>\n",
       "    <tr>\n",
       "      <th>456224</th>\n",
       "      <td>0.049755</td>\n",
       "    </tr>\n",
       "    <tr>\n",
       "      <th>456250</th>\n",
       "      <td>0.179809</td>\n",
       "    </tr>\n",
       "  </tbody>\n",
       "</table>\n",
       "</div>"
      ],
      "text/plain": [
       "         best_rf\n",
       "456221  0.079943\n",
       "456222  0.089285\n",
       "456223  0.054933\n",
       "456224  0.049755\n",
       "456250  0.179809"
      ]
     },
     "execution_count": 68,
     "metadata": {},
     "output_type": "execute_result"
    }
   ],
   "source": [
    "submission_probs.tail()"
   ]
  },
  {
   "cell_type": "code",
   "execution_count": 69,
   "metadata": {},
   "outputs": [],
   "source": [
    "submission_probs['simple_xgbc'] = sub_simple_xgbc['TARGET'].values"
   ]
  },
  {
   "cell_type": "code",
   "execution_count": 70,
   "metadata": {},
   "outputs": [],
   "source": [
    "submission_probs['xgbc_selec_cv'] = sub_xgbc_selec_cv['TARGET'].values"
   ]
  },
  {
   "cell_type": "code",
   "execution_count": 71,
   "metadata": {},
   "outputs": [],
   "source": [
    "submission_probs['xgbc_less_cv'] = sub_xgbc_less_cv['TARGET'].values"
   ]
  },
  {
   "cell_type": "code",
   "execution_count": 72,
   "metadata": {},
   "outputs": [
    {
     "data": {
      "text/html": [
       "<div>\n",
       "<style scoped>\n",
       "    .dataframe tbody tr th:only-of-type {\n",
       "        vertical-align: middle;\n",
       "    }\n",
       "\n",
       "    .dataframe tbody tr th {\n",
       "        vertical-align: top;\n",
       "    }\n",
       "\n",
       "    .dataframe thead th {\n",
       "        text-align: right;\n",
       "    }\n",
       "</style>\n",
       "<table border=\"1\" class=\"dataframe\">\n",
       "  <thead>\n",
       "    <tr style=\"text-align: right;\">\n",
       "      <th></th>\n",
       "      <th>best_rf</th>\n",
       "      <th>simple_xgbc</th>\n",
       "      <th>xgbc_selec_cv</th>\n",
       "      <th>xgbc_less_cv</th>\n",
       "    </tr>\n",
       "  </thead>\n",
       "  <tbody>\n",
       "    <tr>\n",
       "      <th>456221</th>\n",
       "      <td>0.079943</td>\n",
       "      <td>0.060344</td>\n",
       "      <td>0.070465</td>\n",
       "      <td>0.084255</td>\n",
       "    </tr>\n",
       "    <tr>\n",
       "      <th>456222</th>\n",
       "      <td>0.089285</td>\n",
       "      <td>0.066340</td>\n",
       "      <td>0.052454</td>\n",
       "      <td>0.064304</td>\n",
       "    </tr>\n",
       "    <tr>\n",
       "      <th>456223</th>\n",
       "      <td>0.054933</td>\n",
       "      <td>0.030530</td>\n",
       "      <td>0.013847</td>\n",
       "      <td>0.078065</td>\n",
       "    </tr>\n",
       "    <tr>\n",
       "      <th>456224</th>\n",
       "      <td>0.049755</td>\n",
       "      <td>0.036308</td>\n",
       "      <td>0.026857</td>\n",
       "      <td>0.069481</td>\n",
       "    </tr>\n",
       "    <tr>\n",
       "      <th>456250</th>\n",
       "      <td>0.179809</td>\n",
       "      <td>0.165467</td>\n",
       "      <td>0.145753</td>\n",
       "      <td>0.065810</td>\n",
       "    </tr>\n",
       "  </tbody>\n",
       "</table>\n",
       "</div>"
      ],
      "text/plain": [
       "         best_rf  simple_xgbc  xgbc_selec_cv  xgbc_less_cv\n",
       "456221  0.079943     0.060344       0.070465      0.084255\n",
       "456222  0.089285     0.066340       0.052454      0.064304\n",
       "456223  0.054933     0.030530       0.013847      0.078065\n",
       "456224  0.049755     0.036308       0.026857      0.069481\n",
       "456250  0.179809     0.165467       0.145753      0.065810"
      ]
     },
     "execution_count": 72,
     "metadata": {},
     "output_type": "execute_result"
    }
   ],
   "source": [
    "submission_probs.tail()"
   ]
  },
  {
   "cell_type": "code",
   "execution_count": 74,
   "metadata": {},
   "outputs": [],
   "source": [
    "submission_probs.to_csv('submission_probs.csv')"
   ]
  },
  {
   "cell_type": "code",
   "execution_count": 2,
   "metadata": {},
   "outputs": [],
   "source": [
    "sub = pd.read_csv('sample_submission.csv')"
   ]
  },
  {
   "cell_type": "code",
   "execution_count": 11,
   "metadata": {},
   "outputs": [],
   "source": [
    "sub['TARGET'] = 0.1*sub_best_rf['TARGET'] + 0.3*sub_simple_xgbc['TARGET'] + 0.4*sub_xgbc_selec_cv['TARGET'] + 0.2*sub_xgbc_less_cv['TARGET']"
   ]
  },
  {
   "cell_type": "code",
   "execution_count": 12,
   "metadata": {},
   "outputs": [],
   "source": [
    "sub.to_csv('submission_weighted_addition.csv', index=False)"
   ]
  },
  {
   "cell_type": "code",
   "execution_count": null,
   "metadata": {},
   "outputs": [],
   "source": []
  }
 ],
 "metadata": {
  "kernelspec": {
   "display_name": "Python 3",
   "language": "python",
   "name": "python3"
  },
  "language_info": {
   "codemirror_mode": {
    "name": "ipython",
    "version": 3
   },
   "file_extension": ".py",
   "mimetype": "text/x-python",
   "name": "python",
   "nbconvert_exporter": "python",
   "pygments_lexer": "ipython3",
   "version": "3.6.6"
  }
 },
 "nbformat": 4,
 "nbformat_minor": 2
}
